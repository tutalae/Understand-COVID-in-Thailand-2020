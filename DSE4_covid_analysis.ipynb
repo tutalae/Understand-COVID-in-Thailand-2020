{
  "nbformat": 4,
  "nbformat_minor": 0,
  "metadata": {
    "colab": {
      "name": "DSE4_covid_analysis.ipynb",
      "provenance": [],
      "collapsed_sections": [],
      "include_colab_link": true
    },
    "kernelspec": {
      "name": "python3",
      "display_name": "Python 3"
    },
    "language_info": {
      "name": "python"
    }
  },
  "cells": [
    {
      "cell_type": "markdown",
      "metadata": {
        "id": "view-in-github",
        "colab_type": "text"
      },
      "source": [
        "<a href=\"https://colab.research.google.com/github/tutalae/COVID_MAP/blob/main/DSE4_covid_analysis.ipynb\" target=\"_parent\"><img src=\"https://colab.research.google.com/assets/colab-badge.svg\" alt=\"Open In Colab\"/></a>"
      ]
    },
    {
      "cell_type": "markdown",
      "metadata": {
        "id": "fPFc1lSzETMm"
      },
      "source": [
        "Python Basic Playlist\n",
        "\n",
        "https://www.youtube.com/playlist?list=PLAgCqpRa2bgv108WwTPAWh6fDwRyS49Vm\n",
        "\n",
        "Coding online\n",
        "\n",
        "https://edabit.com/challenge/KjCS7occ9hfu5snpb"
      ]
    },
    {
      "cell_type": "markdown",
      "metadata": {
        "id": "9oEVDJ0rD_a2"
      },
      "source": [
        "- Data type\n",
        "  - String\n",
        "  - Number\n",
        "  - List\n",
        "- Variable\n",
        "- Expression\n",
        "  - compare numbers\n",
        "  - compare strings\n",
        "- Condition\n",
        "  - if, elif, else\n",
        "- Loop\n",
        "  - for\n",
        "- Function\n",
        "- Library\n"
      ]
    },
    {
      "cell_type": "markdown",
      "metadata": {
        "id": "cpQ9byN7EZmH"
      },
      "source": [
        "# **Covid Data Analytics**"
      ]
    },
    {
      "cell_type": "markdown",
      "metadata": {
        "id": "C7-aYbvSoHVF"
      },
      "source": [
        "# 1. ติดตั้ง ตั้งค่า โหลดข้อมูลดิบ"
      ]
    },
    {
      "cell_type": "code",
      "metadata": {
        "id": "Doz1NyzbffL0"
      },
      "source": [
        "%%capture\n",
        "!pip install pygsheets"
      ],
      "execution_count": null,
      "outputs": []
    },
    {
      "cell_type": "code",
      "metadata": {
        "id": "h1D96FsK5tqP"
      },
      "source": [
        "# โค้ดในส่วนของการ setup เรียกใช้ library (โค้ดที่คนอื่นเขียนให้เราใช้)\n",
        "import pygsheets #read googlesheet\n",
        "import google.auth\n",
        "from google.colab import auth\n",
        "import warnings\n",
        "import pandas as pd\n",
        "from datetime import datetime\n",
        "import plotly.express as px \n",
        "# set maximum row to unlimit\n",
        "pd.options.display.max_rows = 50\n",
        "warnings.filterwarnings('ignore')"
      ],
      "execution_count": null,
      "outputs": []
    },
    {
      "cell_type": "code",
      "metadata": {
        "id": "B_4fBotKm__v"
      },
      "source": [
        "# โค้ดในส่วนของการเชื่อมต่อกับ google sheet\n",
        "auth.authenticate_user() #access google\n",
        "credentials, _ = google.auth.default()\n",
        "gc = pygsheets.client.Client(credentials)"
      ],
      "execution_count": null,
      "outputs": []
    },
    {
      "cell_type": "code",
      "metadata": {
        "id": "b-Cc3vmCdkdV"
      },
      "source": [
        "# โต้ดส่วนนี้เพื่อ download font ที่แสดงภาษาไทยได้\n",
        "!wget -q https://github.com/Phonbopit/sarabun-webfont/raw/master/fonts/thsarabunnew-webfont.ttf\n",
        "import matplotlib as mpl\n",
        "mpl.font_manager.fontManager.addfont('thsarabunnew-webfont.ttf')\n",
        "mpl.rc('font', family='TH Sarabun New')"
      ],
      "execution_count": null,
      "outputs": []
    },
    {
      "cell_type": "code",
      "metadata": {
        "colab": {
          "base_uri": "https://localhost:8080/",
          "height": 306
        },
        "id": "B-WDdPyq6TTd",
        "outputId": "8c1ed5cd-d589-440c-eb19-da5791b2c2c7"
      },
      "source": [
        "# Get data from google sheet\n",
        "url = 'https://docs.google.com/spreadsheets/d/1JbQje4qTUWbDAuwsSOz89JtFLd-EGzwLJjwcj4X6Tn0/edit?usp=sharing'\n",
        "sheet = gc.open_by_url(url)\n",
        "dat = sheet.sheet1.get_as_df()"
      ],
      "execution_count": null,
      "outputs": [
        {
          "output_type": "execute_result",
          "data": {
            "text/html": [
              "<div>\n",
              "<style scoped>\n",
              "    .dataframe tbody tr th:only-of-type {\n",
              "        vertical-align: middle;\n",
              "    }\n",
              "\n",
              "    .dataframe tbody tr th {\n",
              "        vertical-align: top;\n",
              "    }\n",
              "\n",
              "    .dataframe thead th {\n",
              "        text-align: right;\n",
              "    }\n",
              "</style>\n",
              "<table border=\"1\" class=\"dataframe\">\n",
              "  <thead>\n",
              "    <tr style=\"text-align: right;\">\n",
              "      <th></th>\n",
              "      <th>No.</th>\n",
              "      <th>announce_date</th>\n",
              "      <th>Notified date</th>\n",
              "      <th>sex</th>\n",
              "      <th>age</th>\n",
              "      <th>Unit</th>\n",
              "      <th>nationality</th>\n",
              "      <th>province_of_isolation</th>\n",
              "      <th>risk</th>\n",
              "      <th>province_of_onset</th>\n",
              "      <th>district_of_onset</th>\n",
              "    </tr>\n",
              "  </thead>\n",
              "  <tbody>\n",
              "    <tr>\n",
              "      <th>0</th>\n",
              "      <td>1</td>\n",
              "      <td>12/1/2020</td>\n",
              "      <td></td>\n",
              "      <td>หญิง</td>\n",
              "      <td>61</td>\n",
              "      <td>ปี</td>\n",
              "      <td>China</td>\n",
              "      <td>กรุงเทพมหานคร</td>\n",
              "      <td>คนต่างชาติเดินทางมาจากต่างประเทศ</td>\n",
              "      <td>กรุงเทพมหานคร</td>\n",
              "      <td></td>\n",
              "    </tr>\n",
              "    <tr>\n",
              "      <th>1</th>\n",
              "      <td>2</td>\n",
              "      <td>17/1/2020</td>\n",
              "      <td></td>\n",
              "      <td>หญิง</td>\n",
              "      <td>74</td>\n",
              "      <td>ปี</td>\n",
              "      <td>China</td>\n",
              "      <td>กรุงเทพมหานคร</td>\n",
              "      <td>คนต่างชาติเดินทางมาจากต่างประเทศ</td>\n",
              "      <td>กรุงเทพมหานคร</td>\n",
              "      <td></td>\n",
              "    </tr>\n",
              "    <tr>\n",
              "      <th>2</th>\n",
              "      <td>3</td>\n",
              "      <td>22/1/2020</td>\n",
              "      <td></td>\n",
              "      <td>หญิง</td>\n",
              "      <td>73</td>\n",
              "      <td>ปี</td>\n",
              "      <td>Thailand</td>\n",
              "      <td>นครปฐม</td>\n",
              "      <td>คนต่างชาติเดินทางมาจากต่างประเทศ</td>\n",
              "      <td>นครปฐม</td>\n",
              "      <td>เมือง</td>\n",
              "    </tr>\n",
              "    <tr>\n",
              "      <th>3</th>\n",
              "      <td>4</td>\n",
              "      <td>22/1/2020</td>\n",
              "      <td></td>\n",
              "      <td>ชาย</td>\n",
              "      <td>68</td>\n",
              "      <td>ปี</td>\n",
              "      <td>China</td>\n",
              "      <td>กรุงเทพมหานคร</td>\n",
              "      <td>คนต่างชาติเดินทางมาจากต่างประเทศ</td>\n",
              "      <td>กรุงเทพมหานคร</td>\n",
              "      <td></td>\n",
              "    </tr>\n",
              "    <tr>\n",
              "      <th>4</th>\n",
              "      <td>5</td>\n",
              "      <td>24/1/2020</td>\n",
              "      <td></td>\n",
              "      <td>หญิง</td>\n",
              "      <td>66</td>\n",
              "      <td>ปี</td>\n",
              "      <td>China</td>\n",
              "      <td>นนทบุรี</td>\n",
              "      <td>คนต่างชาติเดินทางมาจากต่างประเทศ</td>\n",
              "      <td>กรุงเทพมหานคร</td>\n",
              "      <td></td>\n",
              "    </tr>\n",
              "  </tbody>\n",
              "</table>\n",
              "</div>"
            ],
            "text/plain": [
              "   No. announce_date  ... province_of_onset district_of_onset\n",
              "0    1     12/1/2020  ...     กรุงเทพมหานคร                  \n",
              "1    2     17/1/2020  ...     กรุงเทพมหานคร                  \n",
              "2    3     22/1/2020  ...            นครปฐม             เมือง\n",
              "3    4     22/1/2020  ...     กรุงเทพมหานคร                  \n",
              "4    5     24/1/2020  ...     กรุงเทพมหานคร                  \n",
              "\n",
              "[5 rows x 11 columns]"
            ]
          },
          "metadata": {
            "tags": []
          },
          "execution_count": 29
        }
      ]
    },
    {
      "cell_type": "code",
      "metadata": {
        "colab": {
          "base_uri": "https://localhost:8080/",
          "height": 751
        },
        "id": "ocCVhNz1iDo-",
        "outputId": "7d1354cf-85ae-4506-979b-a7cea193ee89"
      },
      "source": [
        "#.head() เป็นฟังก์ชั่นที่ใช้แสดงข้อมูล 5 บันทัดแรก\n",
        "dat.head()"
      ],
      "execution_count": null,
      "outputs": [
        {
          "output_type": "execute_result",
          "data": {
            "text/html": [
              "<div>\n",
              "<style scoped>\n",
              "    .dataframe tbody tr th:only-of-type {\n",
              "        vertical-align: middle;\n",
              "    }\n",
              "\n",
              "    .dataframe tbody tr th {\n",
              "        vertical-align: top;\n",
              "    }\n",
              "\n",
              "    .dataframe thead th {\n",
              "        text-align: right;\n",
              "    }\n",
              "</style>\n",
              "<table border=\"1\" class=\"dataframe\">\n",
              "  <thead>\n",
              "    <tr style=\"text-align: right;\">\n",
              "      <th></th>\n",
              "      <th>No.</th>\n",
              "      <th>announce_date</th>\n",
              "      <th>Notified date</th>\n",
              "      <th>sex</th>\n",
              "      <th>age</th>\n",
              "      <th>Unit</th>\n",
              "      <th>nationality</th>\n",
              "      <th>province_of_isolation</th>\n",
              "      <th>risk</th>\n",
              "      <th>province_of_onset</th>\n",
              "      <th>district_of_onset</th>\n",
              "      <th>date</th>\n",
              "    </tr>\n",
              "  </thead>\n",
              "  <tbody>\n",
              "    <tr>\n",
              "      <th>0</th>\n",
              "      <td>1</td>\n",
              "      <td>12/1/2020</td>\n",
              "      <td></td>\n",
              "      <td>หญิง</td>\n",
              "      <td>61.0</td>\n",
              "      <td>ปี</td>\n",
              "      <td>China</td>\n",
              "      <td>กรุงเทพมหานคร</td>\n",
              "      <td>คนต่างชาติเดินทางมาจากต่างประเทศ</td>\n",
              "      <td>กรุงเทพมหานคร</td>\n",
              "      <td></td>\n",
              "      <td>2020-01-12</td>\n",
              "    </tr>\n",
              "    <tr>\n",
              "      <th>1</th>\n",
              "      <td>2</td>\n",
              "      <td>17/1/2020</td>\n",
              "      <td></td>\n",
              "      <td>หญิง</td>\n",
              "      <td>74.0</td>\n",
              "      <td>ปี</td>\n",
              "      <td>China</td>\n",
              "      <td>กรุงเทพมหานคร</td>\n",
              "      <td>คนต่างชาติเดินทางมาจากต่างประเทศ</td>\n",
              "      <td>กรุงเทพมหานคร</td>\n",
              "      <td></td>\n",
              "      <td>2020-01-17</td>\n",
              "    </tr>\n",
              "    <tr>\n",
              "      <th>2</th>\n",
              "      <td>3</td>\n",
              "      <td>22/1/2020</td>\n",
              "      <td></td>\n",
              "      <td>หญิง</td>\n",
              "      <td>73.0</td>\n",
              "      <td>ปี</td>\n",
              "      <td>Thailand</td>\n",
              "      <td>นครปฐม</td>\n",
              "      <td>คนต่างชาติเดินทางมาจากต่างประเทศ</td>\n",
              "      <td>นครปฐม</td>\n",
              "      <td>เมือง</td>\n",
              "      <td>2020-01-22</td>\n",
              "    </tr>\n",
              "    <tr>\n",
              "      <th>3</th>\n",
              "      <td>4</td>\n",
              "      <td>22/1/2020</td>\n",
              "      <td></td>\n",
              "      <td>ชาย</td>\n",
              "      <td>68.0</td>\n",
              "      <td>ปี</td>\n",
              "      <td>China</td>\n",
              "      <td>กรุงเทพมหานคร</td>\n",
              "      <td>คนต่างชาติเดินทางมาจากต่างประเทศ</td>\n",
              "      <td>กรุงเทพมหานคร</td>\n",
              "      <td></td>\n",
              "      <td>2020-01-22</td>\n",
              "    </tr>\n",
              "    <tr>\n",
              "      <th>4</th>\n",
              "      <td>5</td>\n",
              "      <td>24/1/2020</td>\n",
              "      <td></td>\n",
              "      <td>หญิง</td>\n",
              "      <td>66.0</td>\n",
              "      <td>ปี</td>\n",
              "      <td>China</td>\n",
              "      <td>นนทบุรี</td>\n",
              "      <td>คนต่างชาติเดินทางมาจากต่างประเทศ</td>\n",
              "      <td>กรุงเทพมหานคร</td>\n",
              "      <td></td>\n",
              "      <td>2020-01-24</td>\n",
              "    </tr>\n",
              "  </tbody>\n",
              "</table>\n",
              "</div>"
            ],
            "text/plain": [
              "   No. announce_date  ... district_of_onset       date\n",
              "0    1     12/1/2020  ...                   2020-01-12\n",
              "1    2     17/1/2020  ...                   2020-01-17\n",
              "2    3     22/1/2020  ...             เมือง 2020-01-22\n",
              "3    4     22/1/2020  ...                   2020-01-22\n",
              "4    5     24/1/2020  ...                   2020-01-24\n",
              "\n",
              "[5 rows x 12 columns]"
            ]
          },
          "metadata": {
            "tags": []
          },
          "execution_count": 55
        }
      ]
    },
    {
      "cell_type": "markdown",
      "metadata": {
        "id": "6RRvfIssohAj"
      },
      "source": [
        "# 2. ดูสถิติเบื้องต้น"
      ]
    },
    {
      "cell_type": "code",
      "metadata": {
        "colab": {
          "base_uri": "https://localhost:8080/",
          "height": 297
        },
        "id": "yhaiCRli7eRP",
        "outputId": "49873846-8f6c-4773-d754-8cd1a90f023a"
      },
      "source": [
        "#.describe() ใช้แสดงสถิติของข้อมูล\n",
        "dat.describe()"
      ],
      "execution_count": null,
      "outputs": [
        {
          "output_type": "execute_result",
          "data": {
            "text/html": [
              "<div>\n",
              "<style scoped>\n",
              "    .dataframe tbody tr th:only-of-type {\n",
              "        vertical-align: middle;\n",
              "    }\n",
              "\n",
              "    .dataframe tbody tr th {\n",
              "        vertical-align: top;\n",
              "    }\n",
              "\n",
              "    .dataframe thead th {\n",
              "        text-align: right;\n",
              "    }\n",
              "</style>\n",
              "<table border=\"1\" class=\"dataframe\">\n",
              "  <thead>\n",
              "    <tr style=\"text-align: right;\">\n",
              "      <th></th>\n",
              "      <th>No.</th>\n",
              "      <th>age</th>\n",
              "    </tr>\n",
              "  </thead>\n",
              "  <tbody>\n",
              "    <tr>\n",
              "      <th>count</th>\n",
              "      <td>439180.000000</td>\n",
              "      <td>396510.000000</td>\n",
              "    </tr>\n",
              "    <tr>\n",
              "      <th>mean</th>\n",
              "      <td>219590.500000</td>\n",
              "      <td>35.499638</td>\n",
              "    </tr>\n",
              "    <tr>\n",
              "      <th>std</th>\n",
              "      <td>126780.489948</td>\n",
              "      <td>16.026390</td>\n",
              "    </tr>\n",
              "    <tr>\n",
              "      <th>min</th>\n",
              "      <td>1.000000</td>\n",
              "      <td>1.000000</td>\n",
              "    </tr>\n",
              "    <tr>\n",
              "      <th>25%</th>\n",
              "      <td>109795.750000</td>\n",
              "      <td>25.000000</td>\n",
              "    </tr>\n",
              "    <tr>\n",
              "      <th>50%</th>\n",
              "      <td>219590.500000</td>\n",
              "      <td>34.000000</td>\n",
              "    </tr>\n",
              "    <tr>\n",
              "      <th>75%</th>\n",
              "      <td>329385.250000</td>\n",
              "      <td>46.000000</td>\n",
              "    </tr>\n",
              "    <tr>\n",
              "      <th>max</th>\n",
              "      <td>439180.000000</td>\n",
              "      <td>108.000000</td>\n",
              "    </tr>\n",
              "  </tbody>\n",
              "</table>\n",
              "</div>"
            ],
            "text/plain": [
              "                 No.            age\n",
              "count  439180.000000  396510.000000\n",
              "mean   219590.500000      35.499638\n",
              "std    126780.489948      16.026390\n",
              "min         1.000000       1.000000\n",
              "25%    109795.750000      25.000000\n",
              "50%    219590.500000      34.000000\n",
              "75%    329385.250000      46.000000\n",
              "max    439180.000000     108.000000"
            ]
          },
          "metadata": {
            "tags": []
          },
          "execution_count": 58
        }
      ]
    },
    {
      "cell_type": "code",
      "metadata": {
        "colab": {
          "base_uri": "https://localhost:8080/",
          "height": 341
        },
        "id": "vm2YHz7BgL8M",
        "outputId": "91e62bce-e507-4a39-bed8-f6ad6fdee1b7"
      },
      "source": [
        "#.astype('int') เป็นฟังก์ชั่นที่ใช้แปลงค่าเป็นตัวเลข แต่เกิดปัญหาเพราะมีข้อมูลบางตัวแปลงไม่ได้\n",
        "dat['age'].astype('int')"
      ],
      "execution_count": null,
      "outputs": [
        {
          "output_type": "error",
          "ename": "ValueError",
          "evalue": "ignored",
          "traceback": [
            "\u001b[0;31m---------------------------------------------------------------------------\u001b[0m",
            "\u001b[0;31mValueError\u001b[0m                                Traceback (most recent call last)",
            "\u001b[0;32m<ipython-input-59-2ae5a58c2e55>\u001b[0m in \u001b[0;36m<module>\u001b[0;34m()\u001b[0m\n\u001b[1;32m      1\u001b[0m \u001b[0;31m#.astype('int') เป็นฟังก์ชั่นที่ใช้แปลงค่าเป็นตัวเลข แต่เกิดปัญหาเพราะมีข้อมูลบางตัวแปลงไม่ได้\u001b[0m\u001b[0;34m\u001b[0m\u001b[0;34m\u001b[0m\u001b[0;34m\u001b[0m\u001b[0m\n\u001b[0;32m----> 2\u001b[0;31m \u001b[0mdat\u001b[0m\u001b[0;34m[\u001b[0m\u001b[0;34m'age'\u001b[0m\u001b[0;34m]\u001b[0m\u001b[0;34m.\u001b[0m\u001b[0mastype\u001b[0m\u001b[0;34m(\u001b[0m\u001b[0;34m'int'\u001b[0m\u001b[0;34m)\u001b[0m\u001b[0;34m\u001b[0m\u001b[0;34m\u001b[0m\u001b[0m\n\u001b[0m",
            "\u001b[0;32m/usr/local/lib/python3.7/dist-packages/pandas/core/generic.py\u001b[0m in \u001b[0;36mastype\u001b[0;34m(self, dtype, copy, errors)\u001b[0m\n\u001b[1;32m   5546\u001b[0m         \u001b[0;32melse\u001b[0m\u001b[0;34m:\u001b[0m\u001b[0;34m\u001b[0m\u001b[0;34m\u001b[0m\u001b[0m\n\u001b[1;32m   5547\u001b[0m             \u001b[0;31m# else, only a single dtype is given\u001b[0m\u001b[0;34m\u001b[0m\u001b[0;34m\u001b[0m\u001b[0;34m\u001b[0m\u001b[0m\n\u001b[0;32m-> 5548\u001b[0;31m             \u001b[0mnew_data\u001b[0m \u001b[0;34m=\u001b[0m \u001b[0mself\u001b[0m\u001b[0;34m.\u001b[0m\u001b[0m_mgr\u001b[0m\u001b[0;34m.\u001b[0m\u001b[0mastype\u001b[0m\u001b[0;34m(\u001b[0m\u001b[0mdtype\u001b[0m\u001b[0;34m=\u001b[0m\u001b[0mdtype\u001b[0m\u001b[0;34m,\u001b[0m \u001b[0mcopy\u001b[0m\u001b[0;34m=\u001b[0m\u001b[0mcopy\u001b[0m\u001b[0;34m,\u001b[0m \u001b[0merrors\u001b[0m\u001b[0;34m=\u001b[0m\u001b[0merrors\u001b[0m\u001b[0;34m,\u001b[0m\u001b[0;34m)\u001b[0m\u001b[0;34m\u001b[0m\u001b[0;34m\u001b[0m\u001b[0m\n\u001b[0m\u001b[1;32m   5549\u001b[0m             \u001b[0;32mreturn\u001b[0m \u001b[0mself\u001b[0m\u001b[0;34m.\u001b[0m\u001b[0m_constructor\u001b[0m\u001b[0;34m(\u001b[0m\u001b[0mnew_data\u001b[0m\u001b[0;34m)\u001b[0m\u001b[0;34m.\u001b[0m\u001b[0m__finalize__\u001b[0m\u001b[0;34m(\u001b[0m\u001b[0mself\u001b[0m\u001b[0;34m,\u001b[0m \u001b[0mmethod\u001b[0m\u001b[0;34m=\u001b[0m\u001b[0;34m\"astype\"\u001b[0m\u001b[0;34m)\u001b[0m\u001b[0;34m\u001b[0m\u001b[0;34m\u001b[0m\u001b[0m\n\u001b[1;32m   5550\u001b[0m \u001b[0;34m\u001b[0m\u001b[0m\n",
            "\u001b[0;32m/usr/local/lib/python3.7/dist-packages/pandas/core/internals/managers.py\u001b[0m in \u001b[0;36mastype\u001b[0;34m(self, dtype, copy, errors)\u001b[0m\n\u001b[1;32m    602\u001b[0m         \u001b[0mself\u001b[0m\u001b[0;34m,\u001b[0m \u001b[0mdtype\u001b[0m\u001b[0;34m,\u001b[0m \u001b[0mcopy\u001b[0m\u001b[0;34m:\u001b[0m \u001b[0mbool\u001b[0m \u001b[0;34m=\u001b[0m \u001b[0;32mFalse\u001b[0m\u001b[0;34m,\u001b[0m \u001b[0merrors\u001b[0m\u001b[0;34m:\u001b[0m \u001b[0mstr\u001b[0m \u001b[0;34m=\u001b[0m \u001b[0;34m\"raise\"\u001b[0m\u001b[0;34m\u001b[0m\u001b[0;34m\u001b[0m\u001b[0m\n\u001b[1;32m    603\u001b[0m     ) -> \"BlockManager\":\n\u001b[0;32m--> 604\u001b[0;31m         \u001b[0;32mreturn\u001b[0m \u001b[0mself\u001b[0m\u001b[0;34m.\u001b[0m\u001b[0mapply\u001b[0m\u001b[0;34m(\u001b[0m\u001b[0;34m\"astype\"\u001b[0m\u001b[0;34m,\u001b[0m \u001b[0mdtype\u001b[0m\u001b[0;34m=\u001b[0m\u001b[0mdtype\u001b[0m\u001b[0;34m,\u001b[0m \u001b[0mcopy\u001b[0m\u001b[0;34m=\u001b[0m\u001b[0mcopy\u001b[0m\u001b[0;34m,\u001b[0m \u001b[0merrors\u001b[0m\u001b[0;34m=\u001b[0m\u001b[0merrors\u001b[0m\u001b[0;34m)\u001b[0m\u001b[0;34m\u001b[0m\u001b[0;34m\u001b[0m\u001b[0m\n\u001b[0m\u001b[1;32m    605\u001b[0m \u001b[0;34m\u001b[0m\u001b[0m\n\u001b[1;32m    606\u001b[0m     def convert(\n",
            "\u001b[0;32m/usr/local/lib/python3.7/dist-packages/pandas/core/internals/managers.py\u001b[0m in \u001b[0;36mapply\u001b[0;34m(self, f, align_keys, **kwargs)\u001b[0m\n\u001b[1;32m    407\u001b[0m                 \u001b[0mapplied\u001b[0m \u001b[0;34m=\u001b[0m \u001b[0mb\u001b[0m\u001b[0;34m.\u001b[0m\u001b[0mapply\u001b[0m\u001b[0;34m(\u001b[0m\u001b[0mf\u001b[0m\u001b[0;34m,\u001b[0m \u001b[0;34m**\u001b[0m\u001b[0mkwargs\u001b[0m\u001b[0;34m)\u001b[0m\u001b[0;34m\u001b[0m\u001b[0;34m\u001b[0m\u001b[0m\n\u001b[1;32m    408\u001b[0m             \u001b[0;32melse\u001b[0m\u001b[0;34m:\u001b[0m\u001b[0;34m\u001b[0m\u001b[0;34m\u001b[0m\u001b[0m\n\u001b[0;32m--> 409\u001b[0;31m                 \u001b[0mapplied\u001b[0m \u001b[0;34m=\u001b[0m \u001b[0mgetattr\u001b[0m\u001b[0;34m(\u001b[0m\u001b[0mb\u001b[0m\u001b[0;34m,\u001b[0m \u001b[0mf\u001b[0m\u001b[0;34m)\u001b[0m\u001b[0;34m(\u001b[0m\u001b[0;34m**\u001b[0m\u001b[0mkwargs\u001b[0m\u001b[0;34m)\u001b[0m\u001b[0;34m\u001b[0m\u001b[0;34m\u001b[0m\u001b[0m\n\u001b[0m\u001b[1;32m    410\u001b[0m             \u001b[0mresult_blocks\u001b[0m \u001b[0;34m=\u001b[0m \u001b[0m_extend_blocks\u001b[0m\u001b[0;34m(\u001b[0m\u001b[0mapplied\u001b[0m\u001b[0;34m,\u001b[0m \u001b[0mresult_blocks\u001b[0m\u001b[0;34m)\u001b[0m\u001b[0;34m\u001b[0m\u001b[0;34m\u001b[0m\u001b[0m\n\u001b[1;32m    411\u001b[0m \u001b[0;34m\u001b[0m\u001b[0m\n",
            "\u001b[0;32m/usr/local/lib/python3.7/dist-packages/pandas/core/internals/blocks.py\u001b[0m in \u001b[0;36mastype\u001b[0;34m(self, dtype, copy, errors)\u001b[0m\n\u001b[1;32m    593\u001b[0m             \u001b[0mvals1d\u001b[0m \u001b[0;34m=\u001b[0m \u001b[0mvalues\u001b[0m\u001b[0;34m.\u001b[0m\u001b[0mravel\u001b[0m\u001b[0;34m(\u001b[0m\u001b[0;34m)\u001b[0m\u001b[0;34m\u001b[0m\u001b[0;34m\u001b[0m\u001b[0m\n\u001b[1;32m    594\u001b[0m             \u001b[0;32mtry\u001b[0m\u001b[0;34m:\u001b[0m\u001b[0;34m\u001b[0m\u001b[0;34m\u001b[0m\u001b[0m\n\u001b[0;32m--> 595\u001b[0;31m                 \u001b[0mvalues\u001b[0m \u001b[0;34m=\u001b[0m \u001b[0mastype_nansafe\u001b[0m\u001b[0;34m(\u001b[0m\u001b[0mvals1d\u001b[0m\u001b[0;34m,\u001b[0m \u001b[0mdtype\u001b[0m\u001b[0;34m,\u001b[0m \u001b[0mcopy\u001b[0m\u001b[0;34m=\u001b[0m\u001b[0;32mTrue\u001b[0m\u001b[0;34m)\u001b[0m\u001b[0;34m\u001b[0m\u001b[0;34m\u001b[0m\u001b[0m\n\u001b[0m\u001b[1;32m    596\u001b[0m             \u001b[0;32mexcept\u001b[0m \u001b[0;34m(\u001b[0m\u001b[0mValueError\u001b[0m\u001b[0;34m,\u001b[0m \u001b[0mTypeError\u001b[0m\u001b[0;34m)\u001b[0m\u001b[0;34m:\u001b[0m\u001b[0;34m\u001b[0m\u001b[0;34m\u001b[0m\u001b[0m\n\u001b[1;32m    597\u001b[0m                 \u001b[0;31m# e.g. astype_nansafe can fail on object-dtype of strings\u001b[0m\u001b[0;34m\u001b[0m\u001b[0;34m\u001b[0m\u001b[0;34m\u001b[0m\u001b[0m\n",
            "\u001b[0;32m/usr/local/lib/python3.7/dist-packages/pandas/core/dtypes/cast.py\u001b[0m in \u001b[0;36mastype_nansafe\u001b[0;34m(arr, dtype, copy, skipna)\u001b[0m\n\u001b[1;32m    966\u001b[0m \u001b[0;34m\u001b[0m\u001b[0m\n\u001b[1;32m    967\u001b[0m         \u001b[0;32mif\u001b[0m \u001b[0;32mnot\u001b[0m \u001b[0mnp\u001b[0m\u001b[0;34m.\u001b[0m\u001b[0misfinite\u001b[0m\u001b[0;34m(\u001b[0m\u001b[0marr\u001b[0m\u001b[0;34m)\u001b[0m\u001b[0;34m.\u001b[0m\u001b[0mall\u001b[0m\u001b[0;34m(\u001b[0m\u001b[0;34m)\u001b[0m\u001b[0;34m:\u001b[0m\u001b[0;34m\u001b[0m\u001b[0;34m\u001b[0m\u001b[0m\n\u001b[0;32m--> 968\u001b[0;31m             \u001b[0;32mraise\u001b[0m \u001b[0mValueError\u001b[0m\u001b[0;34m(\u001b[0m\u001b[0;34m\"Cannot convert non-finite values (NA or inf) to integer\"\u001b[0m\u001b[0;34m)\u001b[0m\u001b[0;34m\u001b[0m\u001b[0;34m\u001b[0m\u001b[0m\n\u001b[0m\u001b[1;32m    969\u001b[0m \u001b[0;34m\u001b[0m\u001b[0m\n\u001b[1;32m    970\u001b[0m     \u001b[0;32melif\u001b[0m \u001b[0mis_object_dtype\u001b[0m\u001b[0;34m(\u001b[0m\u001b[0marr\u001b[0m\u001b[0;34m)\u001b[0m\u001b[0;34m:\u001b[0m\u001b[0;34m\u001b[0m\u001b[0;34m\u001b[0m\u001b[0m\n",
            "\u001b[0;31mValueError\u001b[0m: Cannot convert non-finite values (NA or inf) to integer"
          ]
        }
      ]
    },
    {
      "cell_type": "code",
      "metadata": {
        "id": "cQdCugQege_B"
      },
      "source": [
        "# จะต้องเรียกใช้ฟังก์ชั่น .to_numeric แทน\n",
        "dat['age'] = pd.to_numeric(dat['age'], errors='coerce')"
      ],
      "execution_count": null,
      "outputs": []
    },
    {
      "cell_type": "code",
      "metadata": {
        "colab": {
          "base_uri": "https://localhost:8080/",
          "height": 297
        },
        "id": "mr8RODAMgpm5",
        "outputId": "6bcafec9-8ed2-4c13-8665-d59a26cfa128"
      },
      "source": [
        "dat.describe()"
      ],
      "execution_count": null,
      "outputs": [
        {
          "output_type": "execute_result",
          "data": {
            "text/html": [
              "<div>\n",
              "<style scoped>\n",
              "    .dataframe tbody tr th:only-of-type {\n",
              "        vertical-align: middle;\n",
              "    }\n",
              "\n",
              "    .dataframe tbody tr th {\n",
              "        vertical-align: top;\n",
              "    }\n",
              "\n",
              "    .dataframe thead th {\n",
              "        text-align: right;\n",
              "    }\n",
              "</style>\n",
              "<table border=\"1\" class=\"dataframe\">\n",
              "  <thead>\n",
              "    <tr style=\"text-align: right;\">\n",
              "      <th></th>\n",
              "      <th>No.</th>\n",
              "      <th>age</th>\n",
              "    </tr>\n",
              "  </thead>\n",
              "  <tbody>\n",
              "    <tr>\n",
              "      <th>count</th>\n",
              "      <td>439180.000000</td>\n",
              "      <td>396510.000000</td>\n",
              "    </tr>\n",
              "    <tr>\n",
              "      <th>mean</th>\n",
              "      <td>219590.500000</td>\n",
              "      <td>35.499638</td>\n",
              "    </tr>\n",
              "    <tr>\n",
              "      <th>std</th>\n",
              "      <td>126780.489948</td>\n",
              "      <td>16.026390</td>\n",
              "    </tr>\n",
              "    <tr>\n",
              "      <th>min</th>\n",
              "      <td>1.000000</td>\n",
              "      <td>1.000000</td>\n",
              "    </tr>\n",
              "    <tr>\n",
              "      <th>25%</th>\n",
              "      <td>109795.750000</td>\n",
              "      <td>25.000000</td>\n",
              "    </tr>\n",
              "    <tr>\n",
              "      <th>50%</th>\n",
              "      <td>219590.500000</td>\n",
              "      <td>34.000000</td>\n",
              "    </tr>\n",
              "    <tr>\n",
              "      <th>75%</th>\n",
              "      <td>329385.250000</td>\n",
              "      <td>46.000000</td>\n",
              "    </tr>\n",
              "    <tr>\n",
              "      <th>max</th>\n",
              "      <td>439180.000000</td>\n",
              "      <td>108.000000</td>\n",
              "    </tr>\n",
              "  </tbody>\n",
              "</table>\n",
              "</div>"
            ],
            "text/plain": [
              "                 No.            age\n",
              "count  439180.000000  396510.000000\n",
              "mean   219590.500000      35.499638\n",
              "std    126780.489948      16.026390\n",
              "min         1.000000       1.000000\n",
              "25%    109795.750000      25.000000\n",
              "50%    219590.500000      34.000000\n",
              "75%    329385.250000      46.000000\n",
              "max    439180.000000     108.000000"
            ]
          },
          "metadata": {
            "tags": []
          },
          "execution_count": 61
        }
      ]
    },
    {
      "cell_type": "code",
      "metadata": {
        "colab": {
          "base_uri": "https://localhost:8080/",
          "height": 265
        },
        "id": "54Hz1-zFqYMd",
        "outputId": "8f521ada-e682-467d-be7a-6919cefb2f39"
      },
      "source": [
        "#histogram\n",
        "dat['age'].hist(figsize=(20,5))"
      ],
      "execution_count": null,
      "outputs": [
        {
          "output_type": "execute_result",
          "data": {
            "text/plain": [
              "<matplotlib.axes._subplots.AxesSubplot at 0x7f1d49c6ea10>"
            ]
          },
          "metadata": {
            "tags": []
          },
          "execution_count": 63
        },
        {
          "output_type": "display_data",
          "data": {
            "image/png": "[encoded data removed]",
            "text/plain": [
              "<Figure size 1440x360 with 1 Axes>"
            ]
          },
          "metadata": {
            "tags": [],
            "needs_background": "light"
          }
        }
      ]
    },
    {
      "cell_type": "code",
      "metadata": {
        "colab": {
          "base_uri": "https://localhost:8080/"
        },
        "id": "CbCgKt-YqnkW",
        "outputId": "02fbe8ca-e039-49df-be8e-e49d57c450e8"
      },
      "source": [
        "dat['sex'].value_counts()"
      ],
      "execution_count": null,
      "outputs": [
        {
          "output_type": "execute_result",
          "data": {
            "text/plain": [
              "ชาย     207149\n",
              "หญิง    204600\n",
              "         27430\n",
              "นาย          1\n",
              "Name: sex, dtype: int64"
            ]
          },
          "metadata": {
            "tags": []
          },
          "execution_count": 67
        }
      ]
    },
    {
      "cell_type": "code",
      "metadata": {
        "colab": {
          "base_uri": "https://localhost:8080/",
          "height": 274
        },
        "id": "hnwZvpi77XmL",
        "outputId": "a4d0f803-1615-4b1a-ab3d-f42cd9211557"
      },
      "source": [
        "dat['sex'].value_counts().plot.bar().grid()"
      ],
      "execution_count": null,
      "outputs": [
        {
          "output_type": "display_data",
          "data": {
            "image/png": "[encoded data removed]",
            "text/plain": [
              "<Figure size 432x288 with 1 Axes>"
            ]
          },
          "metadata": {
            "tags": [],
            "needs_background": "light"
          }
        }
      ]
    },
    {
      "cell_type": "code",
      "metadata": {
        "id": "h7XG54vx7m9S"
      },
      "source": [
        "import numpy as np\n",
        "fdat = dat[dat['sex']=='หญิง']['age']\n",
        "mdat = dat[dat['sex']=='ชาย']['age']\n",
        "fcount, division = np.histogram(fdat,range=(0,100),bins=20)\n",
        "mcount, division = np.histogram(mdat,range=(0,100),bins=20)"
      ],
      "execution_count": null,
      "outputs": []
    },
    {
      "cell_type": "code",
      "metadata": {
        "colab": {
          "base_uri": "https://localhost:8080/",
          "height": 321
        },
        "id": "XRsUSb-A8QTE",
        "outputId": "71f9660b-dc79-414a-a49f-164a93905bee"
      },
      "source": [
        "fmdat = pd.DataFrame()\n",
        "fmdat['mcount'] = mcount\n",
        "fmdat['fcount'] = fcount\n",
        "fmdat.index = range(0,100,5)\n",
        "fmdat.plot.bar(figsize=(20,5)).grid()"
      ],
      "execution_count": null,
      "outputs": [
        {
          "output_type": "display_data",
          "data": {
            "image/png": "[encoded data removed]",
            "text/plain": [
              "<Figure size 1440x360 with 1 Axes>"
            ]
          },
          "metadata": {
            "tags": [],
            "needs_background": "light"
          }
        }
      ]
    },
    {
      "cell_type": "code",
      "metadata": {
        "id": "2_iUCPmq_WGK"
      },
      "source": [
        "clusdat = dat[['risk','date','province_of_onset']]"
      ],
      "execution_count": null,
      "outputs": []
    },
    {
      "cell_type": "code",
      "metadata": {
        "id": "2DsrPglH9rTp"
      },
      "source": [
        "clusres = clusdat['risk'].value_counts()\n",
        "clusres = pd.DataFrame(clusres)\n",
        "clusres['cluster'] = clusres.index\n",
        "clusres.columns = ['count','cluster']"
      ],
      "execution_count": null,
      "outputs": []
    },
    {
      "cell_type": "code",
      "metadata": {
        "colab": {
          "base_uri": "https://localhost:8080/",
          "height": 542
        },
        "id": "-J-kKUGG-IB-",
        "outputId": "7b657cef-2f5e-4408-a4dc-b6900c85d19e"
      },
      "source": [
        "px.bar(clusres, x='cluster', y='count')"
      ],
      "execution_count": null,
      "outputs": [
        {
          "output_type": "display_data",
          "data": {
            "text/html": [
              "<html>\n",
              "<head><meta charset=\"utf-8\" /></head>\n",
              "<body>\n",
              "    <div>\n",
              "            <script src=\"https://cdnjs.cloudflare.com/ajax/libs/mathjax/2.7.5/MathJax.js?config=TeX-AMS-MML_SVG\"></script><script type=\"text/javascript\">if (window.MathJax) {MathJax.Hub.Config({SVG: {font: \"STIX-Web\"}});}</script>\n",
              "                <script type=\"text/javascript\">window.PlotlyConfig = {MathJaxConfig: 'local'};</script>\n",
              "        <script src=\"https://cdn.plot.ly/plotly-latest.min.js\"></script>    \n",
              "            <div id=\"c7540036-6c52-4fef-b785-d1d023004d76\" class=\"plotly-graph-div\" style=\"height:525px; width:100%;\"></div>\n",
              "            <script type=\"text/javascript\">\n",
              "                \n",
              "                    window.PLOTLYENV=window.PLOTLYENV || {};\n",
              "                    \n",
              "                if (document.getElementById(\"c7540036-6c52-4fef-b785-d1d023004d76\")) {\n",
              "                    Plotly.newPlot(\n",
              "                        'c7540036-6c52-4fef-b785-d1d023004d76',\n",
              "                        [{\"alignmentgroup\": \"True\", \"hoverlabel\": {\"namelength\": 0}, \"hovertemplate\": \"cluster=%{x}<br>count=%{y}\", \"legendgroup\": \"\", \"marker\": {\"color\": \"#636efa\"}, \"name\": \"\", \"offsetgroup\": \"\", \"orientation\": \"v\", \"showlegend\": false, \"textposition\": \"auto\", \"type\": \"bar\", \"x\": [\"\\u0e2a\\u0e31\\u0e21\\u0e1c\\u0e31\\u0e2a\\u0e43\\u0e01\\u0e25\\u0e49\\u0e0a\\u0e34\\u0e14\\u0e01\\u0e31\\u0e1a\\u0e1c\\u0e39\\u0e49\\u0e1b\\u0e48\\u0e27\\u0e22\\u0e22\\u0e37\\u0e19\\u0e22\\u0e31\\u0e19\\u0e23\\u0e32\\u0e22\\u0e01\\u0e48\\u0e2d\\u0e19\\u0e2b\\u0e19\\u0e49\\u0e32\\u0e19\\u0e35\\u0e49\", \"\\u0e01\\u0e32\\u0e23\\u0e04\\u0e49\\u0e19\\u0e2b\\u0e32\\u0e1c\\u0e39\\u0e49\\u0e1b\\u0e48\\u0e27\\u0e22\\u0e40\\u0e0a\\u0e34\\u0e07\\u0e23\\u0e38\\u0e01\\u0e41\\u0e25\\u0e30\\u0e04\\u0e49\\u0e19\\u0e2b\\u0e32\\u0e1c\\u0e39\\u0e49\\u0e15\\u0e34\\u0e14\\u0e40\\u0e0a\\u0e37\\u0e49\\u0e2d\\u0e43\\u0e19\\u0e0a\\u0e38\\u0e21\\u0e0a\\u0e19\", \"\\u0e2d\\u0e22\\u0e39\\u0e48\\u0e23\\u0e30\\u0e2b\\u0e27\\u0e48\\u0e32\\u0e07\\u0e01\\u0e32\\u0e23\\u0e2a\\u0e2d\\u0e1a\\u0e2a\\u0e27\\u0e19\", \"\\u0e2d\\u0e37\\u0e48\\u0e19\\u0e46\", \"\\u0e17\\u0e31\\u0e13\\u0e11\\u0e2a\\u0e16\\u0e32\\u0e19/\\u0e40\\u0e23\\u0e37\\u0e2d\\u0e19\\u0e08\\u0e33\", \"\\u0e2a\\u0e16\\u0e32\\u0e19\\u0e17\\u0e35\\u0e48\\u0e17\\u0e33\\u0e07\\u0e32\\u0e19\", \"Cluster \\u0e2a\\u0e21\\u0e38\\u0e17\\u0e23\\u0e2a\\u0e32\\u0e04\\u0e23\", \"\\u0e44\\u0e1b\\u0e2a\\u0e16\\u0e32\\u0e19\\u0e17\\u0e35\\u0e48\\u0e0a\\u0e38\\u0e21\\u0e0a\\u0e19 \\u0e40\\u0e0a\\u0e48\\u0e19 \\u0e15\\u0e25\\u0e32\\u0e14\\u0e19\\u0e31\\u0e14 \\u0e2a\\u0e16\\u0e32\\u0e19\\u0e17\\u0e35\\u0e48\\u0e17\\u0e48\\u0e2d\\u0e07\\u0e40\\u0e17\\u0e35\\u0e48\\u0e22\\u0e27\", \"\\u0e2a\\u0e16\\u0e32\\u0e19\\u0e1a\\u0e31\\u0e19\\u0e40\\u0e17\\u0e34\\u0e07\", \"\\u0e23\\u0e30\\u0e1a\\u0e38\\u0e44\\u0e21\\u0e48\\u0e44\\u0e14\\u0e49\", \"Cluster \\u0e40\\u0e23\\u0e37\\u0e2d\\u0e19\\u0e08\\u0e33\\u0e1e\\u0e34\\u0e40\\u0e28\\u0e29\\u0e01\\u0e23\\u0e38\\u0e07\\u0e40\\u0e17\\u0e1e\", \"State Quarantine\", \"\\u0e1a\\u0e38\\u0e04\\u0e25\\u0e32\\u0e01\\u0e23\\u0e14\\u0e49\\u0e32\\u0e19\\u0e01\\u0e32\\u0e23\\u0e41\\u0e1e\\u0e17\\u0e22\\u0e4c\\u0e41\\u0e25\\u0e30\\u0e2a\\u0e32\\u0e18\\u0e32\\u0e23\\u0e13\\u0e2a\\u0e38\\u0e02\", \"\\u0e2d\\u0e32\\u0e0a\\u0e35\\u0e1e\\u0e40\\u0e2a\\u0e35\\u0e48\\u0e22\\u0e07 \\u0e40\\u0e0a\\u0e48\\u0e19 \\u0e17\\u0e33\\u0e07\\u0e32\\u0e19\\u0e43\\u0e19\\u0e2a\\u0e16\\u0e32\\u0e19\\u0e17\\u0e35\\u0e48\\u0e41\\u0e2d\\u0e2d\\u0e31\\u0e14 \\u0e2b\\u0e23\\u0e37\\u0e2d\\u0e17\\u0e33\\u0e07\\u0e32\\u0e19\\u0e43\\u0e01\\u0e25\\u0e49\\u0e0a\\u0e34\\u0e14\\u0e2a\\u0e31\\u0e21\\u0e1c\\u0e31\\u0e2a\\u0e0a\\u0e32\\u0e27\\u0e15\\u0e48\\u0e32\\u0e07\\u0e0a\\u0e32\\u0e15\\u0e34 \\u0e40\\u0e1b\\u0e47\\u0e19\\u0e15\\u0e49\\u0e19\", \"\\u0e1c\\u0e39\\u0e49\\u0e17\\u0e35\\u0e48\\u0e40\\u0e14\\u0e34\\u0e19\\u0e17\\u0e32\\u0e07\\u0e21\\u0e32\\u0e08\\u0e32\\u0e01\\u0e15\\u0e48\\u0e32\\u0e07\\u0e1b\\u0e23\\u0e30\\u0e40\\u0e17\\u0e28 \\u0e41\\u0e25\\u0e30\\u0e40\\u0e02\\u0e49\\u0e32 ASQ/ALQ\", \"Cluster \\u0e1c\\u0e31\\u0e1a Thonglor\", \"\", \"Cluster \\u0e40\\u0e23\\u0e37\\u0e2d\\u0e19\\u0e08\\u0e33\\u0e01\\u0e25\\u0e32\\u0e07\\u0e04\\u0e25\\u0e2d\\u0e07\\u0e40\\u0e1b\\u0e23\\u0e21\", \"\\u0e44\\u0e1b\\u0e2a\\u0e16\\u0e32\\u0e19\\u0e17\\u0e35\\u0e48\\u0e41\\u0e2d\\u0e2d\\u0e31\\u0e14 \\u0e40\\u0e0a\\u0e48\\u0e19 \\u0e07\\u0e32\\u0e19\\u0e41\\u0e1f\\u0e23\\u0e4c \\u0e04\\u0e2d\\u0e19\\u0e40\\u0e2a\\u0e34\\u0e23\\u0e4c\\u0e15\", \"\\u0e04\\u0e19\\u0e44\\u0e17\\u0e22\\u0e40\\u0e14\\u0e34\\u0e19\\u0e17\\u0e32\\u0e07\\u0e01\\u0e25\\u0e31\\u0e1a\\u0e08\\u0e32\\u0e01\\u0e15\\u0e48\\u0e32\\u0e07\\u0e1b\\u0e23\\u0e30\\u0e40\\u0e17\\u0e28\", \"Cluster \\u0e1a\\u0e32\\u0e07\\u0e41\\u0e04\", \"\\u0e15\\u0e23\\u0e27\\u0e08\\u0e01\\u0e48\\u0e2d\\u0e19\\u0e17\\u0e33\\u0e2b\\u0e31\\u0e15\\u0e16\\u0e01\\u0e32\\u0e23\", \"Cluster \\u0e04\\u0e25\\u0e2d\\u0e07\\u0e40\\u0e15\\u0e22\", \"\\u0e1b\\u0e2d\\u0e14\\u0e2d\\u0e31\\u0e01\\u0e40\\u0e2a\\u0e1a (Pneumonia)\", \"Cluster \\u0e15\\u0e25\\u0e32\\u0e14\\u0e1e\\u0e23\\u0e1e\\u0e31\\u0e12\\u0e19\\u0e4c\", \"Cluster \\u0e23\\u0e30\\u0e22\\u0e2d\\u0e07\", \"\\u0e28\\u0e39\\u0e19\\u0e22\\u0e4c\\u0e01\\u0e31\\u0e01\\u0e01\\u0e31\\u0e19 \\u0e1c\\u0e39\\u0e49\\u0e15\\u0e49\\u0e2d\\u0e07\\u0e01\\u0e31\\u0e01\", \"Cluster \\u0e15\\u0e25\\u0e32\\u0e14\\u0e2a\\u0e35\\u0e48\\u0e21\\u0e38\\u0e21\\u0e40\\u0e21\\u0e37\\u0e2d\\u0e07\", \"\\u0e2a\\u0e19\\u0e32\\u0e21\\u0e21\\u0e27\\u0e22\", \"\\u0e04\\u0e19\\u0e15\\u0e48\\u0e32\\u0e07\\u0e0a\\u0e32\\u0e15\\u0e34\\u0e40\\u0e14\\u0e34\\u0e19\\u0e17\\u0e32\\u0e07\\u0e21\\u0e32\\u0e08\\u0e32\\u0e01\\u0e15\\u0e48\\u0e32\\u0e07\\u0e1b\\u0e23\\u0e30\\u0e40\\u0e17\\u0e28\", \"ACF \\u0e2a\\u0e19\\u0e32\\u0e21\\u0e01\\u0e35\\u0e2c\\u0e32\\u0e44\\u0e17\\u0e22-\\u0e0d\\u0e35\\u0e48\\u0e1b\\u0e38\\u0e48\\u0e19\", \"Cluster \\u0e2a\\u0e21\\u0e38\\u0e17\\u0e23\\u0e1b\\u0e23\\u0e32\\u0e01\\u0e32\\u0e23 GRP Hightech\", \"ACF \\u0e2a\\u0e35\\u0e25\\u0e21\", \"\\u0e1e\\u0e34\\u0e18\\u0e35\\u0e01\\u0e23\\u0e23\\u0e21\\u0e17\\u0e32\\u0e07\\u0e28\\u0e32\\u0e2a\\u0e19\\u0e32\", \"Cluster \\u0e1a\\u0e48\\u0e2d\\u0e19\\u0e1e\\u0e31\\u0e17\\u0e22\\u0e32/\\u0e0a\\u0e25\\u0e1a\\u0e38\\u0e23\\u0e35\", \"Cluster \\u0e15\\u0e25\\u0e32\\u0e14\\u0e19\\u0e19\\u0e17\\u0e1a\\u0e38\\u0e23\\u0e35\", \"\\u0e1c\\u0e39\\u0e49\\u0e17\\u0e35\\u0e48\\u0e40\\u0e14\\u0e34\\u0e19\\u0e17\\u0e32\\u0e07\\u0e21\\u0e32\\u0e08\\u0e32\\u0e01\\u0e15\\u0e48\\u0e32\\u0e07\\u0e1b\\u0e23\\u0e30\\u0e40\\u0e17\\u0e28 \\u0e41\\u0e25\\u0e30\\u0e40\\u0e02\\u0e49\\u0e32 HQ/AHQ\", \"Cluster \\u0e17\\u0e31\\u0e13\\u0e11\\u0e2a\\u0e16\\u0e32\\u0e19\\u0e2b\\u0e0d\\u0e34\\u0e07\\u0e01\\u0e25\\u0e32\\u0e07\", \"Cluster \\u0e08\\u0e31\\u0e19\\u0e17\\u0e1a\\u0e38\\u0e23\\u0e35\", \"Cluster \\u0e1a\\u0e48\\u0e2d\\u0e19\\u0e44\\u0e01\\u0e48\\u0e2d\\u0e48\\u0e32\\u0e07\\u0e17\\u0e2d\\u0e07\", \"Cluster \\u0e42\\u0e23\\u0e07\\u0e07\\u0e32\\u0e19 QPP \\u0e1b\\u0e23\\u0e30\\u0e08\\u0e27\\u0e1a\\u0e2f\", \"Cluster \\u0e42\\u0e23\\u0e07\\u0e07\\u0e32\\u0e19 Big Star\", \"Cluster \\u0e0a\\u0e25\\u0e1a\\u0e38\\u0e23\\u0e35\", \"Cluster \\u0e40\\u0e04\\u0e23\\u0e37\\u0e2d\\u0e04\\u0e31\\u0e2a\\u0e40\\u0e0b\\u0e48\\u0e2d\\u0e23\\u0e4c\\u0e1e\\u0e35\\u0e04\\u0e42\\u0e2e\\u0e25\\u0e14\\u0e34\\u0e49\\u0e07 (CPG,CPH)\", \"\\u0e2a\\u0e31\\u0e21\\u0e1c\\u0e31\\u0e2a\\u0e1c\\u0e39\\u0e49\\u0e40\\u0e14\\u0e34\\u0e19\\u0e17\\u0e32\\u0e07\\u0e08\\u0e32\\u0e01\\u0e15\\u0e48\\u0e32\\u0e07\\u0e1b\\u0e23\\u0e30\\u0e40\\u0e17\\u0e28\", \"\\u0e2a\\u0e31\\u0e21\\u0e1c\\u0e31\\u0e2a\\u0e1c\\u0e39\\u0e49\\u0e1b\\u0e48\\u0e27\\u0e22\\u0e22\\u0e37\\u0e19\\u0e22\\u0e31\\u0e19\", \"Cluster \\u0e40\\u0e23\\u0e37\\u0e2d\\u0e19\\u0e08\\u0e33\\u0e1e\\u0e34\\u0e40\\u0e28\\u0e29\\u0e18\\u0e19\\u0e1a\\u0e38\\u0e23\\u0e35\", \"Cluster Memory 90's \\u0e01\\u0e23\\u0e38\\u0e07\\u0e40\\u0e17\\u0e1e\\u0e21\\u0e2b\\u0e32\\u0e19\\u0e04\\u0e23\", \"\\u0e2d\\u0e22\\u0e39\\u0e48\\u0e23\\u0e30\\u0e2b\\u0e27\\u0e48\\u0e32\\u0e07\\u0e2a\\u0e2d\\u0e1a\\u0e2a\\u0e27\\u0e19\", \"Cluster \\u0e17\\u0e31\\u0e13\\u0e11\\u0e2a\\u0e16\\u0e32\\u0e19\\u0e42\\u0e23\\u0e07\\u0e1e\\u0e22\\u0e32\\u0e1a\\u0e32\\u0e25\\u0e23\\u0e32\\u0e0a\\u0e17\\u0e31\\u0e13\\u0e11\\u0e4c\", \"Cluster \\u0e08\\u0e31\\u0e19\\u0e17\\u0e1a\\u0e38\\u0e23\\u0e35 (\\u0e0a\\u0e32\\u0e27\\u0e01\\u0e34\\u0e19\\u0e35)\", \"\\u0e1c\\u0e39\\u0e49\\u0e17\\u0e35\\u0e48\\u0e40\\u0e14\\u0e34\\u0e19\\u0e17\\u0e32\\u0e07\\u0e21\\u0e32\\u0e08\\u0e32\\u0e01\\u0e15\\u0e48\\u0e32\\u0e07\\u0e1b\\u0e23\\u0e30\\u0e40\\u0e17\\u0e28 \\u0e41\\u0e25\\u0e30\\u0e40\\u0e02\\u0e49\\u0e32 OQ\", \"ACF \\u0e23\\u0e2d\\u0e07\\u0e40\\u0e21\\u0e37\\u0e2d\\u0e07\", \"Cluster \\u0e21\\u0e2b\\u0e32\\u0e2a\\u0e32\\u0e23\\u0e04\\u0e32\\u0e21\", \"Cluster New Jazz \\u0e01\\u0e23\\u0e38\\u0e07\\u0e40\\u0e17\\u0e1e\\u0e21\\u0e2b\\u0e32\\u0e19\\u0e04\\u0e23\", \"ACF \\u0e2a\\u0e19\\u0e32\\u0e21\\u0e01\\u0e35\\u0e2c\\u0e32\\u0e18\\u0e39\\u0e1b\\u0e30\\u0e40\\u0e15\\u0e21\\u0e35\\u0e22\\u0e4c\", \"\\u0e2a\\u0e31\\u0e21\\u0e1c\\u0e31\\u0e2a\\u0e43\\u0e01\\u0e25\\u0e49\\u0e0a\\u0e34\\u0e14\\u0e1c\\u0e39\\u0e49\\u0e1b\\u0e48\\u0e27\\u0e22\\u0e22\\u0e37\\u0e19\\u0e22\\u0e31\\u0e19\\u0e01\\u0e48\\u0e2d\\u0e19\\u0e2b\\u0e19\\u0e49\\u0e32\", \"Sandbox\", \"\\u0e2a\\u0e31\\u0e21\\u0e1c\\u0e31\\u0e2a\\u0e43\\u0e01\\u0e25\\u0e49\\u0e0a\\u0e34\\u0e14\\u0e1c\\u0e39\\u0e49\\u0e1b\\u0e48\\u0e27\\u0e22\\u0e22\\u0e31\\u0e19\\u0e22\\u0e31\\u0e19\\u0e01\\u0e48\\u0e2d\\u0e19\\u0e2b\\u0e19\\u0e49\\u0e32\", \"Cluster \\u0e2a\\u0e21\\u0e38\\u0e17\\u0e23\\u0e1b\\u0e23\\u0e32\\u0e01\\u0e32\\u0e23 (\\u0e42\\u0e23\\u0e07\\u0e07\\u0e32\\u0e19 \\u0e1a\\u0e23\\u0e34\\u0e29\\u0e31\\u0e17\\u0e40\\u0e21\\u0e17\\u0e31\\u0e25 \\u0e42\\u0e1b\\u0e23\\u0e14\\u0e31\\u0e01\\u0e2a\\u0e4c)\", \"\\u0e44\\u0e1b\\u0e41\\u0e2b\\u0e25\\u0e48\\u0e07\\u0e0a\\u0e38\\u0e21\\u0e0a\\u0e19/\\u0e2a\\u0e16\\u0e32\\u0e19\\u0e17\\u0e35\\u0e48\\u0e04\\u0e19\\u0e2b\\u0e19\\u0e32\\u0e41\\u0e19\\u0e48\\u0e19\", \"Cluster \\u0e1a\\u0e23\\u0e34\\u0e29\\u0e31\\u0e17\\u0e28\\u0e23\\u0e35\\u0e2a\\u0e27\\u0e31\\u0e2a\\u0e14\\u0e34\\u0e4c\", \"Cluster \\u0e2b\\u0e49\\u0e32\\u0e07\\u0e41\\u0e2a\\u0e07\\u0e17\\u0e2d\\u0e07 (\\u0e2a\\u0e32\\u0e22\\u0e25\\u0e48\\u0e32\\u0e07)\", \"Cluster \\u0e15\\u0e25\\u0e32\\u0e14\\u0e1a\\u0e32\\u0e07\\u0e1e\\u0e25\\u0e35\", \"Cluster \\u0e08\\u0e31\\u0e19\\u0e17\\u0e1a\\u0e38\\u0e23\\u0e35 (\\u0e0a\\u0e32\\u0e27\\u0e01\\u0e34\\u0e19\\u0e35 )\", \"Cluster \\u0e1a\\u0e48\\u0e2d\\u0e19\\u0e40\\u0e17\\u0e1e\\u0e32\\u0e23\\u0e31\\u0e01\\u0e29\\u0e4c\", \"Cluster \\u0e17\\u0e31\\u0e19\\u0e11\\u0e2a\\u0e16\\u0e32\\u0e19\\u0e1a\\u0e33\\u0e1a\\u0e31\\u0e14\\u0e1e\\u0e34\\u0e40\\u0e28\\u0e29\\u0e01\\u0e25\\u0e32\\u0e07\", \"Cluster Icon siam\", \"\\u0e2d\\u0e22\\u0e39\\u0e48\\u0e23\\u0e30\\u0e2b\\u0e27\\u0e48\\u0e32\\u0e07\\u0e2a\\u0e2d\\u0e1a\\u0e2a\\u0e27\\u0e19\\u0e42\\u0e23\\u0e04\", \"Cluster The Lounge Salaya\", \"\\u0e2a\\u0e31\\u0e21\\u0e1c\\u0e31\\u0e2a\\u0e1c\\u0e39\\u0e49\\u0e1b\\u0e48\\u0e27\\u0e22\\u0e22\\u0e37\\u0e19\\u0e22\\u0e31\\u0e19 \\u0e2d\\u0e22\\u0e39\\u0e48\\u0e23\\u0e30\\u0e2b\\u0e27\\u0e48\\u0e32\\u0e07\\u0e2a\\u0e2d\\u0e1a\\u0e2a\\u0e27\\u0e19\", \"2.\\u0e2a\\u0e31\\u0e21\\u0e1c\\u0e31\\u0e2a\\u0e1c\\u0e39\\u0e49\\u0e15\\u0e34\\u0e14\\u0e40\\u0e0a\\u0e37\\u0e49\\u0e2d\", \"Cluster \\u0e0a\\u0e25\\u0e1a\\u0e38\\u0e23\\u0e35 \\u0e42\\u0e23\\u0e07\\u0e40\\u0e1a\\u0e35\\u0e22\\u0e23\\u0e4c 90\", \"Cluster \\u0e42\\u0e23\\u0e07\\u0e07\\u0e32\\u0e19 standard can\", \"\\u0e2d\\u0e22\\u0e39\\u0e48\\u0e23\\u0e30\\u0e2b\\u0e27\\u0e48\\u0e32\\u0e07\\u0e01\\u0e32\\u0e23\\u0e2a\\u0e2d\\u0e1a\\u0e2a\\u0e27\\u0e19\\n\", \"Cluster \\u0e15\\u0e23\\u0e32\\u0e14\", \"Cluster \\u0e40\\u0e23\\u0e37\\u0e2d\\u0e19\\u0e08\\u0e33\\u0e1e\\u0e34\\u0e40\\u0e28\\u0e29\\u0e21\\u0e35\\u0e19\\u0e1a\\u0e38\\u0e23\\u0e35\", \"\\u0e2a\\u0e31\\u0e21\\u0e1c\\u0e31\\u0e2a\\u0e1c\\u0e39\\u0e49\\u0e15\\u0e34\\u0e14\\u0e40\\u0e0a\\u0e37\\u0e49\\u0e2d\\u0e22\\u0e37\\u0e19\\u0e22\\u0e31\\u0e19 \\u0e2d\\u0e22\\u0e39\\u0e48\\u0e23\\u0e30\\u0e2b\\u0e27\\u0e48\\u0e32\\u0e07\\u0e2a\\u0e2d\\u0e1a\\u0e2a\\u0e27\\u0e19\", \"ACF \\u0e40\\u0e04\\u0e2b\\u0e30\\u0e2b\\u0e25\\u0e31\\u0e01\\u0e2a\\u0e35\\u0e48\", \"\\u0e2a\\u0e31\\u0e21\\u0e1c\\u0e31\\u0e2a\\u0e43\\u0e19\\u0e2a\\u0e16\\u0e32\\u0e19\\u0e1e\\u0e22\\u0e32\\u0e1a\\u0e32\\u0e25\", \"\\u0e2a\\u0e31\\u0e21\\u0e1c\\u0e31\\u0e2a\\u0e1c\\u0e39\\u0e49\\u0e1b\\u0e48\\u0e27\\u0e22\\u0e17\\u0e35\\u0e48\\u0e15\\u0e34\\u0e14\\u0e42\\u0e04\\u0e27\\u0e34\\u0e14\", \"Cluster \\u0e08\\u0e19\\u0e17. \\u0e2a\\u0e19\\u0e32\\u0e21\\u0e1a\\u0e34\\u0e19\\u0e2a\\u0e38\\u0e27\\u0e23\\u0e23\\u0e13\\u0e20\\u0e39\\u0e21\\u0e34\", \"\\u0e44\\u0e1b\\u0e22\\u0e31\\u0e07\\u0e1e\\u0e37\\u0e49\\u0e19\\u0e17\\u0e35\\u0e48\\u0e17\\u0e35\\u0e48\\u0e21\\u0e35\\u0e01\\u0e32\\u0e23\\u0e23\\u0e30\\u0e1a\\u0e32\\u0e14\", \"\\u0e2a\\u0e31\\u0e21\\u0e1c\\u0e31\\u0e2a\\u0e1c\\u0e39\\u0e49\\u0e1b\\u0e48\\u0e27\\u0e22\\u0e22\\u0e37\\u0e19\\u0e22\\u0e31\\u0e19 \\n \\u0e2d\\u0e22\\u0e39\\u0e48\\u0e23\\u0e30\\u0e2b\\u0e27\\u0e48\\u0e32\\u0e07\\u0e2a\\u0e2d\\u0e1a\\u0e2a\\u0e27\\u0e19\", \"Cluster \\u0e2a\\u0e16\\u0e32\\u0e19\\u0e1a\\u0e31\\u0e19\\u0e40\\u0e17\\u0e34\\u0e07\\u0e22\\u0e48\\u0e32\\u0e19\\u0e17\\u0e2d\\u0e07\\u0e2b\\u0e25\\u0e48\\u0e2d\", \"Cluster \\u0e0a\\u0e25\\u0e1a\\u0e38\\u0e23\\u0e35 \\u0e1a\\u0e23\\u0e34\\u0e29\\u0e31\\u0e17\\u0e44\\u0e14\\u0e01\\u0e34\\u0e49\\u0e19\", \"Cluster \\u0e15\\u0e23\\u0e32\\u0e14 \", \"\\u0e40\\u0e14\\u0e34\\u0e19\\u0e17\\u0e32\\u0e07\\u0e21\\u0e32\\u0e08\\u0e32\\u0e01\\u0e1e\\u0e37\\u0e49\\u0e19\\u0e17\\u0e35\\u0e48\\u0e40\\u0e2a\\u0e35\\u0e48\\u0e22\\u0e07\\u0e17\\u0e35\\u0e48\\u0e21\\u0e35\\u0e01\\u0e32\\u0e23\\u0e23\\u0e30\\u0e1a\\u0e32\\u0e14\\u0e02\\u0e2d\\u0e07\\u0e42\\u0e23\\u0e04\", \"\\u0e1c\\u0e39\\u0e49\\u0e40\\u0e14\\u0e34\\u0e19\\u0e17\\u0e32\\u0e07\\u0e21\\u0e32\\u0e08\\u0e32\\u0e01\\u0e1e\\u0e37\\u0e49\\u0e19\\u0e17\\u0e35\\u0e48\\u0e40\\u0e2a\\u0e35\\u0e48\\u0e22\\u0e07 \\u0e01\\u0e23\\u0e38\\u0e07\\u0e40\\u0e17\\u0e1e\\u0e21\\u0e2b\\u0e32\\u0e19\\u0e04\\u0e23.\", \"\\u0e23\\u0e2d\\u0e1b\\u0e23\\u0e30\\u0e2a\\u0e32\\u0e19\", \"\\u0e1c\\u0e39\\u0e49\\u0e17\\u0e35\\u0e48\\u0e40\\u0e14\\u0e34\\u0e19\\u0e17\\u0e32\\u0e07\\u0e21\\u0e32\\u0e08\\u0e32\\u0e01\\u0e15\\u0e48\\u0e32\\u0e07\\u0e1b\\u0e23\\u0e30\\u0e40\\u0e17\\u0e28 \\u0e41\\u0e25\\u0e30\\u0e40\\u0e02\\u0e49\\u0e32 AOQ\", \"\\u0e1c\\u0e39\\u0e49\\u0e1b\\u0e48\\u0e27\\u0e22 PUI\", \"\\u0e23\\u0e49\\u0e32\\u0e19\\u0e2d\\u0e32\\u0e2b\\u0e32\\u0e23\", \"Cluster \\u0e1b\\u0e32\\u0e01\\u0e0a\\u0e48\\u0e2d\\u0e07\", \"\\u0e40\\u0e14\\u0e34\\u0e19\\u0e17\\u0e32\\u0e07\\u0e21\\u0e32\\u0e08\\u0e32\\u0e01\\u0e1e\\u0e37\\u0e49\\u0e19\\u0e17\\u0e35\\u0e48\\u0e08\\u0e31\\u0e07\\u0e2b\\u0e27\\u0e31\\u0e14\\u0e40\\u0e2a\\u0e35\\u0e48\\u0e22\\u0e07\", \"\\u0e44\\u0e1b\\u0e40\\u0e17\\u0e35\\u0e48\\u0e22\\u0e27\\u0e2a\\u0e16\\u0e32\\u0e19\\u0e1a\\u0e31\\u0e19\\u0e40\\u0e17\\u0e34\\u0e07\\u0e43\\u0e19\\u0e2d\\u0e38\\u0e1a\\u0e25\\u0e17\\u0e35\\u0e48\\u0e1e\\u0e1a\\u0e01\\u0e32\\u0e23\\u0e23\\u0e30\\u0e1a\\u0e32\\u0e14\\u0e02\\u0e2d\\u0e07\\u0e42\\u0e23\\u0e04 Ubar\", \"Cluster \\u0e15\\u0e25\\u0e32\\u0e14\\u0e1a\\u0e32\\u0e07\\u0e41\\u0e04\", \"\\u0e2a\\u0e31\\u0e21\\u0e1c\\u0e31\\u0e2a\\u0e1c\\u0e39\\u0e49\\u0e1b\\u0e48\\u0e27\\u0e22\\u0e22\\u0e37\\u0e19\\u0e22\\u0e31\\u0e19\\u0e40\\u0e1e\\u0e37\\u0e48\\u0e2d\\u0e19\\u0e23\\u0e48\\u0e27\\u0e21\\u0e07\\u0e32\\u0e19\", \"\\u0e04\\u0e49\\u0e19\\u0e2b\\u0e32\\u0e40\\u0e0a\\u0e34\\u0e07\\u0e23\\u0e38\\u0e01\", \"\\u0e23\\u0e30\\u0e2b\\u0e27\\u0e48\\u0e32\\u0e07\\u0e2a\\u0e2d\\u0e1a\\u0e2a\\u0e27\\u0e19\", \"\\u0e40\\u0e14\\u0e34\\u0e19\\u0e17\\u0e32\\u0e07\\u0e21\\u0e32\\u0e08\\u0e32\\u0e01\\u0e1e\\u0e37\\u0e49\\u0e19\\u0e17\\u0e35\\u0e48\\u0e21\\u0e35\\u0e01\\u0e32\\u0e23\\u0e23\\u0e30\\u0e1a\\u0e32\\u0e14\\u0e02\\u0e2d\\u0e07\\u0e42\\u0e23\\u0e04\", \"\\u0e1c\\u0e31\\u0e1a\\u0e2b\\u0e31\\u0e27\\u0e2b\\u0e34\\u0e19\", \"\\u0e1c\\u0e39\\u0e49\\u0e15\\u0e34\\u0e14\\u0e40\\u0e0a\\u0e37\\u0e49\\u0e2d\\u0e43\\u0e19\\u0e1b\\u0e23\\u0e30\\u0e40\\u0e17\\u0e28\", \"\\u0e04\\u0e19\\u0e44\\u0e17\\u0e22\\u0e40\\u0e14\\u0e34\\u0e19\\u0e17\\u0e32\\u0e07\\u0e21\\u0e32\\u0e08\\u0e32\\u0e01\\u0e15\\u0e48\\u0e32\\u0e07\\u0e1b\\u0e23\\u0e30\\u0e40\\u0e17\\u0e28\", \"\\u0e23\\u0e30\\u0e2b\\u0e27\\u0e48\\u0e32\\u0e07\\u0e01\\u0e32\\u0e23\\u0e2a\\u0e2d\\u0e1a\\u0e2a\\u0e27\\u0e19\\u0e42\\u0e23\\u0e04\", \"Cluster \\u0e01\\u0e23\\u0e38\\u0e07\\u0e40\\u0e17\\u0e1e\\u0e21\\u0e2b\\u0e32\\u0e19\\u0e04\\u0e23. \\u0e04\\u0e25\\u0e2d\\u0e07\\u0e40\\u0e15\\u0e22\", \"Cluster \\u0e07\\u0e32\\u0e19\\u0e21\\u0e2d\\u0e40\\u0e15\\u0e2d\\u0e23\\u0e4c \\u0e42\\u0e0a\\u0e27\\u0e4c\", \"Cluster \\u0e42\\u0e23\\u0e07\\u0e07\\u0e32\\u0e19\\u0e17\\u0e33\\u0e02\\u0e19\\u0e21 \\u0e1a\\u0e32\\u0e07\\u0e02\\u0e38\\u0e19\\u0e40\\u0e17\\u0e35\\u0e22\\u0e19\", \"Cluster \\u0e23\\u0e30\\u0e22\\u0e2d\\u0e07 \\u0e27\\u0e34\\u0e23\\u0e34\\u0e22\\u0e30\\u0e1b\\u0e23\\u0e30\\u0e01\\u0e31\\u0e19\\u0e20\\u0e31\\u0e22\", \"\\u0e2d\\u0e32\\u0e28\\u0e31\\u0e22/\\u0e40\\u0e14\\u0e34\\u0e19\\u0e17\\u0e32\\u0e07\\u0e44\\u0e1b\\u0e43\\u0e19\\u0e1e\\u0e37\\u0e49\\u0e19\\u0e17\\u0e35\\u0e48\\u0e17\\u0e35\\u0e48\\u0e21\\u0e35\\u0e01\\u0e32\\u0e23\\u0e23\\u0e30\\u0e1a\\u0e32\\u0e14\", \"\\u0e2a\\u0e31\\u0e21\\u0e1c\\u0e31\\u0e2a\\u0e1c\\u0e39\\u0e49\\u0e15\\u0e34\\u0e14\\u0e40\\u0e0a\\u0e37\\u0e49\\u0e2d\\u0e22\\u0e37\\u0e19\\u0e22\\u0e31\\u0e19\\n\\u0e2d\\u0e22\\u0e39\\u0e48\\u0e23\\u0e30\\u0e2b\\u0e27\\u0e48\\u0e32\\u0e07\\u0e2a\\u0e2d\\u0e1a\\u0e2a\\u0e27\\u0e19\", \"\\u0e1b\\u0e2d\\u0e14\\u0e2d\\u0e31\\u0e01\\u0e40\\u0e2a\\u0e1a Pneumonia\", \"\\u0e2a\\u0e31\\u0e21\\u0e1c\\u0e31\\u0e2a\\u0e1c\\u0e39\\u0e49\\u0e1b\\u0e48\\u0e27\\u0e22\\u0e22\\u0e37\\u0e19\\u0e22\\u0e31\\u0e19 \\u0e20\\u0e32\\u0e22\\u0e43\\u0e19\\u0e04\\u0e23\\u0e2d\\u0e1a\\u0e04\\u0e23\\u0e31\\u0e27/\\u0e0a\\u0e38\\u0e21\\u0e0a\\u0e19/\\u0e40\\u0e1e\\u0e37\\u0e48\\u0e2d\\u0e19\", \"\\u0e2d\\u0e22\\u0e38\\u0e48\\u0e23\\u0e30\\u0e2b\\u0e27\\u0e48\\u0e32\\u0e07\\u0e2a\\u0e2d\\u0e1a\\u0e2a\\u0e27\\u0e19\", \"Cluster \\u0e2a\\u0e21\\u0e38\\u0e17\\u0e23\\u0e1b\\u0e23\\u0e32\\u0e01\\u0e32\\u0e23 \\u0e15\\u0e25\\u0e32\\u0e14\\u0e40\\u0e04\\u0e2b\\u0e30\\u0e1a\\u0e32\\u0e07\\u0e1e\\u0e25\\u0e35\", \"Refer in\", \"\\u0e23\\u0e31\\u0e1a\\u0e08\\u0e49\\u0e32\\u0e07\\u0e02\\u0e19\\u0e02\\u0e2d\\u0e07\\u0e17\\u0e35\\u0e48\\u0e15\\u0e25\\u0e32\\u0e14\\u0e17\\u0e48\\u0e32\\u0e22\\u0e32\\u0e07\", \"Cluster \\u0e42\\u0e23\\u0e07\\u0e07\\u0e32\\u0e19  Big Star\", \"\\u0e1c\\u0e39\\u0e49\\u0e1b\\u0e48\\u0e27\\u0e22 \\u0e01\\u0e23\\u0e38\\u0e07\\u0e40\\u0e17\\u0e1e\\u0e21\\u0e2b\\u0e32\\u0e19\\u0e04\\u0e23\", \"\\u0e04\\u0e19\\u0e44\\u0e17\\u0e22\\u0e21\\u0e32\\u0e08\\u0e32\\u0e01\\u0e1e\\u0e37\\u0e49\\u0e19\\u0e17\\u0e35\\u0e48\\u0e40\\u0e2a\\u0e35\\u0e48\\u0e22\\u0e07\", \"\\u0e2a\\u0e31\\u0e21\\u0e1c\\u0e31\\u0e2a\\u0e1c\\u0e39\\u0e49\\u0e1b\\u0e48\\u0e27\\u0e22\\u0e22\\u0e37\\u0e19\\u0e22\\u0e31\\u0e19 (\\u0e22\\u0e31\\u0e07\\u0e44\\u0e21\\u0e48\\u0e2a\\u0e32\\u0e21\\u0e32\\u0e23\\u0e16\\u0e23\\u0e30\\u0e1a\\u0e38\\u0e44\\u0e14\\u0e49)\", \"\\u0e2d\\u0e37\\u0e48\\u0e19\", \"\\u0e41\\u0e23\\u0e07\\u0e07\\u0e32\\u0e19\\u0e15\\u0e48\\u0e32\\u0e07\\u0e14\\u0e49\\u0e32\\u0e27\\u0e15\\u0e23\\u0e27\\u0e08\\u0e01\\u0e48\\u0e2d\\u0e19\\u0e02\\u0e36\\u0e49\\u0e19\\u0e17\\u0e30\\u0e40\\u0e1a\\u0e35\\u0e22\\u0e19\", \"\\u0e2a\\u0e31\\u0e21\\u0e1c\\u0e31\\u0e2a\\u0e1c\\u0e39\\u0e49\\u0e1b\\u0e48\\u0e27\\u0e22\\u0e22\\u0e37\\u0e19\\u0e22\\u0e31\\u0e19 \\u0e2d\\u0e22\\u0e38\\u0e4b\\u0e23\\u0e30\\u0e2b\\u0e27\\u0e48\\u0e32\\u0e07\\u0e2a\\u0e2d\\u0e1a\\u0e2a\\u0e27\\u0e19\", \"cluster \\u0e0a\\u0e25\\u0e1a\\u0e38\\u0e23\\u0e35\\n(\\u0e2d\\u0e22\\u0e39\\u0e48\\u0e23\\u0e30\\u0e2b\\u0e27\\u0e48\\u0e32\\u0e07\\u0e01\\u0e32\\u0e23\\u0e2a\\u0e2d\\u0e1a\\u0e2a\\u0e27\\u0e19)\", \"\\u0e44\\u0e1b\\u0e22\\u0e31\\u0e07/\\u0e21\\u0e32\\u0e08\\u0e32\\u0e01 \\u0e1e\\u0e37\\u0e49\\u0e19\\u0e17\\u0e35\\u0e48\\u0e23\\u0e30\\u0e1a\\u0e32\\u0e14\\u0e01\\u0e23\\u0e38\\u0e07\\u0e40\\u0e17\\u0e1e\\u0e21\\u0e2b\\u0e32\\u0e19\\u0e04\\u0e23\\u0e21\\u0e2b\\u0e32\\u0e19\\u0e04\\u0e23\", \"\\u0e15\\u0e25\\u0e32\\u0e14\", \"\\u0e44\\u0e1b\\u0e2a\\u0e16\\u0e32\\u0e19\\u0e17\\u0e35\\u0e48\\u0e40\\u0e2a\\u0e35\\u0e48\\u0e22\\u0e07 \\u0e40\\u0e0a\\u0e48\\u0e19 \\u0e15\\u0e25\\u0e32\\u0e14 \\u0e2a\\u0e16\\u0e32\\u0e19\\u0e17\\u0e35\\u0e48\\u0e0a\\u0e38\\u0e21\\u0e0a\\u0e19\", \"Cluster \\u0e15\\u0e25\\u0e32\\u0e14\\u0e1a\\u0e32\\u0e07\\u0e41\\u0e04/\\u0e04\\u0e25\\u0e2d\\u0e07\\u0e02\\u0e27\\u0e32\\u0e07\", \"SHUI\", \"\\u0e15\\u0e23\\u0e27\\u0e08\\u0e2a\\u0e38\\u0e02\\u0e20\\u0e32\\u0e1e\\u0e41\\u0e23\\u0e07\\u0e07\\u0e32\\u0e19\\u0e15\\u0e48\\u0e32\\u0e07\\u0e14\\u0e49\\u0e32\\u0e27\", \"\\u0e2a\\u0e31\\u0e21\\u0e1c\\u0e31\\u0e2a\\u0e2a\\u0e32\\u0e21\\u0e35\\u0e2a\\u0e30\\u0e2d\\u0e32\\u0e14 \\u0e40\\u0e02\\u0e15\\u0e1a\\u0e49\\u0e32\\u0e19 (\\u0e23\\u0e1e.\\u0e21\\u0e2b\\u0e32\\u0e0a\\u0e31\\u0e22 2)\"], \"xaxis\": \"x\", \"y\": [154482, 68757, 50916, 39723, 37374, 26206, 17900, 14118, 4753, 3586, 2836, 2671, 1794, 1331, 1249, 1093, 1079, 894, 751, 742, 677, 673, 671, 625, 559, 482, 454, 344, 277, 210, 135, 130, 110, 107, 98, 85, 84, 78, 75, 69, 69, 64, 62, 55, 50, 43, 41, 40, 33, 30, 26, 25, 24, 23, 23, 23, 20, 20, 19, 19, 17, 16, 16, 15, 12, 12, 12, 11, 10, 10, 10, 10, 9, 7, 7, 6, 5, 5, 4, 4, 4, 4, 3, 3, 3, 3, 3, 2, 2, 2, 2, 2, 2, 2, 1, 1, 1, 1, 1, 1, 1, 1, 1, 1, 1, 1, 1, 1, 1, 1, 1, 1, 1, 1, 1, 1, 1, 1, 1, 1, 1, 1, 1, 1, 1, 1, 1, 1, 1, 1, 1, 1], \"yaxis\": \"y\"}],\n",
              "                        {\"barmode\": \"relative\", \"legend\": {\"tracegroupgap\": 0}, \"margin\": {\"t\": 60}, \"template\": {\"data\": {\"bar\": [{\"error_x\": {\"color\": \"#2a3f5f\"}, \"error_y\": {\"color\": \"#2a3f5f\"}, \"marker\": {\"line\": {\"color\": \"#E5ECF6\", \"width\": 0.5}}, \"type\": \"bar\"}], \"barpolar\": [{\"marker\": {\"line\": {\"color\": \"#E5ECF6\", \"width\": 0.5}}, \"type\": \"barpolar\"}], \"carpet\": [{\"aaxis\": {\"endlinecolor\": \"#2a3f5f\", \"gridcolor\": \"white\", \"linecolor\": \"white\", \"minorgridcolor\": \"white\", \"startlinecolor\": \"#2a3f5f\"}, \"baxis\": {\"endlinecolor\": \"#2a3f5f\", \"gridcolor\": \"white\", \"linecolor\": \"white\", \"minorgridcolor\": \"white\", \"startlinecolor\": \"#2a3f5f\"}, \"type\": \"carpet\"}], \"choropleth\": [{\"colorbar\": {\"outlinewidth\": 0, \"ticks\": \"\"}, \"type\": \"choropleth\"}], \"contour\": [{\"colorbar\": {\"outlinewidth\": 0, \"ticks\": \"\"}, \"colorscale\": [[0.0, \"#0d0887\"], [0.1111111111111111, \"#46039f\"], [0.2222222222222222, \"#7201a8\"], [0.3333333333333333, \"#9c179e\"], [0.4444444444444444, \"#bd3786\"], [0.5555555555555556, \"#d8576b\"], [0.6666666666666666, \"#ed7953\"], [0.7777777777777778, \"#fb9f3a\"], [0.8888888888888888, \"#fdca26\"], [1.0, \"#f0f921\"]], \"type\": \"contour\"}], \"contourcarpet\": [{\"colorbar\": {\"outlinewidth\": 0, \"ticks\": \"\"}, \"type\": \"contourcarpet\"}], \"heatmap\": [{\"colorbar\": {\"outlinewidth\": 0, \"ticks\": \"\"}, \"colorscale\": [[0.0, \"#0d0887\"], [0.1111111111111111, \"#46039f\"], [0.2222222222222222, \"#7201a8\"], [0.3333333333333333, \"#9c179e\"], [0.4444444444444444, \"#bd3786\"], [0.5555555555555556, \"#d8576b\"], [0.6666666666666666, \"#ed7953\"], [0.7777777777777778, \"#fb9f3a\"], [0.8888888888888888, \"#fdca26\"], [1.0, \"#f0f921\"]], \"type\": \"heatmap\"}], \"heatmapgl\": [{\"colorbar\": {\"outlinewidth\": 0, \"ticks\": \"\"}, \"colorscale\": [[0.0, \"#0d0887\"], [0.1111111111111111, \"#46039f\"], [0.2222222222222222, \"#7201a8\"], [0.3333333333333333, \"#9c179e\"], [0.4444444444444444, \"#bd3786\"], [0.5555555555555556, \"#d8576b\"], [0.6666666666666666, \"#ed7953\"], [0.7777777777777778, \"#fb9f3a\"], [0.8888888888888888, \"#fdca26\"], [1.0, \"#f0f921\"]], \"type\": \"heatmapgl\"}], \"histogram\": [{\"marker\": {\"colorbar\": {\"outlinewidth\": 0, \"ticks\": \"\"}}, \"type\": \"histogram\"}], \"histogram2d\": [{\"colorbar\": {\"outlinewidth\": 0, \"ticks\": \"\"}, \"colorscale\": [[0.0, \"#0d0887\"], [0.1111111111111111, \"#46039f\"], [0.2222222222222222, \"#7201a8\"], [0.3333333333333333, \"#9c179e\"], [0.4444444444444444, \"#bd3786\"], [0.5555555555555556, \"#d8576b\"], [0.6666666666666666, \"#ed7953\"], [0.7777777777777778, \"#fb9f3a\"], [0.8888888888888888, \"#fdca26\"], [1.0, \"#f0f921\"]], \"type\": \"histogram2d\"}], \"histogram2dcontour\": [{\"colorbar\": {\"outlinewidth\": 0, \"ticks\": \"\"}, \"colorscale\": [[0.0, \"#0d0887\"], [0.1111111111111111, \"#46039f\"], [0.2222222222222222, \"#7201a8\"], [0.3333333333333333, \"#9c179e\"], [0.4444444444444444, \"#bd3786\"], [0.5555555555555556, \"#d8576b\"], [0.6666666666666666, \"#ed7953\"], [0.7777777777777778, \"#fb9f3a\"], [0.8888888888888888, \"#fdca26\"], [1.0, \"#f0f921\"]], \"type\": \"histogram2dcontour\"}], \"mesh3d\": [{\"colorbar\": {\"outlinewidth\": 0, \"ticks\": \"\"}, \"type\": \"mesh3d\"}], \"parcoords\": [{\"line\": {\"colorbar\": {\"outlinewidth\": 0, \"ticks\": \"\"}}, \"type\": \"parcoords\"}], \"pie\": [{\"automargin\": true, \"type\": \"pie\"}], \"scatter\": [{\"marker\": {\"colorbar\": {\"outlinewidth\": 0, \"ticks\": \"\"}}, \"type\": \"scatter\"}], \"scatter3d\": [{\"line\": {\"colorbar\": {\"outlinewidth\": 0, \"ticks\": \"\"}}, \"marker\": {\"colorbar\": {\"outlinewidth\": 0, \"ticks\": \"\"}}, \"type\": \"scatter3d\"}], \"scattercarpet\": [{\"marker\": {\"colorbar\": {\"outlinewidth\": 0, \"ticks\": \"\"}}, \"type\": \"scattercarpet\"}], \"scattergeo\": [{\"marker\": {\"colorbar\": {\"outlinewidth\": 0, \"ticks\": \"\"}}, \"type\": \"scattergeo\"}], \"scattergl\": [{\"marker\": {\"colorbar\": {\"outlinewidth\": 0, \"ticks\": \"\"}}, \"type\": \"scattergl\"}], \"scattermapbox\": [{\"marker\": {\"colorbar\": {\"outlinewidth\": 0, \"ticks\": \"\"}}, \"type\": \"scattermapbox\"}], \"scatterpolar\": [{\"marker\": {\"colorbar\": {\"outlinewidth\": 0, \"ticks\": \"\"}}, \"type\": \"scatterpolar\"}], \"scatterpolargl\": [{\"marker\": {\"colorbar\": {\"outlinewidth\": 0, \"ticks\": \"\"}}, \"type\": \"scatterpolargl\"}], \"scatterternary\": [{\"marker\": {\"colorbar\": {\"outlinewidth\": 0, \"ticks\": \"\"}}, \"type\": \"scatterternary\"}], \"surface\": [{\"colorbar\": {\"outlinewidth\": 0, \"ticks\": \"\"}, \"colorscale\": [[0.0, \"#0d0887\"], [0.1111111111111111, \"#46039f\"], [0.2222222222222222, \"#7201a8\"], [0.3333333333333333, \"#9c179e\"], [0.4444444444444444, \"#bd3786\"], [0.5555555555555556, \"#d8576b\"], [0.6666666666666666, \"#ed7953\"], [0.7777777777777778, \"#fb9f3a\"], [0.8888888888888888, \"#fdca26\"], [1.0, \"#f0f921\"]], \"type\": \"surface\"}], \"table\": [{\"cells\": {\"fill\": {\"color\": \"#EBF0F8\"}, \"line\": {\"color\": \"white\"}}, \"header\": {\"fill\": {\"color\": \"#C8D4E3\"}, \"line\": {\"color\": \"white\"}}, \"type\": \"table\"}]}, \"layout\": {\"annotationdefaults\": {\"arrowcolor\": \"#2a3f5f\", \"arrowhead\": 0, \"arrowwidth\": 1}, \"coloraxis\": {\"colorbar\": {\"outlinewidth\": 0, \"ticks\": \"\"}}, \"colorscale\": {\"diverging\": [[0, \"#8e0152\"], [0.1, \"#c51b7d\"], [0.2, \"#de77ae\"], [0.3, \"#f1b6da\"], [0.4, \"#fde0ef\"], [0.5, \"#f7f7f7\"], [0.6, \"#e6f5d0\"], [0.7, \"#b8e186\"], [0.8, \"#7fbc41\"], [0.9, \"#4d9221\"], [1, \"#276419\"]], \"sequential\": [[0.0, \"#0d0887\"], [0.1111111111111111, \"#46039f\"], [0.2222222222222222, \"#7201a8\"], [0.3333333333333333, \"#9c179e\"], [0.4444444444444444, \"#bd3786\"], [0.5555555555555556, \"#d8576b\"], [0.6666666666666666, \"#ed7953\"], [0.7777777777777778, \"#fb9f3a\"], [0.8888888888888888, \"#fdca26\"], [1.0, \"#f0f921\"]], \"sequentialminus\": [[0.0, \"#0d0887\"], [0.1111111111111111, \"#46039f\"], [0.2222222222222222, \"#7201a8\"], [0.3333333333333333, \"#9c179e\"], [0.4444444444444444, \"#bd3786\"], [0.5555555555555556, \"#d8576b\"], [0.6666666666666666, \"#ed7953\"], [0.7777777777777778, \"#fb9f3a\"], [0.8888888888888888, \"#fdca26\"], [1.0, \"#f0f921\"]]}, \"colorway\": [\"#636efa\", \"#EF553B\", \"#00cc96\", \"#ab63fa\", \"#FFA15A\", \"#19d3f3\", \"#FF6692\", \"#B6E880\", \"#FF97FF\", \"#FECB52\"], \"font\": {\"color\": \"#2a3f5f\"}, \"geo\": {\"bgcolor\": \"white\", \"lakecolor\": \"white\", \"landcolor\": \"#E5ECF6\", \"showlakes\": true, \"showland\": true, \"subunitcolor\": \"white\"}, \"hoverlabel\": {\"align\": \"left\"}, \"hovermode\": \"closest\", \"mapbox\": {\"style\": \"light\"}, \"paper_bgcolor\": \"white\", \"plot_bgcolor\": \"#E5ECF6\", \"polar\": {\"angularaxis\": {\"gridcolor\": \"white\", \"linecolor\": \"white\", \"ticks\": \"\"}, \"bgcolor\": \"#E5ECF6\", \"radialaxis\": {\"gridcolor\": \"white\", \"linecolor\": \"white\", \"ticks\": \"\"}}, \"scene\": {\"xaxis\": {\"backgroundcolor\": \"#E5ECF6\", \"gridcolor\": \"white\", \"gridwidth\": 2, \"linecolor\": \"white\", \"showbackground\": true, \"ticks\": \"\", \"zerolinecolor\": \"white\"}, \"yaxis\": {\"backgroundcolor\": \"#E5ECF6\", \"gridcolor\": \"white\", \"gridwidth\": 2, \"linecolor\": \"white\", \"showbackground\": true, \"ticks\": \"\", \"zerolinecolor\": \"white\"}, \"zaxis\": {\"backgroundcolor\": \"#E5ECF6\", \"gridcolor\": \"white\", \"gridwidth\": 2, \"linecolor\": \"white\", \"showbackground\": true, \"ticks\": \"\", \"zerolinecolor\": \"white\"}}, \"shapedefaults\": {\"line\": {\"color\": \"#2a3f5f\"}}, \"ternary\": {\"aaxis\": {\"gridcolor\": \"white\", \"linecolor\": \"white\", \"ticks\": \"\"}, \"baxis\": {\"gridcolor\": \"white\", \"linecolor\": \"white\", \"ticks\": \"\"}, \"bgcolor\": \"#E5ECF6\", \"caxis\": {\"gridcolor\": \"white\", \"linecolor\": \"white\", \"ticks\": \"\"}}, \"title\": {\"x\": 0.05}, \"xaxis\": {\"automargin\": true, \"gridcolor\": \"white\", \"linecolor\": \"white\", \"ticks\": \"\", \"title\": {\"standoff\": 15}, \"zerolinecolor\": \"white\", \"zerolinewidth\": 2}, \"yaxis\": {\"automargin\": true, \"gridcolor\": \"white\", \"linecolor\": \"white\", \"ticks\": \"\", \"title\": {\"standoff\": 15}, \"zerolinecolor\": \"white\", \"zerolinewidth\": 2}}}, \"xaxis\": {\"anchor\": \"y\", \"domain\": [0.0, 1.0], \"title\": {\"text\": \"cluster\"}}, \"yaxis\": {\"anchor\": \"x\", \"domain\": [0.0, 1.0], \"title\": {\"text\": \"count\"}}},\n",
              "                        {\"responsive\": true}\n",
              "                    ).then(function(){\n",
              "                            \n",
              "var gd = document.getElementById('c7540036-6c52-4fef-b785-d1d023004d76');\n",
              "var x = new MutationObserver(function (mutations, observer) {{\n",
              "        var display = window.getComputedStyle(gd).display;\n",
              "        if (!display || display === 'none') {{\n",
              "            console.log([gd, 'removed!']);\n",
              "            Plotly.purge(gd);\n",
              "            observer.disconnect();\n",
              "        }}\n",
              "}});\n",
              "\n",
              "// Listen for the removal of the full notebook cells\n",
              "var notebookContainer = gd.closest('#notebook-container');\n",
              "if (notebookContainer) {{\n",
              "    x.observe(notebookContainer, {childList: true});\n",
              "}}\n",
              "\n",
              "// Listen for the clearing of the current output cell\n",
              "var outputEl = gd.closest('.output');\n",
              "if (outputEl) {{\n",
              "    x.observe(outputEl, {childList: true});\n",
              "}}\n",
              "\n",
              "                        })\n",
              "                };\n",
              "                \n",
              "            </script>\n",
              "        </div>\n",
              "</body>\n",
              "</html>"
            ]
          },
          "metadata": {
            "tags": []
          }
        }
      ]
    },
    {
      "cell_type": "code",
      "metadata": {
        "colab": {
          "base_uri": "https://localhost:8080/",
          "height": 542
        },
        "id": "_RXW1_Er-7Wv",
        "outputId": "3ceb0bba-40e2-403b-83a0-3681def864f0"
      },
      "source": [
        "px.bar(clusres, x='cluster', y='count',log_y=True)"
      ],
      "execution_count": null,
      "outputs": [
        {
          "output_type": "display_data",
          "data": {
            "text/html": [
              "<html>\n",
              "<head><meta charset=\"utf-8\" /></head>\n",
              "<body>\n",
              "    <div>\n",
              "            <script src=\"https://cdnjs.cloudflare.com/ajax/libs/mathjax/2.7.5/MathJax.js?config=TeX-AMS-MML_SVG\"></script><script type=\"text/javascript\">if (window.MathJax) {MathJax.Hub.Config({SVG: {font: \"STIX-Web\"}});}</script>\n",
              "                <script type=\"text/javascript\">window.PlotlyConfig = {MathJaxConfig: 'local'};</script>\n",
              "        <script src=\"https://cdn.plot.ly/plotly-latest.min.js\"></script>    \n",
              "            <div id=\"ac60ef2c-16ea-41d1-96c0-eb9f01206dfc\" class=\"plotly-graph-div\" style=\"height:525px; width:100%;\"></div>\n",
              "            <script type=\"text/javascript\">\n",
              "                \n",
              "                    window.PLOTLYENV=window.PLOTLYENV || {};\n",
              "                    \n",
              "                if (document.getElementById(\"ac60ef2c-16ea-41d1-96c0-eb9f01206dfc\")) {\n",
              "                    Plotly.newPlot(\n",
              "                        'ac60ef2c-16ea-41d1-96c0-eb9f01206dfc',\n",
              "                        [{\"alignmentgroup\": \"True\", \"hoverlabel\": {\"namelength\": 0}, \"hovertemplate\": \"cluster=%{x}<br>count=%{y}\", \"legendgroup\": \"\", \"marker\": {\"color\": \"#636efa\"}, \"name\": \"\", \"offsetgroup\": \"\", \"orientation\": \"v\", \"showlegend\": false, \"textposition\": \"auto\", \"type\": \"bar\", \"x\": [\"\\u0e2a\\u0e31\\u0e21\\u0e1c\\u0e31\\u0e2a\\u0e43\\u0e01\\u0e25\\u0e49\\u0e0a\\u0e34\\u0e14\\u0e01\\u0e31\\u0e1a\\u0e1c\\u0e39\\u0e49\\u0e1b\\u0e48\\u0e27\\u0e22\\u0e22\\u0e37\\u0e19\\u0e22\\u0e31\\u0e19\\u0e23\\u0e32\\u0e22\\u0e01\\u0e48\\u0e2d\\u0e19\\u0e2b\\u0e19\\u0e49\\u0e32\\u0e19\\u0e35\\u0e49\", \"\\u0e01\\u0e32\\u0e23\\u0e04\\u0e49\\u0e19\\u0e2b\\u0e32\\u0e1c\\u0e39\\u0e49\\u0e1b\\u0e48\\u0e27\\u0e22\\u0e40\\u0e0a\\u0e34\\u0e07\\u0e23\\u0e38\\u0e01\\u0e41\\u0e25\\u0e30\\u0e04\\u0e49\\u0e19\\u0e2b\\u0e32\\u0e1c\\u0e39\\u0e49\\u0e15\\u0e34\\u0e14\\u0e40\\u0e0a\\u0e37\\u0e49\\u0e2d\\u0e43\\u0e19\\u0e0a\\u0e38\\u0e21\\u0e0a\\u0e19\", \"\\u0e2d\\u0e22\\u0e39\\u0e48\\u0e23\\u0e30\\u0e2b\\u0e27\\u0e48\\u0e32\\u0e07\\u0e01\\u0e32\\u0e23\\u0e2a\\u0e2d\\u0e1a\\u0e2a\\u0e27\\u0e19\", \"\\u0e2d\\u0e37\\u0e48\\u0e19\\u0e46\", \"\\u0e17\\u0e31\\u0e13\\u0e11\\u0e2a\\u0e16\\u0e32\\u0e19/\\u0e40\\u0e23\\u0e37\\u0e2d\\u0e19\\u0e08\\u0e33\", \"\\u0e2a\\u0e16\\u0e32\\u0e19\\u0e17\\u0e35\\u0e48\\u0e17\\u0e33\\u0e07\\u0e32\\u0e19\", \"Cluster \\u0e2a\\u0e21\\u0e38\\u0e17\\u0e23\\u0e2a\\u0e32\\u0e04\\u0e23\", \"\\u0e44\\u0e1b\\u0e2a\\u0e16\\u0e32\\u0e19\\u0e17\\u0e35\\u0e48\\u0e0a\\u0e38\\u0e21\\u0e0a\\u0e19 \\u0e40\\u0e0a\\u0e48\\u0e19 \\u0e15\\u0e25\\u0e32\\u0e14\\u0e19\\u0e31\\u0e14 \\u0e2a\\u0e16\\u0e32\\u0e19\\u0e17\\u0e35\\u0e48\\u0e17\\u0e48\\u0e2d\\u0e07\\u0e40\\u0e17\\u0e35\\u0e48\\u0e22\\u0e27\", \"\\u0e2a\\u0e16\\u0e32\\u0e19\\u0e1a\\u0e31\\u0e19\\u0e40\\u0e17\\u0e34\\u0e07\", \"\\u0e23\\u0e30\\u0e1a\\u0e38\\u0e44\\u0e21\\u0e48\\u0e44\\u0e14\\u0e49\", \"Cluster \\u0e40\\u0e23\\u0e37\\u0e2d\\u0e19\\u0e08\\u0e33\\u0e1e\\u0e34\\u0e40\\u0e28\\u0e29\\u0e01\\u0e23\\u0e38\\u0e07\\u0e40\\u0e17\\u0e1e\", \"State Quarantine\", \"\\u0e1a\\u0e38\\u0e04\\u0e25\\u0e32\\u0e01\\u0e23\\u0e14\\u0e49\\u0e32\\u0e19\\u0e01\\u0e32\\u0e23\\u0e41\\u0e1e\\u0e17\\u0e22\\u0e4c\\u0e41\\u0e25\\u0e30\\u0e2a\\u0e32\\u0e18\\u0e32\\u0e23\\u0e13\\u0e2a\\u0e38\\u0e02\", \"\\u0e2d\\u0e32\\u0e0a\\u0e35\\u0e1e\\u0e40\\u0e2a\\u0e35\\u0e48\\u0e22\\u0e07 \\u0e40\\u0e0a\\u0e48\\u0e19 \\u0e17\\u0e33\\u0e07\\u0e32\\u0e19\\u0e43\\u0e19\\u0e2a\\u0e16\\u0e32\\u0e19\\u0e17\\u0e35\\u0e48\\u0e41\\u0e2d\\u0e2d\\u0e31\\u0e14 \\u0e2b\\u0e23\\u0e37\\u0e2d\\u0e17\\u0e33\\u0e07\\u0e32\\u0e19\\u0e43\\u0e01\\u0e25\\u0e49\\u0e0a\\u0e34\\u0e14\\u0e2a\\u0e31\\u0e21\\u0e1c\\u0e31\\u0e2a\\u0e0a\\u0e32\\u0e27\\u0e15\\u0e48\\u0e32\\u0e07\\u0e0a\\u0e32\\u0e15\\u0e34 \\u0e40\\u0e1b\\u0e47\\u0e19\\u0e15\\u0e49\\u0e19\", \"\\u0e1c\\u0e39\\u0e49\\u0e17\\u0e35\\u0e48\\u0e40\\u0e14\\u0e34\\u0e19\\u0e17\\u0e32\\u0e07\\u0e21\\u0e32\\u0e08\\u0e32\\u0e01\\u0e15\\u0e48\\u0e32\\u0e07\\u0e1b\\u0e23\\u0e30\\u0e40\\u0e17\\u0e28 \\u0e41\\u0e25\\u0e30\\u0e40\\u0e02\\u0e49\\u0e32 ASQ/ALQ\", \"Cluster \\u0e1c\\u0e31\\u0e1a Thonglor\", \"\", \"Cluster \\u0e40\\u0e23\\u0e37\\u0e2d\\u0e19\\u0e08\\u0e33\\u0e01\\u0e25\\u0e32\\u0e07\\u0e04\\u0e25\\u0e2d\\u0e07\\u0e40\\u0e1b\\u0e23\\u0e21\", \"\\u0e44\\u0e1b\\u0e2a\\u0e16\\u0e32\\u0e19\\u0e17\\u0e35\\u0e48\\u0e41\\u0e2d\\u0e2d\\u0e31\\u0e14 \\u0e40\\u0e0a\\u0e48\\u0e19 \\u0e07\\u0e32\\u0e19\\u0e41\\u0e1f\\u0e23\\u0e4c \\u0e04\\u0e2d\\u0e19\\u0e40\\u0e2a\\u0e34\\u0e23\\u0e4c\\u0e15\", \"\\u0e04\\u0e19\\u0e44\\u0e17\\u0e22\\u0e40\\u0e14\\u0e34\\u0e19\\u0e17\\u0e32\\u0e07\\u0e01\\u0e25\\u0e31\\u0e1a\\u0e08\\u0e32\\u0e01\\u0e15\\u0e48\\u0e32\\u0e07\\u0e1b\\u0e23\\u0e30\\u0e40\\u0e17\\u0e28\", \"Cluster \\u0e1a\\u0e32\\u0e07\\u0e41\\u0e04\", \"\\u0e15\\u0e23\\u0e27\\u0e08\\u0e01\\u0e48\\u0e2d\\u0e19\\u0e17\\u0e33\\u0e2b\\u0e31\\u0e15\\u0e16\\u0e01\\u0e32\\u0e23\", \"Cluster \\u0e04\\u0e25\\u0e2d\\u0e07\\u0e40\\u0e15\\u0e22\", \"\\u0e1b\\u0e2d\\u0e14\\u0e2d\\u0e31\\u0e01\\u0e40\\u0e2a\\u0e1a (Pneumonia)\", \"Cluster \\u0e15\\u0e25\\u0e32\\u0e14\\u0e1e\\u0e23\\u0e1e\\u0e31\\u0e12\\u0e19\\u0e4c\", \"Cluster \\u0e23\\u0e30\\u0e22\\u0e2d\\u0e07\", \"\\u0e28\\u0e39\\u0e19\\u0e22\\u0e4c\\u0e01\\u0e31\\u0e01\\u0e01\\u0e31\\u0e19 \\u0e1c\\u0e39\\u0e49\\u0e15\\u0e49\\u0e2d\\u0e07\\u0e01\\u0e31\\u0e01\", \"Cluster \\u0e15\\u0e25\\u0e32\\u0e14\\u0e2a\\u0e35\\u0e48\\u0e21\\u0e38\\u0e21\\u0e40\\u0e21\\u0e37\\u0e2d\\u0e07\", \"\\u0e2a\\u0e19\\u0e32\\u0e21\\u0e21\\u0e27\\u0e22\", \"\\u0e04\\u0e19\\u0e15\\u0e48\\u0e32\\u0e07\\u0e0a\\u0e32\\u0e15\\u0e34\\u0e40\\u0e14\\u0e34\\u0e19\\u0e17\\u0e32\\u0e07\\u0e21\\u0e32\\u0e08\\u0e32\\u0e01\\u0e15\\u0e48\\u0e32\\u0e07\\u0e1b\\u0e23\\u0e30\\u0e40\\u0e17\\u0e28\", \"ACF \\u0e2a\\u0e19\\u0e32\\u0e21\\u0e01\\u0e35\\u0e2c\\u0e32\\u0e44\\u0e17\\u0e22-\\u0e0d\\u0e35\\u0e48\\u0e1b\\u0e38\\u0e48\\u0e19\", \"Cluster \\u0e2a\\u0e21\\u0e38\\u0e17\\u0e23\\u0e1b\\u0e23\\u0e32\\u0e01\\u0e32\\u0e23 GRP Hightech\", \"ACF \\u0e2a\\u0e35\\u0e25\\u0e21\", \"\\u0e1e\\u0e34\\u0e18\\u0e35\\u0e01\\u0e23\\u0e23\\u0e21\\u0e17\\u0e32\\u0e07\\u0e28\\u0e32\\u0e2a\\u0e19\\u0e32\", \"Cluster \\u0e1a\\u0e48\\u0e2d\\u0e19\\u0e1e\\u0e31\\u0e17\\u0e22\\u0e32/\\u0e0a\\u0e25\\u0e1a\\u0e38\\u0e23\\u0e35\", \"Cluster \\u0e15\\u0e25\\u0e32\\u0e14\\u0e19\\u0e19\\u0e17\\u0e1a\\u0e38\\u0e23\\u0e35\", \"\\u0e1c\\u0e39\\u0e49\\u0e17\\u0e35\\u0e48\\u0e40\\u0e14\\u0e34\\u0e19\\u0e17\\u0e32\\u0e07\\u0e21\\u0e32\\u0e08\\u0e32\\u0e01\\u0e15\\u0e48\\u0e32\\u0e07\\u0e1b\\u0e23\\u0e30\\u0e40\\u0e17\\u0e28 \\u0e41\\u0e25\\u0e30\\u0e40\\u0e02\\u0e49\\u0e32 HQ/AHQ\", \"Cluster \\u0e17\\u0e31\\u0e13\\u0e11\\u0e2a\\u0e16\\u0e32\\u0e19\\u0e2b\\u0e0d\\u0e34\\u0e07\\u0e01\\u0e25\\u0e32\\u0e07\", \"Cluster \\u0e08\\u0e31\\u0e19\\u0e17\\u0e1a\\u0e38\\u0e23\\u0e35\", \"Cluster \\u0e1a\\u0e48\\u0e2d\\u0e19\\u0e44\\u0e01\\u0e48\\u0e2d\\u0e48\\u0e32\\u0e07\\u0e17\\u0e2d\\u0e07\", \"Cluster \\u0e42\\u0e23\\u0e07\\u0e07\\u0e32\\u0e19 QPP \\u0e1b\\u0e23\\u0e30\\u0e08\\u0e27\\u0e1a\\u0e2f\", \"Cluster \\u0e42\\u0e23\\u0e07\\u0e07\\u0e32\\u0e19 Big Star\", \"Cluster \\u0e0a\\u0e25\\u0e1a\\u0e38\\u0e23\\u0e35\", \"Cluster \\u0e40\\u0e04\\u0e23\\u0e37\\u0e2d\\u0e04\\u0e31\\u0e2a\\u0e40\\u0e0b\\u0e48\\u0e2d\\u0e23\\u0e4c\\u0e1e\\u0e35\\u0e04\\u0e42\\u0e2e\\u0e25\\u0e14\\u0e34\\u0e49\\u0e07 (CPG,CPH)\", \"\\u0e2a\\u0e31\\u0e21\\u0e1c\\u0e31\\u0e2a\\u0e1c\\u0e39\\u0e49\\u0e40\\u0e14\\u0e34\\u0e19\\u0e17\\u0e32\\u0e07\\u0e08\\u0e32\\u0e01\\u0e15\\u0e48\\u0e32\\u0e07\\u0e1b\\u0e23\\u0e30\\u0e40\\u0e17\\u0e28\", \"\\u0e2a\\u0e31\\u0e21\\u0e1c\\u0e31\\u0e2a\\u0e1c\\u0e39\\u0e49\\u0e1b\\u0e48\\u0e27\\u0e22\\u0e22\\u0e37\\u0e19\\u0e22\\u0e31\\u0e19\", \"Cluster \\u0e40\\u0e23\\u0e37\\u0e2d\\u0e19\\u0e08\\u0e33\\u0e1e\\u0e34\\u0e40\\u0e28\\u0e29\\u0e18\\u0e19\\u0e1a\\u0e38\\u0e23\\u0e35\", \"Cluster Memory 90's \\u0e01\\u0e23\\u0e38\\u0e07\\u0e40\\u0e17\\u0e1e\\u0e21\\u0e2b\\u0e32\\u0e19\\u0e04\\u0e23\", \"\\u0e2d\\u0e22\\u0e39\\u0e48\\u0e23\\u0e30\\u0e2b\\u0e27\\u0e48\\u0e32\\u0e07\\u0e2a\\u0e2d\\u0e1a\\u0e2a\\u0e27\\u0e19\", \"Cluster \\u0e17\\u0e31\\u0e13\\u0e11\\u0e2a\\u0e16\\u0e32\\u0e19\\u0e42\\u0e23\\u0e07\\u0e1e\\u0e22\\u0e32\\u0e1a\\u0e32\\u0e25\\u0e23\\u0e32\\u0e0a\\u0e17\\u0e31\\u0e13\\u0e11\\u0e4c\", \"Cluster \\u0e08\\u0e31\\u0e19\\u0e17\\u0e1a\\u0e38\\u0e23\\u0e35 (\\u0e0a\\u0e32\\u0e27\\u0e01\\u0e34\\u0e19\\u0e35)\", \"\\u0e1c\\u0e39\\u0e49\\u0e17\\u0e35\\u0e48\\u0e40\\u0e14\\u0e34\\u0e19\\u0e17\\u0e32\\u0e07\\u0e21\\u0e32\\u0e08\\u0e32\\u0e01\\u0e15\\u0e48\\u0e32\\u0e07\\u0e1b\\u0e23\\u0e30\\u0e40\\u0e17\\u0e28 \\u0e41\\u0e25\\u0e30\\u0e40\\u0e02\\u0e49\\u0e32 OQ\", \"ACF \\u0e23\\u0e2d\\u0e07\\u0e40\\u0e21\\u0e37\\u0e2d\\u0e07\", \"Cluster \\u0e21\\u0e2b\\u0e32\\u0e2a\\u0e32\\u0e23\\u0e04\\u0e32\\u0e21\", \"Cluster New Jazz \\u0e01\\u0e23\\u0e38\\u0e07\\u0e40\\u0e17\\u0e1e\\u0e21\\u0e2b\\u0e32\\u0e19\\u0e04\\u0e23\", \"ACF \\u0e2a\\u0e19\\u0e32\\u0e21\\u0e01\\u0e35\\u0e2c\\u0e32\\u0e18\\u0e39\\u0e1b\\u0e30\\u0e40\\u0e15\\u0e21\\u0e35\\u0e22\\u0e4c\", \"\\u0e2a\\u0e31\\u0e21\\u0e1c\\u0e31\\u0e2a\\u0e43\\u0e01\\u0e25\\u0e49\\u0e0a\\u0e34\\u0e14\\u0e1c\\u0e39\\u0e49\\u0e1b\\u0e48\\u0e27\\u0e22\\u0e22\\u0e37\\u0e19\\u0e22\\u0e31\\u0e19\\u0e01\\u0e48\\u0e2d\\u0e19\\u0e2b\\u0e19\\u0e49\\u0e32\", \"Sandbox\", \"\\u0e2a\\u0e31\\u0e21\\u0e1c\\u0e31\\u0e2a\\u0e43\\u0e01\\u0e25\\u0e49\\u0e0a\\u0e34\\u0e14\\u0e1c\\u0e39\\u0e49\\u0e1b\\u0e48\\u0e27\\u0e22\\u0e22\\u0e31\\u0e19\\u0e22\\u0e31\\u0e19\\u0e01\\u0e48\\u0e2d\\u0e19\\u0e2b\\u0e19\\u0e49\\u0e32\", \"Cluster \\u0e2a\\u0e21\\u0e38\\u0e17\\u0e23\\u0e1b\\u0e23\\u0e32\\u0e01\\u0e32\\u0e23 (\\u0e42\\u0e23\\u0e07\\u0e07\\u0e32\\u0e19 \\u0e1a\\u0e23\\u0e34\\u0e29\\u0e31\\u0e17\\u0e40\\u0e21\\u0e17\\u0e31\\u0e25 \\u0e42\\u0e1b\\u0e23\\u0e14\\u0e31\\u0e01\\u0e2a\\u0e4c)\", \"\\u0e44\\u0e1b\\u0e41\\u0e2b\\u0e25\\u0e48\\u0e07\\u0e0a\\u0e38\\u0e21\\u0e0a\\u0e19/\\u0e2a\\u0e16\\u0e32\\u0e19\\u0e17\\u0e35\\u0e48\\u0e04\\u0e19\\u0e2b\\u0e19\\u0e32\\u0e41\\u0e19\\u0e48\\u0e19\", \"Cluster \\u0e1a\\u0e23\\u0e34\\u0e29\\u0e31\\u0e17\\u0e28\\u0e23\\u0e35\\u0e2a\\u0e27\\u0e31\\u0e2a\\u0e14\\u0e34\\u0e4c\", \"Cluster \\u0e2b\\u0e49\\u0e32\\u0e07\\u0e41\\u0e2a\\u0e07\\u0e17\\u0e2d\\u0e07 (\\u0e2a\\u0e32\\u0e22\\u0e25\\u0e48\\u0e32\\u0e07)\", \"Cluster \\u0e15\\u0e25\\u0e32\\u0e14\\u0e1a\\u0e32\\u0e07\\u0e1e\\u0e25\\u0e35\", \"Cluster \\u0e08\\u0e31\\u0e19\\u0e17\\u0e1a\\u0e38\\u0e23\\u0e35 (\\u0e0a\\u0e32\\u0e27\\u0e01\\u0e34\\u0e19\\u0e35 )\", \"Cluster \\u0e1a\\u0e48\\u0e2d\\u0e19\\u0e40\\u0e17\\u0e1e\\u0e32\\u0e23\\u0e31\\u0e01\\u0e29\\u0e4c\", \"Cluster \\u0e17\\u0e31\\u0e19\\u0e11\\u0e2a\\u0e16\\u0e32\\u0e19\\u0e1a\\u0e33\\u0e1a\\u0e31\\u0e14\\u0e1e\\u0e34\\u0e40\\u0e28\\u0e29\\u0e01\\u0e25\\u0e32\\u0e07\", \"Cluster Icon siam\", \"\\u0e2d\\u0e22\\u0e39\\u0e48\\u0e23\\u0e30\\u0e2b\\u0e27\\u0e48\\u0e32\\u0e07\\u0e2a\\u0e2d\\u0e1a\\u0e2a\\u0e27\\u0e19\\u0e42\\u0e23\\u0e04\", \"Cluster The Lounge Salaya\", \"\\u0e2a\\u0e31\\u0e21\\u0e1c\\u0e31\\u0e2a\\u0e1c\\u0e39\\u0e49\\u0e1b\\u0e48\\u0e27\\u0e22\\u0e22\\u0e37\\u0e19\\u0e22\\u0e31\\u0e19 \\u0e2d\\u0e22\\u0e39\\u0e48\\u0e23\\u0e30\\u0e2b\\u0e27\\u0e48\\u0e32\\u0e07\\u0e2a\\u0e2d\\u0e1a\\u0e2a\\u0e27\\u0e19\", \"2.\\u0e2a\\u0e31\\u0e21\\u0e1c\\u0e31\\u0e2a\\u0e1c\\u0e39\\u0e49\\u0e15\\u0e34\\u0e14\\u0e40\\u0e0a\\u0e37\\u0e49\\u0e2d\", \"Cluster \\u0e0a\\u0e25\\u0e1a\\u0e38\\u0e23\\u0e35 \\u0e42\\u0e23\\u0e07\\u0e40\\u0e1a\\u0e35\\u0e22\\u0e23\\u0e4c 90\", \"Cluster \\u0e42\\u0e23\\u0e07\\u0e07\\u0e32\\u0e19 standard can\", \"\\u0e2d\\u0e22\\u0e39\\u0e48\\u0e23\\u0e30\\u0e2b\\u0e27\\u0e48\\u0e32\\u0e07\\u0e01\\u0e32\\u0e23\\u0e2a\\u0e2d\\u0e1a\\u0e2a\\u0e27\\u0e19\\n\", \"Cluster \\u0e15\\u0e23\\u0e32\\u0e14\", \"Cluster \\u0e40\\u0e23\\u0e37\\u0e2d\\u0e19\\u0e08\\u0e33\\u0e1e\\u0e34\\u0e40\\u0e28\\u0e29\\u0e21\\u0e35\\u0e19\\u0e1a\\u0e38\\u0e23\\u0e35\", \"\\u0e2a\\u0e31\\u0e21\\u0e1c\\u0e31\\u0e2a\\u0e1c\\u0e39\\u0e49\\u0e15\\u0e34\\u0e14\\u0e40\\u0e0a\\u0e37\\u0e49\\u0e2d\\u0e22\\u0e37\\u0e19\\u0e22\\u0e31\\u0e19 \\u0e2d\\u0e22\\u0e39\\u0e48\\u0e23\\u0e30\\u0e2b\\u0e27\\u0e48\\u0e32\\u0e07\\u0e2a\\u0e2d\\u0e1a\\u0e2a\\u0e27\\u0e19\", \"ACF \\u0e40\\u0e04\\u0e2b\\u0e30\\u0e2b\\u0e25\\u0e31\\u0e01\\u0e2a\\u0e35\\u0e48\", \"\\u0e2a\\u0e31\\u0e21\\u0e1c\\u0e31\\u0e2a\\u0e43\\u0e19\\u0e2a\\u0e16\\u0e32\\u0e19\\u0e1e\\u0e22\\u0e32\\u0e1a\\u0e32\\u0e25\", \"\\u0e2a\\u0e31\\u0e21\\u0e1c\\u0e31\\u0e2a\\u0e1c\\u0e39\\u0e49\\u0e1b\\u0e48\\u0e27\\u0e22\\u0e17\\u0e35\\u0e48\\u0e15\\u0e34\\u0e14\\u0e42\\u0e04\\u0e27\\u0e34\\u0e14\", \"Cluster \\u0e08\\u0e19\\u0e17. \\u0e2a\\u0e19\\u0e32\\u0e21\\u0e1a\\u0e34\\u0e19\\u0e2a\\u0e38\\u0e27\\u0e23\\u0e23\\u0e13\\u0e20\\u0e39\\u0e21\\u0e34\", \"\\u0e44\\u0e1b\\u0e22\\u0e31\\u0e07\\u0e1e\\u0e37\\u0e49\\u0e19\\u0e17\\u0e35\\u0e48\\u0e17\\u0e35\\u0e48\\u0e21\\u0e35\\u0e01\\u0e32\\u0e23\\u0e23\\u0e30\\u0e1a\\u0e32\\u0e14\", \"\\u0e2a\\u0e31\\u0e21\\u0e1c\\u0e31\\u0e2a\\u0e1c\\u0e39\\u0e49\\u0e1b\\u0e48\\u0e27\\u0e22\\u0e22\\u0e37\\u0e19\\u0e22\\u0e31\\u0e19 \\n \\u0e2d\\u0e22\\u0e39\\u0e48\\u0e23\\u0e30\\u0e2b\\u0e27\\u0e48\\u0e32\\u0e07\\u0e2a\\u0e2d\\u0e1a\\u0e2a\\u0e27\\u0e19\", \"Cluster \\u0e2a\\u0e16\\u0e32\\u0e19\\u0e1a\\u0e31\\u0e19\\u0e40\\u0e17\\u0e34\\u0e07\\u0e22\\u0e48\\u0e32\\u0e19\\u0e17\\u0e2d\\u0e07\\u0e2b\\u0e25\\u0e48\\u0e2d\", \"Cluster \\u0e0a\\u0e25\\u0e1a\\u0e38\\u0e23\\u0e35 \\u0e1a\\u0e23\\u0e34\\u0e29\\u0e31\\u0e17\\u0e44\\u0e14\\u0e01\\u0e34\\u0e49\\u0e19\", \"Cluster \\u0e15\\u0e23\\u0e32\\u0e14 \", \"\\u0e40\\u0e14\\u0e34\\u0e19\\u0e17\\u0e32\\u0e07\\u0e21\\u0e32\\u0e08\\u0e32\\u0e01\\u0e1e\\u0e37\\u0e49\\u0e19\\u0e17\\u0e35\\u0e48\\u0e40\\u0e2a\\u0e35\\u0e48\\u0e22\\u0e07\\u0e17\\u0e35\\u0e48\\u0e21\\u0e35\\u0e01\\u0e32\\u0e23\\u0e23\\u0e30\\u0e1a\\u0e32\\u0e14\\u0e02\\u0e2d\\u0e07\\u0e42\\u0e23\\u0e04\", \"\\u0e1c\\u0e39\\u0e49\\u0e40\\u0e14\\u0e34\\u0e19\\u0e17\\u0e32\\u0e07\\u0e21\\u0e32\\u0e08\\u0e32\\u0e01\\u0e1e\\u0e37\\u0e49\\u0e19\\u0e17\\u0e35\\u0e48\\u0e40\\u0e2a\\u0e35\\u0e48\\u0e22\\u0e07 \\u0e01\\u0e23\\u0e38\\u0e07\\u0e40\\u0e17\\u0e1e\\u0e21\\u0e2b\\u0e32\\u0e19\\u0e04\\u0e23.\", \"\\u0e23\\u0e2d\\u0e1b\\u0e23\\u0e30\\u0e2a\\u0e32\\u0e19\", \"\\u0e1c\\u0e39\\u0e49\\u0e17\\u0e35\\u0e48\\u0e40\\u0e14\\u0e34\\u0e19\\u0e17\\u0e32\\u0e07\\u0e21\\u0e32\\u0e08\\u0e32\\u0e01\\u0e15\\u0e48\\u0e32\\u0e07\\u0e1b\\u0e23\\u0e30\\u0e40\\u0e17\\u0e28 \\u0e41\\u0e25\\u0e30\\u0e40\\u0e02\\u0e49\\u0e32 AOQ\", \"\\u0e1c\\u0e39\\u0e49\\u0e1b\\u0e48\\u0e27\\u0e22 PUI\", \"\\u0e23\\u0e49\\u0e32\\u0e19\\u0e2d\\u0e32\\u0e2b\\u0e32\\u0e23\", \"Cluster \\u0e1b\\u0e32\\u0e01\\u0e0a\\u0e48\\u0e2d\\u0e07\", \"\\u0e40\\u0e14\\u0e34\\u0e19\\u0e17\\u0e32\\u0e07\\u0e21\\u0e32\\u0e08\\u0e32\\u0e01\\u0e1e\\u0e37\\u0e49\\u0e19\\u0e17\\u0e35\\u0e48\\u0e08\\u0e31\\u0e07\\u0e2b\\u0e27\\u0e31\\u0e14\\u0e40\\u0e2a\\u0e35\\u0e48\\u0e22\\u0e07\", \"\\u0e44\\u0e1b\\u0e40\\u0e17\\u0e35\\u0e48\\u0e22\\u0e27\\u0e2a\\u0e16\\u0e32\\u0e19\\u0e1a\\u0e31\\u0e19\\u0e40\\u0e17\\u0e34\\u0e07\\u0e43\\u0e19\\u0e2d\\u0e38\\u0e1a\\u0e25\\u0e17\\u0e35\\u0e48\\u0e1e\\u0e1a\\u0e01\\u0e32\\u0e23\\u0e23\\u0e30\\u0e1a\\u0e32\\u0e14\\u0e02\\u0e2d\\u0e07\\u0e42\\u0e23\\u0e04 Ubar\", \"Cluster \\u0e15\\u0e25\\u0e32\\u0e14\\u0e1a\\u0e32\\u0e07\\u0e41\\u0e04\", \"\\u0e2a\\u0e31\\u0e21\\u0e1c\\u0e31\\u0e2a\\u0e1c\\u0e39\\u0e49\\u0e1b\\u0e48\\u0e27\\u0e22\\u0e22\\u0e37\\u0e19\\u0e22\\u0e31\\u0e19\\u0e40\\u0e1e\\u0e37\\u0e48\\u0e2d\\u0e19\\u0e23\\u0e48\\u0e27\\u0e21\\u0e07\\u0e32\\u0e19\", \"\\u0e04\\u0e49\\u0e19\\u0e2b\\u0e32\\u0e40\\u0e0a\\u0e34\\u0e07\\u0e23\\u0e38\\u0e01\", \"\\u0e23\\u0e30\\u0e2b\\u0e27\\u0e48\\u0e32\\u0e07\\u0e2a\\u0e2d\\u0e1a\\u0e2a\\u0e27\\u0e19\", \"\\u0e40\\u0e14\\u0e34\\u0e19\\u0e17\\u0e32\\u0e07\\u0e21\\u0e32\\u0e08\\u0e32\\u0e01\\u0e1e\\u0e37\\u0e49\\u0e19\\u0e17\\u0e35\\u0e48\\u0e21\\u0e35\\u0e01\\u0e32\\u0e23\\u0e23\\u0e30\\u0e1a\\u0e32\\u0e14\\u0e02\\u0e2d\\u0e07\\u0e42\\u0e23\\u0e04\", \"\\u0e1c\\u0e31\\u0e1a\\u0e2b\\u0e31\\u0e27\\u0e2b\\u0e34\\u0e19\", \"\\u0e1c\\u0e39\\u0e49\\u0e15\\u0e34\\u0e14\\u0e40\\u0e0a\\u0e37\\u0e49\\u0e2d\\u0e43\\u0e19\\u0e1b\\u0e23\\u0e30\\u0e40\\u0e17\\u0e28\", \"\\u0e04\\u0e19\\u0e44\\u0e17\\u0e22\\u0e40\\u0e14\\u0e34\\u0e19\\u0e17\\u0e32\\u0e07\\u0e21\\u0e32\\u0e08\\u0e32\\u0e01\\u0e15\\u0e48\\u0e32\\u0e07\\u0e1b\\u0e23\\u0e30\\u0e40\\u0e17\\u0e28\", \"\\u0e23\\u0e30\\u0e2b\\u0e27\\u0e48\\u0e32\\u0e07\\u0e01\\u0e32\\u0e23\\u0e2a\\u0e2d\\u0e1a\\u0e2a\\u0e27\\u0e19\\u0e42\\u0e23\\u0e04\", \"Cluster \\u0e01\\u0e23\\u0e38\\u0e07\\u0e40\\u0e17\\u0e1e\\u0e21\\u0e2b\\u0e32\\u0e19\\u0e04\\u0e23. \\u0e04\\u0e25\\u0e2d\\u0e07\\u0e40\\u0e15\\u0e22\", \"Cluster \\u0e07\\u0e32\\u0e19\\u0e21\\u0e2d\\u0e40\\u0e15\\u0e2d\\u0e23\\u0e4c \\u0e42\\u0e0a\\u0e27\\u0e4c\", \"Cluster \\u0e42\\u0e23\\u0e07\\u0e07\\u0e32\\u0e19\\u0e17\\u0e33\\u0e02\\u0e19\\u0e21 \\u0e1a\\u0e32\\u0e07\\u0e02\\u0e38\\u0e19\\u0e40\\u0e17\\u0e35\\u0e22\\u0e19\", \"Cluster \\u0e23\\u0e30\\u0e22\\u0e2d\\u0e07 \\u0e27\\u0e34\\u0e23\\u0e34\\u0e22\\u0e30\\u0e1b\\u0e23\\u0e30\\u0e01\\u0e31\\u0e19\\u0e20\\u0e31\\u0e22\", \"\\u0e2d\\u0e32\\u0e28\\u0e31\\u0e22/\\u0e40\\u0e14\\u0e34\\u0e19\\u0e17\\u0e32\\u0e07\\u0e44\\u0e1b\\u0e43\\u0e19\\u0e1e\\u0e37\\u0e49\\u0e19\\u0e17\\u0e35\\u0e48\\u0e17\\u0e35\\u0e48\\u0e21\\u0e35\\u0e01\\u0e32\\u0e23\\u0e23\\u0e30\\u0e1a\\u0e32\\u0e14\", \"\\u0e2a\\u0e31\\u0e21\\u0e1c\\u0e31\\u0e2a\\u0e1c\\u0e39\\u0e49\\u0e15\\u0e34\\u0e14\\u0e40\\u0e0a\\u0e37\\u0e49\\u0e2d\\u0e22\\u0e37\\u0e19\\u0e22\\u0e31\\u0e19\\n\\u0e2d\\u0e22\\u0e39\\u0e48\\u0e23\\u0e30\\u0e2b\\u0e27\\u0e48\\u0e32\\u0e07\\u0e2a\\u0e2d\\u0e1a\\u0e2a\\u0e27\\u0e19\", \"\\u0e1b\\u0e2d\\u0e14\\u0e2d\\u0e31\\u0e01\\u0e40\\u0e2a\\u0e1a Pneumonia\", \"\\u0e2a\\u0e31\\u0e21\\u0e1c\\u0e31\\u0e2a\\u0e1c\\u0e39\\u0e49\\u0e1b\\u0e48\\u0e27\\u0e22\\u0e22\\u0e37\\u0e19\\u0e22\\u0e31\\u0e19 \\u0e20\\u0e32\\u0e22\\u0e43\\u0e19\\u0e04\\u0e23\\u0e2d\\u0e1a\\u0e04\\u0e23\\u0e31\\u0e27/\\u0e0a\\u0e38\\u0e21\\u0e0a\\u0e19/\\u0e40\\u0e1e\\u0e37\\u0e48\\u0e2d\\u0e19\", \"\\u0e2d\\u0e22\\u0e38\\u0e48\\u0e23\\u0e30\\u0e2b\\u0e27\\u0e48\\u0e32\\u0e07\\u0e2a\\u0e2d\\u0e1a\\u0e2a\\u0e27\\u0e19\", \"Cluster \\u0e2a\\u0e21\\u0e38\\u0e17\\u0e23\\u0e1b\\u0e23\\u0e32\\u0e01\\u0e32\\u0e23 \\u0e15\\u0e25\\u0e32\\u0e14\\u0e40\\u0e04\\u0e2b\\u0e30\\u0e1a\\u0e32\\u0e07\\u0e1e\\u0e25\\u0e35\", \"Refer in\", \"\\u0e23\\u0e31\\u0e1a\\u0e08\\u0e49\\u0e32\\u0e07\\u0e02\\u0e19\\u0e02\\u0e2d\\u0e07\\u0e17\\u0e35\\u0e48\\u0e15\\u0e25\\u0e32\\u0e14\\u0e17\\u0e48\\u0e32\\u0e22\\u0e32\\u0e07\", \"Cluster \\u0e42\\u0e23\\u0e07\\u0e07\\u0e32\\u0e19  Big Star\", \"\\u0e1c\\u0e39\\u0e49\\u0e1b\\u0e48\\u0e27\\u0e22 \\u0e01\\u0e23\\u0e38\\u0e07\\u0e40\\u0e17\\u0e1e\\u0e21\\u0e2b\\u0e32\\u0e19\\u0e04\\u0e23\", \"\\u0e04\\u0e19\\u0e44\\u0e17\\u0e22\\u0e21\\u0e32\\u0e08\\u0e32\\u0e01\\u0e1e\\u0e37\\u0e49\\u0e19\\u0e17\\u0e35\\u0e48\\u0e40\\u0e2a\\u0e35\\u0e48\\u0e22\\u0e07\", \"\\u0e2a\\u0e31\\u0e21\\u0e1c\\u0e31\\u0e2a\\u0e1c\\u0e39\\u0e49\\u0e1b\\u0e48\\u0e27\\u0e22\\u0e22\\u0e37\\u0e19\\u0e22\\u0e31\\u0e19 (\\u0e22\\u0e31\\u0e07\\u0e44\\u0e21\\u0e48\\u0e2a\\u0e32\\u0e21\\u0e32\\u0e23\\u0e16\\u0e23\\u0e30\\u0e1a\\u0e38\\u0e44\\u0e14\\u0e49)\", \"\\u0e2d\\u0e37\\u0e48\\u0e19\", \"\\u0e41\\u0e23\\u0e07\\u0e07\\u0e32\\u0e19\\u0e15\\u0e48\\u0e32\\u0e07\\u0e14\\u0e49\\u0e32\\u0e27\\u0e15\\u0e23\\u0e27\\u0e08\\u0e01\\u0e48\\u0e2d\\u0e19\\u0e02\\u0e36\\u0e49\\u0e19\\u0e17\\u0e30\\u0e40\\u0e1a\\u0e35\\u0e22\\u0e19\", \"\\u0e2a\\u0e31\\u0e21\\u0e1c\\u0e31\\u0e2a\\u0e1c\\u0e39\\u0e49\\u0e1b\\u0e48\\u0e27\\u0e22\\u0e22\\u0e37\\u0e19\\u0e22\\u0e31\\u0e19 \\u0e2d\\u0e22\\u0e38\\u0e4b\\u0e23\\u0e30\\u0e2b\\u0e27\\u0e48\\u0e32\\u0e07\\u0e2a\\u0e2d\\u0e1a\\u0e2a\\u0e27\\u0e19\", \"cluster \\u0e0a\\u0e25\\u0e1a\\u0e38\\u0e23\\u0e35\\n(\\u0e2d\\u0e22\\u0e39\\u0e48\\u0e23\\u0e30\\u0e2b\\u0e27\\u0e48\\u0e32\\u0e07\\u0e01\\u0e32\\u0e23\\u0e2a\\u0e2d\\u0e1a\\u0e2a\\u0e27\\u0e19)\", \"\\u0e44\\u0e1b\\u0e22\\u0e31\\u0e07/\\u0e21\\u0e32\\u0e08\\u0e32\\u0e01 \\u0e1e\\u0e37\\u0e49\\u0e19\\u0e17\\u0e35\\u0e48\\u0e23\\u0e30\\u0e1a\\u0e32\\u0e14\\u0e01\\u0e23\\u0e38\\u0e07\\u0e40\\u0e17\\u0e1e\\u0e21\\u0e2b\\u0e32\\u0e19\\u0e04\\u0e23\\u0e21\\u0e2b\\u0e32\\u0e19\\u0e04\\u0e23\", \"\\u0e15\\u0e25\\u0e32\\u0e14\", \"\\u0e44\\u0e1b\\u0e2a\\u0e16\\u0e32\\u0e19\\u0e17\\u0e35\\u0e48\\u0e40\\u0e2a\\u0e35\\u0e48\\u0e22\\u0e07 \\u0e40\\u0e0a\\u0e48\\u0e19 \\u0e15\\u0e25\\u0e32\\u0e14 \\u0e2a\\u0e16\\u0e32\\u0e19\\u0e17\\u0e35\\u0e48\\u0e0a\\u0e38\\u0e21\\u0e0a\\u0e19\", \"Cluster \\u0e15\\u0e25\\u0e32\\u0e14\\u0e1a\\u0e32\\u0e07\\u0e41\\u0e04/\\u0e04\\u0e25\\u0e2d\\u0e07\\u0e02\\u0e27\\u0e32\\u0e07\", \"SHUI\", \"\\u0e15\\u0e23\\u0e27\\u0e08\\u0e2a\\u0e38\\u0e02\\u0e20\\u0e32\\u0e1e\\u0e41\\u0e23\\u0e07\\u0e07\\u0e32\\u0e19\\u0e15\\u0e48\\u0e32\\u0e07\\u0e14\\u0e49\\u0e32\\u0e27\", \"\\u0e2a\\u0e31\\u0e21\\u0e1c\\u0e31\\u0e2a\\u0e2a\\u0e32\\u0e21\\u0e35\\u0e2a\\u0e30\\u0e2d\\u0e32\\u0e14 \\u0e40\\u0e02\\u0e15\\u0e1a\\u0e49\\u0e32\\u0e19 (\\u0e23\\u0e1e.\\u0e21\\u0e2b\\u0e32\\u0e0a\\u0e31\\u0e22 2)\"], \"xaxis\": \"x\", \"y\": [154482, 68757, 50916, 39723, 37374, 26206, 17900, 14118, 4753, 3586, 2836, 2671, 1794, 1331, 1249, 1093, 1079, 894, 751, 742, 677, 673, 671, 625, 559, 482, 454, 344, 277, 210, 135, 130, 110, 107, 98, 85, 84, 78, 75, 69, 69, 64, 62, 55, 50, 43, 41, 40, 33, 30, 26, 25, 24, 23, 23, 23, 20, 20, 19, 19, 17, 16, 16, 15, 12, 12, 12, 11, 10, 10, 10, 10, 9, 7, 7, 6, 5, 5, 4, 4, 4, 4, 3, 3, 3, 3, 3, 2, 2, 2, 2, 2, 2, 2, 1, 1, 1, 1, 1, 1, 1, 1, 1, 1, 1, 1, 1, 1, 1, 1, 1, 1, 1, 1, 1, 1, 1, 1, 1, 1, 1, 1, 1, 1, 1, 1, 1, 1, 1, 1, 1, 1], \"yaxis\": \"y\"}],\n",
              "                        {\"barmode\": \"relative\", \"legend\": {\"tracegroupgap\": 0}, \"margin\": {\"t\": 60}, \"template\": {\"data\": {\"bar\": [{\"error_x\": {\"color\": \"#2a3f5f\"}, \"error_y\": {\"color\": \"#2a3f5f\"}, \"marker\": {\"line\": {\"color\": \"#E5ECF6\", \"width\": 0.5}}, \"type\": \"bar\"}], \"barpolar\": [{\"marker\": {\"line\": {\"color\": \"#E5ECF6\", \"width\": 0.5}}, \"type\": \"barpolar\"}], \"carpet\": [{\"aaxis\": {\"endlinecolor\": \"#2a3f5f\", \"gridcolor\": \"white\", \"linecolor\": \"white\", \"minorgridcolor\": \"white\", \"startlinecolor\": \"#2a3f5f\"}, \"baxis\": {\"endlinecolor\": \"#2a3f5f\", \"gridcolor\": \"white\", \"linecolor\": \"white\", \"minorgridcolor\": \"white\", \"startlinecolor\": \"#2a3f5f\"}, \"type\": \"carpet\"}], \"choropleth\": [{\"colorbar\": {\"outlinewidth\": 0, \"ticks\": \"\"}, \"type\": \"choropleth\"}], \"contour\": [{\"colorbar\": {\"outlinewidth\": 0, \"ticks\": \"\"}, \"colorscale\": [[0.0, \"#0d0887\"], [0.1111111111111111, \"#46039f\"], [0.2222222222222222, \"#7201a8\"], [0.3333333333333333, \"#9c179e\"], [0.4444444444444444, \"#bd3786\"], [0.5555555555555556, \"#d8576b\"], [0.6666666666666666, \"#ed7953\"], [0.7777777777777778, \"#fb9f3a\"], [0.8888888888888888, \"#fdca26\"], [1.0, \"#f0f921\"]], \"type\": \"contour\"}], \"contourcarpet\": [{\"colorbar\": {\"outlinewidth\": 0, \"ticks\": \"\"}, \"type\": \"contourcarpet\"}], \"heatmap\": [{\"colorbar\": {\"outlinewidth\": 0, \"ticks\": \"\"}, \"colorscale\": [[0.0, \"#0d0887\"], [0.1111111111111111, \"#46039f\"], [0.2222222222222222, \"#7201a8\"], [0.3333333333333333, \"#9c179e\"], [0.4444444444444444, \"#bd3786\"], [0.5555555555555556, \"#d8576b\"], [0.6666666666666666, \"#ed7953\"], [0.7777777777777778, \"#fb9f3a\"], [0.8888888888888888, \"#fdca26\"], [1.0, \"#f0f921\"]], \"type\": \"heatmap\"}], \"heatmapgl\": [{\"colorbar\": {\"outlinewidth\": 0, \"ticks\": \"\"}, \"colorscale\": [[0.0, \"#0d0887\"], [0.1111111111111111, \"#46039f\"], [0.2222222222222222, \"#7201a8\"], [0.3333333333333333, \"#9c179e\"], [0.4444444444444444, \"#bd3786\"], [0.5555555555555556, \"#d8576b\"], [0.6666666666666666, \"#ed7953\"], [0.7777777777777778, \"#fb9f3a\"], [0.8888888888888888, \"#fdca26\"], [1.0, \"#f0f921\"]], \"type\": \"heatmapgl\"}], \"histogram\": [{\"marker\": {\"colorbar\": {\"outlinewidth\": 0, \"ticks\": \"\"}}, \"type\": \"histogram\"}], \"histogram2d\": [{\"colorbar\": {\"outlinewidth\": 0, \"ticks\": \"\"}, \"colorscale\": [[0.0, \"#0d0887\"], [0.1111111111111111, \"#46039f\"], [0.2222222222222222, \"#7201a8\"], [0.3333333333333333, \"#9c179e\"], [0.4444444444444444, \"#bd3786\"], [0.5555555555555556, \"#d8576b\"], [0.6666666666666666, \"#ed7953\"], [0.7777777777777778, \"#fb9f3a\"], [0.8888888888888888, \"#fdca26\"], [1.0, \"#f0f921\"]], \"type\": \"histogram2d\"}], \"histogram2dcontour\": [{\"colorbar\": {\"outlinewidth\": 0, \"ticks\": \"\"}, \"colorscale\": [[0.0, \"#0d0887\"], [0.1111111111111111, \"#46039f\"], [0.2222222222222222, \"#7201a8\"], [0.3333333333333333, \"#9c179e\"], [0.4444444444444444, \"#bd3786\"], [0.5555555555555556, \"#d8576b\"], [0.6666666666666666, \"#ed7953\"], [0.7777777777777778, \"#fb9f3a\"], [0.8888888888888888, \"#fdca26\"], [1.0, \"#f0f921\"]], \"type\": \"histogram2dcontour\"}], \"mesh3d\": [{\"colorbar\": {\"outlinewidth\": 0, \"ticks\": \"\"}, \"type\": \"mesh3d\"}], \"parcoords\": [{\"line\": {\"colorbar\": {\"outlinewidth\": 0, \"ticks\": \"\"}}, \"type\": \"parcoords\"}], \"pie\": [{\"automargin\": true, \"type\": \"pie\"}], \"scatter\": [{\"marker\": {\"colorbar\": {\"outlinewidth\": 0, \"ticks\": \"\"}}, \"type\": \"scatter\"}], \"scatter3d\": [{\"line\": {\"colorbar\": {\"outlinewidth\": 0, \"ticks\": \"\"}}, \"marker\": {\"colorbar\": {\"outlinewidth\": 0, \"ticks\": \"\"}}, \"type\": \"scatter3d\"}], \"scattercarpet\": [{\"marker\": {\"colorbar\": {\"outlinewidth\": 0, \"ticks\": \"\"}}, \"type\": \"scattercarpet\"}], \"scattergeo\": [{\"marker\": {\"colorbar\": {\"outlinewidth\": 0, \"ticks\": \"\"}}, \"type\": \"scattergeo\"}], \"scattergl\": [{\"marker\": {\"colorbar\": {\"outlinewidth\": 0, \"ticks\": \"\"}}, \"type\": \"scattergl\"}], \"scattermapbox\": [{\"marker\": {\"colorbar\": {\"outlinewidth\": 0, \"ticks\": \"\"}}, \"type\": \"scattermapbox\"}], \"scatterpolar\": [{\"marker\": {\"colorbar\": {\"outlinewidth\": 0, \"ticks\": \"\"}}, \"type\": \"scatterpolar\"}], \"scatterpolargl\": [{\"marker\": {\"colorbar\": {\"outlinewidth\": 0, \"ticks\": \"\"}}, \"type\": \"scatterpolargl\"}], \"scatterternary\": [{\"marker\": {\"colorbar\": {\"outlinewidth\": 0, \"ticks\": \"\"}}, \"type\": \"scatterternary\"}], \"surface\": [{\"colorbar\": {\"outlinewidth\": 0, \"ticks\": \"\"}, \"colorscale\": [[0.0, \"#0d0887\"], [0.1111111111111111, \"#46039f\"], [0.2222222222222222, \"#7201a8\"], [0.3333333333333333, \"#9c179e\"], [0.4444444444444444, \"#bd3786\"], [0.5555555555555556, \"#d8576b\"], [0.6666666666666666, \"#ed7953\"], [0.7777777777777778, \"#fb9f3a\"], [0.8888888888888888, \"#fdca26\"], [1.0, \"#f0f921\"]], \"type\": \"surface\"}], \"table\": [{\"cells\": {\"fill\": {\"color\": \"#EBF0F8\"}, \"line\": {\"color\": \"white\"}}, \"header\": {\"fill\": {\"color\": \"#C8D4E3\"}, \"line\": {\"color\": \"white\"}}, \"type\": \"table\"}]}, \"layout\": {\"annotationdefaults\": {\"arrowcolor\": \"#2a3f5f\", \"arrowhead\": 0, \"arrowwidth\": 1}, \"coloraxis\": {\"colorbar\": {\"outlinewidth\": 0, \"ticks\": \"\"}}, \"colorscale\": {\"diverging\": [[0, \"#8e0152\"], [0.1, \"#c51b7d\"], [0.2, \"#de77ae\"], [0.3, \"#f1b6da\"], [0.4, \"#fde0ef\"], [0.5, \"#f7f7f7\"], [0.6, \"#e6f5d0\"], [0.7, \"#b8e186\"], [0.8, \"#7fbc41\"], [0.9, \"#4d9221\"], [1, \"#276419\"]], \"sequential\": [[0.0, \"#0d0887\"], [0.1111111111111111, \"#46039f\"], [0.2222222222222222, \"#7201a8\"], [0.3333333333333333, \"#9c179e\"], [0.4444444444444444, \"#bd3786\"], [0.5555555555555556, \"#d8576b\"], [0.6666666666666666, \"#ed7953\"], [0.7777777777777778, \"#fb9f3a\"], [0.8888888888888888, \"#fdca26\"], [1.0, \"#f0f921\"]], \"sequentialminus\": [[0.0, \"#0d0887\"], [0.1111111111111111, \"#46039f\"], [0.2222222222222222, \"#7201a8\"], [0.3333333333333333, \"#9c179e\"], [0.4444444444444444, \"#bd3786\"], [0.5555555555555556, \"#d8576b\"], [0.6666666666666666, \"#ed7953\"], [0.7777777777777778, \"#fb9f3a\"], [0.8888888888888888, \"#fdca26\"], [1.0, \"#f0f921\"]]}, \"colorway\": [\"#636efa\", \"#EF553B\", \"#00cc96\", \"#ab63fa\", \"#FFA15A\", \"#19d3f3\", \"#FF6692\", \"#B6E880\", \"#FF97FF\", \"#FECB52\"], \"font\": {\"color\": \"#2a3f5f\"}, \"geo\": {\"bgcolor\": \"white\", \"lakecolor\": \"white\", \"landcolor\": \"#E5ECF6\", \"showlakes\": true, \"showland\": true, \"subunitcolor\": \"white\"}, \"hoverlabel\": {\"align\": \"left\"}, \"hovermode\": \"closest\", \"mapbox\": {\"style\": \"light\"}, \"paper_bgcolor\": \"white\", \"plot_bgcolor\": \"#E5ECF6\", \"polar\": {\"angularaxis\": {\"gridcolor\": \"white\", \"linecolor\": \"white\", \"ticks\": \"\"}, \"bgcolor\": \"#E5ECF6\", \"radialaxis\": {\"gridcolor\": \"white\", \"linecolor\": \"white\", \"ticks\": \"\"}}, \"scene\": {\"xaxis\": {\"backgroundcolor\": \"#E5ECF6\", \"gridcolor\": \"white\", \"gridwidth\": 2, \"linecolor\": \"white\", \"showbackground\": true, \"ticks\": \"\", \"zerolinecolor\": \"white\"}, \"yaxis\": {\"backgroundcolor\": \"#E5ECF6\", \"gridcolor\": \"white\", \"gridwidth\": 2, \"linecolor\": \"white\", \"showbackground\": true, \"ticks\": \"\", \"zerolinecolor\": \"white\"}, \"zaxis\": {\"backgroundcolor\": \"#E5ECF6\", \"gridcolor\": \"white\", \"gridwidth\": 2, \"linecolor\": \"white\", \"showbackground\": true, \"ticks\": \"\", \"zerolinecolor\": \"white\"}}, \"shapedefaults\": {\"line\": {\"color\": \"#2a3f5f\"}}, \"ternary\": {\"aaxis\": {\"gridcolor\": \"white\", \"linecolor\": \"white\", \"ticks\": \"\"}, \"baxis\": {\"gridcolor\": \"white\", \"linecolor\": \"white\", \"ticks\": \"\"}, \"bgcolor\": \"#E5ECF6\", \"caxis\": {\"gridcolor\": \"white\", \"linecolor\": \"white\", \"ticks\": \"\"}}, \"title\": {\"x\": 0.05}, \"xaxis\": {\"automargin\": true, \"gridcolor\": \"white\", \"linecolor\": \"white\", \"ticks\": \"\", \"title\": {\"standoff\": 15}, \"zerolinecolor\": \"white\", \"zerolinewidth\": 2}, \"yaxis\": {\"automargin\": true, \"gridcolor\": \"white\", \"linecolor\": \"white\", \"ticks\": \"\", \"title\": {\"standoff\": 15}, \"zerolinecolor\": \"white\", \"zerolinewidth\": 2}}}, \"xaxis\": {\"anchor\": \"y\", \"domain\": [0.0, 1.0], \"title\": {\"text\": \"cluster\"}}, \"yaxis\": {\"anchor\": \"x\", \"domain\": [0.0, 1.0], \"title\": {\"text\": \"count\"}, \"type\": \"log\"}},\n",
              "                        {\"responsive\": true}\n",
              "                    ).then(function(){\n",
              "                            \n",
              "var gd = document.getElementById('ac60ef2c-16ea-41d1-96c0-eb9f01206dfc');\n",
              "var x = new MutationObserver(function (mutations, observer) {{\n",
              "        var display = window.getComputedStyle(gd).display;\n",
              "        if (!display || display === 'none') {{\n",
              "            console.log([gd, 'removed!']);\n",
              "            Plotly.purge(gd);\n",
              "            observer.disconnect();\n",
              "        }}\n",
              "}});\n",
              "\n",
              "// Listen for the removal of the full notebook cells\n",
              "var notebookContainer = gd.closest('#notebook-container');\n",
              "if (notebookContainer) {{\n",
              "    x.observe(notebookContainer, {childList: true});\n",
              "}}\n",
              "\n",
              "// Listen for the clearing of the current output cell\n",
              "var outputEl = gd.closest('.output');\n",
              "if (outputEl) {{\n",
              "    x.observe(outputEl, {childList: true});\n",
              "}}\n",
              "\n",
              "                        })\n",
              "                };\n",
              "                \n",
              "            </script>\n",
              "        </div>\n",
              "</body>\n",
              "</html>"
            ]
          },
          "metadata": {
            "tags": []
          }
        }
      ]
    },
    {
      "cell_type": "markdown",
      "metadata": {
        "id": "vJE6b-pmn8xE"
      },
      "source": [
        "# 3. พลอต trend ของการติดเชื้อ"
      ]
    },
    {
      "cell_type": "code",
      "metadata": {
        "id": "f6iUdMaTRYay"
      },
      "source": [
        "dat['date'] = dat['announce_date'].apply(lambda x:datetime.strptime(x,'%d/%m/%Y'))"
      ],
      "execution_count": null,
      "outputs": []
    },
    {
      "cell_type": "code",
      "metadata": {
        "id": "Ru70Y95l7iDv"
      },
      "source": [
        "plottrend = dat[['date','No.']].groupby(by='date').count()"
      ],
      "execution_count": null,
      "outputs": []
    },
    {
      "cell_type": "code",
      "metadata": {
        "id": "lzqmF1qdR3zV"
      },
      "source": [
        "plottrend.columns = ['daily infected']"
      ],
      "execution_count": null,
      "outputs": []
    },
    {
      "cell_type": "code",
      "metadata": {
        "id": "x8BFh-LFknFo"
      },
      "source": [
        "plottrend['date'] = plottrend.index"
      ],
      "execution_count": null,
      "outputs": []
    },
    {
      "cell_type": "code",
      "metadata": {
        "colab": {
          "base_uri": "https://localhost:8080/",
          "height": 542
        },
        "id": "6xnFLbQcj7Qw",
        "outputId": "df4259b0-d054-482d-cf4a-e2c9b0f23df7"
      },
      "source": [
        "px.line(plottrend,x='date',y='daily infected', title='covid')"
      ],
      "execution_count": null,
      "outputs": [
        {
          "output_type": "display_data",
          "data": {
            "text/html": [
              "<html>\n",
              "<head><meta charset=\"utf-8\" /></head>\n",
              "<body>\n",
              "    <div>\n",
              "            <script src=\"https://cdnjs.cloudflare.com/ajax/libs/mathjax/2.7.5/MathJax.js?config=TeX-AMS-MML_SVG\"></script><script type=\"text/javascript\">if (window.MathJax) {MathJax.Hub.Config({SVG: {font: \"STIX-Web\"}});}</script>\n",
              "                <script type=\"text/javascript\">window.PlotlyConfig = {MathJaxConfig: 'local'};</script>\n",
              "        <script src=\"https://cdn.plot.ly/plotly-latest.min.js\"></script>    \n",
              "            <div id=\"377b5d82-e3f3-4b3e-9a07-413ab1f95ad7\" class=\"plotly-graph-div\" style=\"height:525px; width:100%;\"></div>\n",
              "            <script type=\"text/javascript\">\n",
              "                \n",
              "                    window.PLOTLYENV=window.PLOTLYENV || {};\n",
              "                    \n",
              "                if (document.getElementById(\"377b5d82-e3f3-4b3e-9a07-413ab1f95ad7\")) {\n",
              "                    Plotly.newPlot(\n",
              "                        '377b5d82-e3f3-4b3e-9a07-413ab1f95ad7',\n",
              "                        [{\"hoverlabel\": {\"namelength\": 0}, \"hovertemplate\": \"date=%{x}<br>daily infected=%{y}\", \"legendgroup\": \"\", \"line\": {\"color\": \"#636efa\", \"dash\": \"solid\"}, \"mode\": \"lines\", \"name\": \"\", \"showlegend\": false, \"type\": \"scatter\", \"x\": [\"2020-01-12T00:00:00\", \"2020-01-17T00:00:00\", \"2020-01-22T00:00:00\", \"2020-01-24T00:00:00\", \"2020-01-25T00:00:00\", \"2020-01-26T00:00:00\", \"2020-01-28T00:00:00\", \"2020-01-31T00:00:00\", \"2020-02-04T00:00:00\", \"2020-02-08T00:00:00\", \"2020-02-11T00:00:00\", \"2020-02-15T00:00:00\", \"2020-02-17T00:00:00\", \"2020-02-25T00:00:00\", \"2020-02-26T00:00:00\", \"2020-02-28T00:00:00\", \"2020-02-29T00:00:00\", \"2020-03-02T00:00:00\", \"2020-03-05T00:00:00\", \"2020-03-06T00:00:00\", \"2020-03-07T00:00:00\", \"2020-03-10T00:00:00\", \"2020-03-11T00:00:00\", \"2020-03-12T00:00:00\", \"2020-03-13T00:00:00\", \"2020-03-14T00:00:00\", \"2020-03-15T00:00:00\", \"2020-03-16T00:00:00\", \"2020-03-17T00:00:00\", \"2020-03-18T00:00:00\", \"2020-03-19T00:00:00\", \"2020-03-20T00:00:00\", \"2020-03-21T00:00:00\", \"2020-03-22T00:00:00\", \"2020-03-23T00:00:00\", \"2020-03-24T00:00:00\", \"2020-03-25T00:00:00\", \"2020-03-26T00:00:00\", \"2020-03-27T00:00:00\", \"2020-03-28T00:00:00\", \"2020-03-29T00:00:00\", \"2020-03-30T00:00:00\", \"2020-03-31T00:00:00\", \"2020-04-01T00:00:00\", \"2020-04-02T00:00:00\", \"2020-04-03T00:00:00\", \"2020-04-04T00:00:00\", \"2020-04-05T00:00:00\", \"2020-04-06T00:00:00\", \"2020-04-07T00:00:00\", \"2020-04-08T00:00:00\", \"2020-04-09T00:00:00\", \"2020-04-10T00:00:00\", \"2020-04-11T00:00:00\", \"2020-04-12T00:00:00\", \"2020-04-13T00:00:00\", \"2020-04-14T00:00:00\", \"2020-04-15T00:00:00\", \"2020-04-16T00:00:00\", \"2020-04-17T00:00:00\", \"2020-04-18T00:00:00\", \"2020-04-19T00:00:00\", \"2020-04-20T00:00:00\", \"2020-04-21T00:00:00\", \"2020-04-22T00:00:00\", \"2020-04-23T00:00:00\", \"2020-04-24T00:00:00\", \"2020-04-25T00:00:00\", \"2020-04-26T00:00:00\", \"2020-04-27T00:00:00\", \"2020-04-28T00:00:00\", \"2020-04-29T00:00:00\", \"2020-04-30T00:00:00\", \"2020-05-01T00:00:00\", \"2020-05-02T00:00:00\", \"2020-05-03T00:00:00\", \"2020-05-04T00:00:00\", \"2020-05-05T00:00:00\", \"2020-05-06T00:00:00\", \"2020-05-07T00:00:00\", \"2020-05-08T00:00:00\", \"2020-05-09T00:00:00\", \"2020-05-10T00:00:00\", \"2020-05-11T00:00:00\", \"2020-05-12T00:00:00\", \"2020-05-14T00:00:00\", \"2020-05-15T00:00:00\", \"2020-05-17T00:00:00\", \"2020-05-18T00:00:00\", \"2020-05-19T00:00:00\", \"2020-05-20T00:00:00\", \"2020-05-21T00:00:00\", \"2020-05-23T00:00:00\", \"2020-05-25T00:00:00\", \"2020-05-26T00:00:00\", \"2020-05-27T00:00:00\", \"2020-05-28T00:00:00\", \"2020-05-29T00:00:00\", \"2020-05-30T00:00:00\", \"2020-05-31T00:00:00\", \"2020-06-01T00:00:00\", \"2020-06-02T00:00:00\", \"2020-06-03T00:00:00\", \"2020-06-04T00:00:00\", \"2020-06-05T00:00:00\", \"2020-06-06T00:00:00\", \"2020-06-07T00:00:00\", \"2020-06-08T00:00:00\", \"2020-06-09T00:00:00\", \"2020-06-10T00:00:00\", \"2020-06-12T00:00:00\", \"2020-06-13T00:00:00\", \"2020-06-14T00:00:00\", \"2020-06-18T00:00:00\", \"2020-06-19T00:00:00\", \"2020-06-20T00:00:00\", \"2020-06-21T00:00:00\", \"2020-06-22T00:00:00\", \"2020-06-23T00:00:00\", \"2020-06-24T00:00:00\", \"2020-06-25T00:00:00\", \"2020-06-26T00:00:00\", \"2020-06-29T00:00:00\", \"2020-06-30T00:00:00\", \"2020-07-01T00:00:00\", \"2020-07-02T00:00:00\", \"2020-07-03T00:00:00\", \"2020-07-04T00:00:00\", \"2020-07-05T00:00:00\", \"2020-07-06T00:00:00\", \"2020-07-08T00:00:00\", \"2020-07-09T00:00:00\", \"2020-07-11T00:00:00\", \"2020-07-12T00:00:00\", \"2020-07-13T00:00:00\", \"2020-07-14T00:00:00\", \"2020-07-15T00:00:00\", \"2020-07-16T00:00:00\", \"2020-07-17T00:00:00\", \"2020-07-18T00:00:00\", \"2020-07-19T00:00:00\", \"2020-07-20T00:00:00\", \"2020-07-21T00:00:00\", \"2020-07-22T00:00:00\", \"2020-07-23T00:00:00\", \"2020-07-24T00:00:00\", \"2020-07-25T00:00:00\", \"2020-07-26T00:00:00\", \"2020-07-27T00:00:00\", \"2020-07-28T00:00:00\", \"2020-07-29T00:00:00\", \"2020-07-30T00:00:00\", \"2020-07-31T00:00:00\", \"2020-08-01T00:00:00\", \"2020-08-02T00:00:00\", \"2020-08-03T00:00:00\", \"2020-08-04T00:00:00\", \"2020-08-05T00:00:00\", \"2020-08-06T00:00:00\", \"2020-08-07T00:00:00\", \"2020-08-08T00:00:00\", \"2020-08-09T00:00:00\", \"2020-08-12T00:00:00\", \"2020-08-13T00:00:00\", \"2020-08-14T00:00:00\", \"2020-08-16T00:00:00\", \"2020-08-17T00:00:00\", \"2020-08-18T00:00:00\", \"2020-08-19T00:00:00\", \"2020-08-20T00:00:00\", \"2020-08-21T00:00:00\", \"2020-08-23T00:00:00\", \"2020-08-24T00:00:00\", \"2020-08-25T00:00:00\", \"2020-08-26T00:00:00\", \"2020-08-27T00:00:00\", \"2020-08-28T00:00:00\", \"2020-08-29T00:00:00\", \"2020-08-31T00:00:00\", \"2020-09-01T00:00:00\", \"2020-09-02T00:00:00\", \"2020-09-03T00:00:00\", \"2020-09-04T00:00:00\", \"2020-09-05T00:00:00\", \"2020-09-06T00:00:00\", \"2020-09-07T00:00:00\", \"2020-09-08T00:00:00\", \"2020-09-09T00:00:00\", \"2020-09-10T00:00:00\", \"2020-09-11T00:00:00\", \"2020-09-12T00:00:00\", \"2020-09-13T00:00:00\", \"2020-09-14T00:00:00\", \"2020-09-15T00:00:00\", \"2020-09-16T00:00:00\", \"2020-09-18T00:00:00\", \"2020-09-19T00:00:00\", \"2020-09-20T00:00:00\", \"2020-09-22T00:00:00\", \"2020-09-23T00:00:00\", \"2020-09-24T00:00:00\", \"2020-09-25T00:00:00\", \"2020-09-26T00:00:00\", \"2020-09-27T00:00:00\", \"2020-09-28T00:00:00\", \"2020-09-29T00:00:00\", \"2020-09-30T00:00:00\", \"2020-10-01T00:00:00\", \"2020-10-02T00:00:00\", \"2020-10-03T00:00:00\", \"2020-10-04T00:00:00\", \"2020-10-05T00:00:00\", \"2020-10-06T00:00:00\", \"2020-10-07T00:00:00\", \"2020-10-08T00:00:00\", \"2020-10-09T00:00:00\", \"2020-10-10T00:00:00\", \"2020-10-11T00:00:00\", \"2020-10-12T00:00:00\", \"2020-10-13T00:00:00\", \"2020-10-14T00:00:00\", \"2020-10-15T00:00:00\", \"2020-10-16T00:00:00\", \"2020-10-17T00:00:00\", \"2020-10-18T00:00:00\", \"2020-10-19T00:00:00\", \"2020-10-20T00:00:00\", \"2020-10-21T00:00:00\", \"2020-10-22T00:00:00\", \"2020-10-23T00:00:00\", \"2020-10-24T00:00:00\", \"2020-10-25T00:00:00\", \"2020-10-26T00:00:00\", \"2020-10-27T00:00:00\", \"2020-10-28T00:00:00\", \"2020-10-29T00:00:00\", \"2020-10-30T00:00:00\", \"2020-10-31T00:00:00\", \"2020-11-01T00:00:00\", \"2020-11-02T00:00:00\", \"2020-11-03T00:00:00\", \"2020-11-04T00:00:00\", \"2020-11-05T00:00:00\", \"2020-11-06T00:00:00\", \"2020-11-07T00:00:00\", \"2020-11-08T00:00:00\", \"2020-11-09T00:00:00\", \"2020-11-10T00:00:00\", \"2020-11-11T00:00:00\", \"2020-11-12T00:00:00\", \"2020-11-13T00:00:00\", \"2020-11-14T00:00:00\", \"2020-11-15T00:00:00\", \"2020-11-16T00:00:00\", \"2020-11-17T00:00:00\", \"2020-11-18T00:00:00\", \"2020-11-19T00:00:00\", \"2020-11-20T00:00:00\", \"2020-11-21T00:00:00\", \"2020-11-22T00:00:00\", \"2020-11-23T00:00:00\", \"2020-11-24T00:00:00\", \"2020-11-25T00:00:00\", \"2020-11-26T00:00:00\", \"2020-11-27T00:00:00\", \"2020-11-28T00:00:00\", \"2020-11-29T00:00:00\", \"2020-11-30T00:00:00\", \"2020-12-01T00:00:00\", \"2020-12-02T00:00:00\", \"2020-12-03T00:00:00\", \"2020-12-04T00:00:00\", \"2020-12-05T00:00:00\", \"2020-12-06T00:00:00\", \"2020-12-07T00:00:00\", \"2020-12-08T00:00:00\", \"2020-12-09T00:00:00\", \"2020-12-10T00:00:00\", \"2020-12-11T00:00:00\", \"2020-12-12T00:00:00\", \"2020-12-13T00:00:00\", \"2020-12-14T00:00:00\", \"2020-12-15T00:00:00\", \"2020-12-16T00:00:00\", \"2020-12-17T00:00:00\", \"2020-12-18T00:00:00\", \"2020-12-19T00:00:00\", \"2020-12-20T00:00:00\", \"2020-12-21T00:00:00\", \"2020-12-22T00:00:00\", \"2020-12-23T00:00:00\", \"2020-12-24T00:00:00\", \"2020-12-25T00:00:00\", \"2020-12-26T00:00:00\", \"2020-12-27T00:00:00\", \"2020-12-28T00:00:00\", \"2020-12-29T00:00:00\", \"2020-12-30T00:00:00\", \"2020-12-31T00:00:00\", \"2021-01-01T00:00:00\", \"2021-01-02T00:00:00\", \"2021-01-03T00:00:00\", \"2021-01-04T00:00:00\", \"2021-01-05T00:00:00\", \"2021-01-06T00:00:00\", \"2021-01-07T00:00:00\", \"2021-01-08T00:00:00\", \"2021-01-09T00:00:00\", \"2021-01-10T00:00:00\", \"2021-01-11T00:00:00\", \"2021-01-12T00:00:00\", \"2021-01-13T00:00:00\", \"2021-01-14T00:00:00\", \"2021-01-15T00:00:00\", \"2021-01-16T00:00:00\", \"2021-01-17T00:00:00\", \"2021-01-18T00:00:00\", \"2021-01-19T00:00:00\", \"2021-01-20T00:00:00\", \"2021-01-21T00:00:00\", \"2021-01-22T00:00:00\", \"2021-01-23T00:00:00\", \"2021-01-24T00:00:00\", \"2021-01-25T00:00:00\", \"2021-01-26T00:00:00\", \"2021-01-27T00:00:00\", \"2021-01-28T00:00:00\", \"2021-01-29T00:00:00\", \"2021-01-30T00:00:00\", \"2021-01-31T00:00:00\", \"2021-02-01T00:00:00\", \"2021-02-02T00:00:00\", \"2021-02-03T00:00:00\", \"2021-02-04T00:00:00\", \"2021-02-05T00:00:00\", \"2021-02-06T00:00:00\", \"2021-02-07T00:00:00\", \"2021-02-08T00:00:00\", \"2021-02-09T00:00:00\", \"2021-02-10T00:00:00\", \"2021-02-11T00:00:00\", \"2021-02-12T00:00:00\", \"2021-02-13T00:00:00\", \"2021-02-14T00:00:00\", \"2021-02-15T00:00:00\", \"2021-02-16T00:00:00\", \"2021-02-17T00:00:00\", \"2021-02-18T00:00:00\", \"2021-02-19T00:00:00\", \"2021-02-20T00:00:00\", \"2021-02-21T00:00:00\", \"2021-02-22T00:00:00\", \"2021-02-23T00:00:00\", \"2021-02-24T00:00:00\", \"2021-02-25T00:00:00\", \"2021-02-26T00:00:00\", \"2021-02-27T00:00:00\", \"2021-02-28T00:00:00\", \"2021-03-01T00:00:00\", \"2021-03-02T00:00:00\", \"2021-03-03T00:00:00\", \"2021-03-04T00:00:00\", \"2021-03-05T00:00:00\", \"2021-03-06T00:00:00\", \"2021-03-07T00:00:00\", \"2021-03-08T00:00:00\", \"2021-03-09T00:00:00\", \"2021-03-10T00:00:00\", \"2021-03-11T00:00:00\", \"2021-03-12T00:00:00\", \"2021-03-13T00:00:00\", \"2021-03-14T00:00:00\", \"2021-03-15T00:00:00\", \"2021-03-16T00:00:00\", \"2021-03-17T00:00:00\", \"2021-03-18T00:00:00\", \"2021-03-19T00:00:00\", \"2021-03-20T00:00:00\", \"2021-03-21T00:00:00\", \"2021-03-22T00:00:00\", \"2021-03-23T00:00:00\", \"2021-03-24T00:00:00\", \"2021-03-25T00:00:00\", \"2021-03-26T00:00:00\", \"2021-03-27T00:00:00\", \"2021-03-28T00:00:00\", \"2021-03-29T00:00:00\", \"2021-03-30T00:00:00\", \"2021-03-31T00:00:00\", \"2021-04-01T00:00:00\", \"2021-04-02T00:00:00\", \"2021-04-03T00:00:00\", \"2021-04-04T00:00:00\", \"2021-04-05T00:00:00\", \"2021-04-06T00:00:00\", \"2021-04-07T00:00:00\", \"2021-04-08T00:00:00\", \"2021-04-09T00:00:00\", \"2021-04-10T00:00:00\", \"2021-04-11T00:00:00\", \"2021-04-12T00:00:00\", \"2021-04-13T00:00:00\", \"2021-04-14T00:00:00\", \"2021-04-15T00:00:00\", \"2021-04-16T00:00:00\", \"2021-04-17T00:00:00\", \"2021-04-18T00:00:00\", \"2021-04-19T00:00:00\", \"2021-04-20T00:00:00\", \"2021-04-21T00:00:00\", \"2021-04-22T00:00:00\", \"2021-04-23T00:00:00\", \"2021-04-24T00:00:00\", \"2021-04-25T00:00:00\", \"2021-04-26T00:00:00\", \"2021-04-27T00:00:00\", \"2021-04-28T00:00:00\", \"2021-04-29T00:00:00\", \"2021-04-30T00:00:00\", \"2021-05-01T00:00:00\", \"2021-05-02T00:00:00\", \"2021-05-03T00:00:00\", \"2021-05-04T00:00:00\", \"2021-05-05T00:00:00\", \"2021-05-06T00:00:00\", \"2021-05-07T00:00:00\", \"2021-05-08T00:00:00\", \"2021-05-09T00:00:00\", \"2021-05-10T00:00:00\", \"2021-05-11T00:00:00\", \"2021-05-12T00:00:00\", \"2021-05-13T00:00:00\", \"2021-05-14T00:00:00\", \"2021-05-15T00:00:00\", \"2021-05-16T00:00:00\", \"2021-05-17T00:00:00\", \"2021-05-18T00:00:00\", \"2021-05-19T00:00:00\", \"2021-05-20T00:00:00\", \"2021-05-21T00:00:00\", \"2021-05-22T00:00:00\", \"2021-05-23T00:00:00\", \"2021-05-24T00:00:00\", \"2021-05-25T00:00:00\", \"2021-05-26T00:00:00\", \"2021-05-27T00:00:00\", \"2021-05-28T00:00:00\", \"2021-05-29T00:00:00\", \"2021-05-30T00:00:00\", \"2021-05-31T00:00:00\", \"2021-06-01T00:00:00\", \"2021-06-02T00:00:00\", \"2021-06-03T00:00:00\", \"2021-06-04T00:00:00\", \"2021-06-05T00:00:00\", \"2021-06-06T00:00:00\", \"2021-06-07T00:00:00\", \"2021-06-08T00:00:00\", \"2021-06-09T00:00:00\", \"2021-06-10T00:00:00\", \"2021-06-11T00:00:00\", \"2021-06-12T00:00:00\", \"2021-06-13T00:00:00\", \"2021-06-14T00:00:00\", \"2021-06-15T00:00:00\", \"2021-06-16T00:00:00\", \"2021-06-17T00:00:00\", \"2021-06-18T00:00:00\", \"2021-06-19T00:00:00\", \"2021-06-20T00:00:00\", \"2021-06-21T00:00:00\", \"2021-06-22T00:00:00\", \"2021-06-23T00:00:00\", \"2021-06-24T00:00:00\", \"2021-06-25T00:00:00\", \"2021-06-26T00:00:00\", \"2021-06-27T00:00:00\", \"2021-06-28T00:00:00\", \"2021-06-29T00:00:00\", \"2021-06-30T00:00:00\", \"2021-07-01T00:00:00\", \"2021-07-02T00:00:00\", \"2021-07-03T00:00:00\", \"2021-07-04T00:00:00\", \"2021-07-05T00:00:00\", \"2021-07-06T00:00:00\", \"2021-07-07T00:00:00\", \"2021-07-08T00:00:00\", \"2021-07-09T00:00:00\", \"2021-07-10T00:00:00\", \"2021-07-11T00:00:00\", \"2021-07-12T00:00:00\", \"2021-07-13T00:00:00\", \"2021-07-14T00:00:00\", \"2021-07-15T00:00:00\", \"2021-07-16T00:00:00\", \"2021-07-17T00:00:00\", \"2021-07-18T00:00:00\", \"2021-07-19T00:00:00\", \"2021-07-20T00:00:00\", \"2021-07-21T00:00:00\"], \"xaxis\": \"x\", \"y\": [1, 1, 2, 1, 1, 2, 6, 5, 6, 7, 1, 1, 1, 2, 3, 1, 1, 1, 4, 1, 2, 3, 6, 13, 3, 7, 32, 33, 30, 35, 60, 50, 89, 188, 122, 106, 107, 111, 91, 108, 141, 138, 128, 120, 104, 103, 89, 102, 51, 38, 111, 54, 50, 45, 33, 28, 34, 30, 29, 28, 33, 32, 27, 19, 15, 13, 15, 53, 15, 9, 7, 9, 7, 6, 6, 3, 18, 1, 1, 3, 8, 4, 5, 6, 2, 1, 7, 3, 3, 2, 1, 3, 3, 2, 3, 9, 11, 11, 1, 4, 1, 1, 1, 17, 1, 2, 8, 7, 2, 4, 4, 5, 1, 6, 5, 1, 1, 3, 5, 1, 1, 4, 7, 2, 2, 6, 1, 5, 5, 5, 2, 5, 14, 1, 3, 7, 5, 4, 3, 7, 3, 1, 5, 6, 8, 10, 3, 9, 4, 2, 1, 6, 6, 2, 5, 3, 1, 7, 2, 15, 3, 3, 5, 3, 17, 1, 1, 3, 1, 7, 1, 5, 2, 5, 1, 1, 6, 1, 1, 5, 8, 2, 4, 7, 6, 1, 1, 1, 7, 7, 5, 7, 2, 5, 10, 7, 3, 6, 5, 3, 2, 3, 3, 1, 22, 14, 5, 5, 6, 8, 2, 5, 10, 15, 7, 6, 6, 2, 5, 2, 9, 13, 4, 10, 7, 5, 9, 9, 10, 8, 4, 5, 7, 3, 12, 5, 12, 5, 4, 3, 10, 7, 6, 8, 12, 7, 3, 4, 3, 5, 9, 5, 8, 1, 3, 2, 8, 4, 10, 11, 7, 2, 4, 16, 19, 5, 11, 21, 10, 18, 13, 14, 19, 14, 21, 19, 25, 18, 11, 12, 17, 28, 9, 15, 20, 16, 34, 576, 382, 427, 46, 67, 81, 110, 121, 144, 155, 250, 194, 279, 216, 315, 745, 533, 365, 305, 205, 212, 245, 249, 287, 157, 271, 188, 230, 374, 369, 171, 59, 142, 309, 198, 198, 187, 959, 819, 756, 802, 930, 829, 836, 836, 795, 809, 586, 490, 237, 186, 189, 157, 201, 175, 126, 166, 143, 72, 175, 150, 130, 82, 92, 89, 95, 93, 72, 45, 72, 70, 80, 42, 35, 54, 79, 64, 65, 71, 60, 39, 58, 81, 78, 170, 78, 149, 248, 92, 100, 119, 90, 73, 401, 69, 97, 134, 80, 77, 39, 48, 42, 26, 58, 84, 96, 194, 250, 334, 405, 559, 789, 967, 984, 964, 1339, 1545, 1581, 1547, 1767, 1392, 1443, 1458, 1470, 2070, 2839, 2438, 2048, 2179, 2012, 1871, 1583, 1885, 1940, 2041, 1763, 2112, 1911, 2044, 2419, 2101, 1630, 1919, 1983, 4887, 2256, 3095, 2302, 9635, 2473, 3394, 2578, 3481, 3052, 3382, 2713, 3226, 2455, 3323, 3759, 4803, 4528, 5485, 2230, 3440, 3886, 2631, 2817, 2671, 2419, 2662, 2680, 2310, 2290, 3277, 2804, 3355, 3000, 2331, 3129, 2883, 3667, 3682, 3175, 4059, 3174, 4108, 3644, 4161, 3995, 5406, 4596, 4786, 5533, 6087, 6230, 5916, 6166, 5420, 6519, 7058, 9276, 9326, 9539, 8656, 8685, 9317, 9186, 9692, 10082, 11397, 11784, 11305, 13002], \"yaxis\": \"y\"}],\n",
              "                        {\"legend\": {\"tracegroupgap\": 0}, \"template\": {\"data\": {\"bar\": [{\"error_x\": {\"color\": \"#2a3f5f\"}, \"error_y\": {\"color\": \"#2a3f5f\"}, \"marker\": {\"line\": {\"color\": \"#E5ECF6\", \"width\": 0.5}}, \"type\": \"bar\"}], \"barpolar\": [{\"marker\": {\"line\": {\"color\": \"#E5ECF6\", \"width\": 0.5}}, \"type\": \"barpolar\"}], \"carpet\": [{\"aaxis\": {\"endlinecolor\": \"#2a3f5f\", \"gridcolor\": \"white\", \"linecolor\": \"white\", \"minorgridcolor\": \"white\", \"startlinecolor\": \"#2a3f5f\"}, \"baxis\": {\"endlinecolor\": \"#2a3f5f\", \"gridcolor\": \"white\", \"linecolor\": \"white\", \"minorgridcolor\": \"white\", \"startlinecolor\": \"#2a3f5f\"}, \"type\": \"carpet\"}], \"choropleth\": [{\"colorbar\": {\"outlinewidth\": 0, \"ticks\": \"\"}, \"type\": \"choropleth\"}], \"contour\": [{\"colorbar\": {\"outlinewidth\": 0, \"ticks\": \"\"}, \"colorscale\": [[0.0, \"#0d0887\"], [0.1111111111111111, \"#46039f\"], [0.2222222222222222, \"#7201a8\"], [0.3333333333333333, \"#9c179e\"], [0.4444444444444444, \"#bd3786\"], [0.5555555555555556, \"#d8576b\"], [0.6666666666666666, \"#ed7953\"], [0.7777777777777778, \"#fb9f3a\"], [0.8888888888888888, \"#fdca26\"], [1.0, \"#f0f921\"]], \"type\": \"contour\"}], \"contourcarpet\": [{\"colorbar\": {\"outlinewidth\": 0, \"ticks\": \"\"}, \"type\": \"contourcarpet\"}], \"heatmap\": [{\"colorbar\": {\"outlinewidth\": 0, \"ticks\": \"\"}, \"colorscale\": [[0.0, \"#0d0887\"], [0.1111111111111111, \"#46039f\"], [0.2222222222222222, \"#7201a8\"], [0.3333333333333333, \"#9c179e\"], [0.4444444444444444, \"#bd3786\"], [0.5555555555555556, \"#d8576b\"], [0.6666666666666666, \"#ed7953\"], [0.7777777777777778, \"#fb9f3a\"], [0.8888888888888888, \"#fdca26\"], [1.0, \"#f0f921\"]], \"type\": \"heatmap\"}], \"heatmapgl\": [{\"colorbar\": {\"outlinewidth\": 0, \"ticks\": \"\"}, \"colorscale\": [[0.0, \"#0d0887\"], [0.1111111111111111, \"#46039f\"], [0.2222222222222222, \"#7201a8\"], [0.3333333333333333, \"#9c179e\"], [0.4444444444444444, \"#bd3786\"], [0.5555555555555556, \"#d8576b\"], [0.6666666666666666, \"#ed7953\"], [0.7777777777777778, \"#fb9f3a\"], [0.8888888888888888, \"#fdca26\"], [1.0, \"#f0f921\"]], \"type\": \"heatmapgl\"}], \"histogram\": [{\"marker\": {\"colorbar\": {\"outlinewidth\": 0, \"ticks\": \"\"}}, \"type\": \"histogram\"}], \"histogram2d\": [{\"colorbar\": {\"outlinewidth\": 0, \"ticks\": \"\"}, \"colorscale\": [[0.0, \"#0d0887\"], [0.1111111111111111, \"#46039f\"], [0.2222222222222222, \"#7201a8\"], [0.3333333333333333, \"#9c179e\"], [0.4444444444444444, \"#bd3786\"], [0.5555555555555556, \"#d8576b\"], [0.6666666666666666, \"#ed7953\"], [0.7777777777777778, \"#fb9f3a\"], [0.8888888888888888, \"#fdca26\"], [1.0, \"#f0f921\"]], \"type\": \"histogram2d\"}], \"histogram2dcontour\": [{\"colorbar\": {\"outlinewidth\": 0, \"ticks\": \"\"}, \"colorscale\": [[0.0, \"#0d0887\"], [0.1111111111111111, \"#46039f\"], [0.2222222222222222, \"#7201a8\"], [0.3333333333333333, \"#9c179e\"], [0.4444444444444444, \"#bd3786\"], [0.5555555555555556, \"#d8576b\"], [0.6666666666666666, \"#ed7953\"], [0.7777777777777778, \"#fb9f3a\"], [0.8888888888888888, \"#fdca26\"], [1.0, \"#f0f921\"]], \"type\": \"histogram2dcontour\"}], \"mesh3d\": [{\"colorbar\": {\"outlinewidth\": 0, \"ticks\": \"\"}, \"type\": \"mesh3d\"}], \"parcoords\": [{\"line\": {\"colorbar\": {\"outlinewidth\": 0, \"ticks\": \"\"}}, \"type\": \"parcoords\"}], \"pie\": [{\"automargin\": true, \"type\": \"pie\"}], \"scatter\": [{\"marker\": {\"colorbar\": {\"outlinewidth\": 0, \"ticks\": \"\"}}, \"type\": \"scatter\"}], \"scatter3d\": [{\"line\": {\"colorbar\": {\"outlinewidth\": 0, \"ticks\": \"\"}}, \"marker\": {\"colorbar\": {\"outlinewidth\": 0, \"ticks\": \"\"}}, \"type\": \"scatter3d\"}], \"scattercarpet\": [{\"marker\": {\"colorbar\": {\"outlinewidth\": 0, \"ticks\": \"\"}}, \"type\": \"scattercarpet\"}], \"scattergeo\": [{\"marker\": {\"colorbar\": {\"outlinewidth\": 0, \"ticks\": \"\"}}, \"type\": \"scattergeo\"}], \"scattergl\": [{\"marker\": {\"colorbar\": {\"outlinewidth\": 0, \"ticks\": \"\"}}, \"type\": \"scattergl\"}], \"scattermapbox\": [{\"marker\": {\"colorbar\": {\"outlinewidth\": 0, \"ticks\": \"\"}}, \"type\": \"scattermapbox\"}], \"scatterpolar\": [{\"marker\": {\"colorbar\": {\"outlinewidth\": 0, \"ticks\": \"\"}}, \"type\": \"scatterpolar\"}], \"scatterpolargl\": [{\"marker\": {\"colorbar\": {\"outlinewidth\": 0, \"ticks\": \"\"}}, \"type\": \"scatterpolargl\"}], \"scatterternary\": [{\"marker\": {\"colorbar\": {\"outlinewidth\": 0, \"ticks\": \"\"}}, \"type\": \"scatterternary\"}], \"surface\": [{\"colorbar\": {\"outlinewidth\": 0, \"ticks\": \"\"}, \"colorscale\": [[0.0, \"#0d0887\"], [0.1111111111111111, \"#46039f\"], [0.2222222222222222, \"#7201a8\"], [0.3333333333333333, \"#9c179e\"], [0.4444444444444444, \"#bd3786\"], [0.5555555555555556, \"#d8576b\"], [0.6666666666666666, \"#ed7953\"], [0.7777777777777778, \"#fb9f3a\"], [0.8888888888888888, \"#fdca26\"], [1.0, \"#f0f921\"]], \"type\": \"surface\"}], \"table\": [{\"cells\": {\"fill\": {\"color\": \"#EBF0F8\"}, \"line\": {\"color\": \"white\"}}, \"header\": {\"fill\": {\"color\": \"#C8D4E3\"}, \"line\": {\"color\": \"white\"}}, \"type\": \"table\"}]}, \"layout\": {\"annotationdefaults\": {\"arrowcolor\": \"#2a3f5f\", \"arrowhead\": 0, \"arrowwidth\": 1}, \"coloraxis\": {\"colorbar\": {\"outlinewidth\": 0, \"ticks\": \"\"}}, \"colorscale\": {\"diverging\": [[0, \"#8e0152\"], [0.1, \"#c51b7d\"], [0.2, \"#de77ae\"], [0.3, \"#f1b6da\"], [0.4, \"#fde0ef\"], [0.5, \"#f7f7f7\"], [0.6, \"#e6f5d0\"], [0.7, \"#b8e186\"], [0.8, \"#7fbc41\"], [0.9, \"#4d9221\"], [1, \"#276419\"]], \"sequential\": [[0.0, \"#0d0887\"], [0.1111111111111111, \"#46039f\"], [0.2222222222222222, \"#7201a8\"], [0.3333333333333333, \"#9c179e\"], [0.4444444444444444, \"#bd3786\"], [0.5555555555555556, \"#d8576b\"], [0.6666666666666666, \"#ed7953\"], [0.7777777777777778, \"#fb9f3a\"], [0.8888888888888888, \"#fdca26\"], [1.0, \"#f0f921\"]], \"sequentialminus\": [[0.0, \"#0d0887\"], [0.1111111111111111, \"#46039f\"], [0.2222222222222222, \"#7201a8\"], [0.3333333333333333, \"#9c179e\"], [0.4444444444444444, \"#bd3786\"], [0.5555555555555556, \"#d8576b\"], [0.6666666666666666, \"#ed7953\"], [0.7777777777777778, \"#fb9f3a\"], [0.8888888888888888, \"#fdca26\"], [1.0, \"#f0f921\"]]}, \"colorway\": [\"#636efa\", \"#EF553B\", \"#00cc96\", \"#ab63fa\", \"#FFA15A\", \"#19d3f3\", \"#FF6692\", \"#B6E880\", \"#FF97FF\", \"#FECB52\"], \"font\": {\"color\": \"#2a3f5f\"}, \"geo\": {\"bgcolor\": \"white\", \"lakecolor\": \"white\", \"landcolor\": \"#E5ECF6\", \"showlakes\": true, \"showland\": true, \"subunitcolor\": \"white\"}, \"hoverlabel\": {\"align\": \"left\"}, \"hovermode\": \"closest\", \"mapbox\": {\"style\": \"light\"}, \"paper_bgcolor\": \"white\", \"plot_bgcolor\": \"#E5ECF6\", \"polar\": {\"angularaxis\": {\"gridcolor\": \"white\", \"linecolor\": \"white\", \"ticks\": \"\"}, \"bgcolor\": \"#E5ECF6\", \"radialaxis\": {\"gridcolor\": \"white\", \"linecolor\": \"white\", \"ticks\": \"\"}}, \"scene\": {\"xaxis\": {\"backgroundcolor\": \"#E5ECF6\", \"gridcolor\": \"white\", \"gridwidth\": 2, \"linecolor\": \"white\", \"showbackground\": true, \"ticks\": \"\", \"zerolinecolor\": \"white\"}, \"yaxis\": {\"backgroundcolor\": \"#E5ECF6\", \"gridcolor\": \"white\", \"gridwidth\": 2, \"linecolor\": \"white\", \"showbackground\": true, \"ticks\": \"\", \"zerolinecolor\": \"white\"}, \"zaxis\": {\"backgroundcolor\": \"#E5ECF6\", \"gridcolor\": \"white\", \"gridwidth\": 2, \"linecolor\": \"white\", \"showbackground\": true, \"ticks\": \"\", \"zerolinecolor\": \"white\"}}, \"shapedefaults\": {\"line\": {\"color\": \"#2a3f5f\"}}, \"ternary\": {\"aaxis\": {\"gridcolor\": \"white\", \"linecolor\": \"white\", \"ticks\": \"\"}, \"baxis\": {\"gridcolor\": \"white\", \"linecolor\": \"white\", \"ticks\": \"\"}, \"bgcolor\": \"#E5ECF6\", \"caxis\": {\"gridcolor\": \"white\", \"linecolor\": \"white\", \"ticks\": \"\"}}, \"title\": {\"x\": 0.05}, \"xaxis\": {\"automargin\": true, \"gridcolor\": \"white\", \"linecolor\": \"white\", \"ticks\": \"\", \"title\": {\"standoff\": 15}, \"zerolinecolor\": \"white\", \"zerolinewidth\": 2}, \"yaxis\": {\"automargin\": true, \"gridcolor\": \"white\", \"linecolor\": \"white\", \"ticks\": \"\", \"title\": {\"standoff\": 15}, \"zerolinecolor\": \"white\", \"zerolinewidth\": 2}}}, \"title\": {\"text\": \"covid\"}, \"xaxis\": {\"anchor\": \"y\", \"domain\": [0.0, 1.0], \"title\": {\"text\": \"date\"}}, \"yaxis\": {\"anchor\": \"x\", \"domain\": [0.0, 1.0], \"title\": {\"text\": \"daily infected\"}}},\n",
              "                        {\"responsive\": true}\n",
              "                    ).then(function(){\n",
              "                            \n",
              "var gd = document.getElementById('377b5d82-e3f3-4b3e-9a07-413ab1f95ad7');\n",
              "var x = new MutationObserver(function (mutations, observer) {{\n",
              "        var display = window.getComputedStyle(gd).display;\n",
              "        if (!display || display === 'none') {{\n",
              "            console.log([gd, 'removed!']);\n",
              "            Plotly.purge(gd);\n",
              "            observer.disconnect();\n",
              "        }}\n",
              "}});\n",
              "\n",
              "// Listen for the removal of the full notebook cells\n",
              "var notebookContainer = gd.closest('#notebook-container');\n",
              "if (notebookContainer) {{\n",
              "    x.observe(notebookContainer, {childList: true});\n",
              "}}\n",
              "\n",
              "// Listen for the clearing of the current output cell\n",
              "var outputEl = gd.closest('.output');\n",
              "if (outputEl) {{\n",
              "    x.observe(outputEl, {childList: true});\n",
              "}}\n",
              "\n",
              "                        })\n",
              "                };\n",
              "                \n",
              "            </script>\n",
              "        </div>\n",
              "</body>\n",
              "</html>"
            ]
          },
          "metadata": {
            "tags": []
          }
        }
      ]
    },
    {
      "cell_type": "code",
      "metadata": {
        "colab": {
          "base_uri": "https://localhost:8080/",
          "height": 542
        },
        "id": "-MSY_exf9ItT",
        "outputId": "6cce1ea5-c418-48db-8d9a-7e93e198649a"
      },
      "source": [
        "px.line(plottrend,x='date',y='daily infected',log_y=True, title='covid')"
      ],
      "execution_count": null,
      "outputs": [
        {
          "output_type": "display_data",
          "data": {
            "text/html": [
              "<html>\n",
              "<head><meta charset=\"utf-8\" /></head>\n",
              "<body>\n",
              "    <div>\n",
              "            <script src=\"https://cdnjs.cloudflare.com/ajax/libs/mathjax/2.7.5/MathJax.js?config=TeX-AMS-MML_SVG\"></script><script type=\"text/javascript\">if (window.MathJax) {MathJax.Hub.Config({SVG: {font: \"STIX-Web\"}});}</script>\n",
              "                <script type=\"text/javascript\">window.PlotlyConfig = {MathJaxConfig: 'local'};</script>\n",
              "        <script src=\"https://cdn.plot.ly/plotly-latest.min.js\"></script>    \n",
              "            <div id=\"b813fadb-bd92-4e32-a026-e1c9ee4cc8a5\" class=\"plotly-graph-div\" style=\"height:525px; width:100%;\"></div>\n",
              "            <script type=\"text/javascript\">\n",
              "                \n",
              "                    window.PLOTLYENV=window.PLOTLYENV || {};\n",
              "                    \n",
              "                if (document.getElementById(\"b813fadb-bd92-4e32-a026-e1c9ee4cc8a5\")) {\n",
              "                    Plotly.newPlot(\n",
              "                        'b813fadb-bd92-4e32-a026-e1c9ee4cc8a5',\n",
              "                        [{\"hoverlabel\": {\"namelength\": 0}, \"hovertemplate\": \"date=%{x}<br>daily infected=%{y}\", \"legendgroup\": \"\", \"line\": {\"color\": \"#636efa\", \"dash\": \"solid\"}, \"mode\": \"lines\", \"name\": \"\", \"showlegend\": false, \"type\": \"scatter\", \"x\": [\"2020-01-12T00:00:00\", \"2020-01-17T00:00:00\", \"2020-01-22T00:00:00\", \"2020-01-24T00:00:00\", \"2020-01-25T00:00:00\", \"2020-01-26T00:00:00\", \"2020-01-28T00:00:00\", \"2020-01-31T00:00:00\", \"2020-02-04T00:00:00\", \"2020-02-08T00:00:00\", \"2020-02-11T00:00:00\", \"2020-02-15T00:00:00\", \"2020-02-17T00:00:00\", \"2020-02-25T00:00:00\", \"2020-02-26T00:00:00\", \"2020-02-28T00:00:00\", \"2020-02-29T00:00:00\", \"2020-03-02T00:00:00\", \"2020-03-05T00:00:00\", \"2020-03-06T00:00:00\", \"2020-03-07T00:00:00\", \"2020-03-10T00:00:00\", \"2020-03-11T00:00:00\", \"2020-03-12T00:00:00\", \"2020-03-13T00:00:00\", \"2020-03-14T00:00:00\", \"2020-03-15T00:00:00\", \"2020-03-16T00:00:00\", \"2020-03-17T00:00:00\", \"2020-03-18T00:00:00\", \"2020-03-19T00:00:00\", \"2020-03-20T00:00:00\", \"2020-03-21T00:00:00\", \"2020-03-22T00:00:00\", \"2020-03-23T00:00:00\", \"2020-03-24T00:00:00\", \"2020-03-25T00:00:00\", \"2020-03-26T00:00:00\", \"2020-03-27T00:00:00\", \"2020-03-28T00:00:00\", \"2020-03-29T00:00:00\", \"2020-03-30T00:00:00\", \"2020-03-31T00:00:00\", \"2020-04-01T00:00:00\", \"2020-04-02T00:00:00\", \"2020-04-03T00:00:00\", \"2020-04-04T00:00:00\", \"2020-04-05T00:00:00\", \"2020-04-06T00:00:00\", \"2020-04-07T00:00:00\", \"2020-04-08T00:00:00\", \"2020-04-09T00:00:00\", \"2020-04-10T00:00:00\", \"2020-04-11T00:00:00\", \"2020-04-12T00:00:00\", \"2020-04-13T00:00:00\", \"2020-04-14T00:00:00\", \"2020-04-15T00:00:00\", \"2020-04-16T00:00:00\", \"2020-04-17T00:00:00\", \"2020-04-18T00:00:00\", \"2020-04-19T00:00:00\", \"2020-04-20T00:00:00\", \"2020-04-21T00:00:00\", \"2020-04-22T00:00:00\", \"2020-04-23T00:00:00\", \"2020-04-24T00:00:00\", \"2020-04-25T00:00:00\", \"2020-04-26T00:00:00\", \"2020-04-27T00:00:00\", \"2020-04-28T00:00:00\", \"2020-04-29T00:00:00\", \"2020-04-30T00:00:00\", \"2020-05-01T00:00:00\", \"2020-05-02T00:00:00\", \"2020-05-03T00:00:00\", \"2020-05-04T00:00:00\", \"2020-05-05T00:00:00\", \"2020-05-06T00:00:00\", \"2020-05-07T00:00:00\", \"2020-05-08T00:00:00\", \"2020-05-09T00:00:00\", \"2020-05-10T00:00:00\", \"2020-05-11T00:00:00\", \"2020-05-12T00:00:00\", \"2020-05-14T00:00:00\", \"2020-05-15T00:00:00\", \"2020-05-17T00:00:00\", \"2020-05-18T00:00:00\", \"2020-05-19T00:00:00\", \"2020-05-20T00:00:00\", \"2020-05-21T00:00:00\", \"2020-05-23T00:00:00\", \"2020-05-25T00:00:00\", \"2020-05-26T00:00:00\", \"2020-05-27T00:00:00\", \"2020-05-28T00:00:00\", \"2020-05-29T00:00:00\", \"2020-05-30T00:00:00\", \"2020-05-31T00:00:00\", \"2020-06-01T00:00:00\", \"2020-06-02T00:00:00\", \"2020-06-03T00:00:00\", \"2020-06-04T00:00:00\", \"2020-06-05T00:00:00\", \"2020-06-06T00:00:00\", \"2020-06-07T00:00:00\", \"2020-06-08T00:00:00\", \"2020-06-09T00:00:00\", \"2020-06-10T00:00:00\", \"2020-06-12T00:00:00\", \"2020-06-13T00:00:00\", \"2020-06-14T00:00:00\", \"2020-06-18T00:00:00\", \"2020-06-19T00:00:00\", \"2020-06-20T00:00:00\", \"2020-06-21T00:00:00\", \"2020-06-22T00:00:00\", \"2020-06-23T00:00:00\", \"2020-06-24T00:00:00\", \"2020-06-25T00:00:00\", \"2020-06-26T00:00:00\", \"2020-06-29T00:00:00\", \"2020-06-30T00:00:00\", \"2020-07-01T00:00:00\", \"2020-07-02T00:00:00\", \"2020-07-03T00:00:00\", \"2020-07-04T00:00:00\", \"2020-07-05T00:00:00\", \"2020-07-06T00:00:00\", \"2020-07-08T00:00:00\", \"2020-07-09T00:00:00\", \"2020-07-11T00:00:00\", \"2020-07-12T00:00:00\", \"2020-07-13T00:00:00\", \"2020-07-14T00:00:00\", \"2020-07-15T00:00:00\", \"2020-07-16T00:00:00\", \"2020-07-17T00:00:00\", \"2020-07-18T00:00:00\", \"2020-07-19T00:00:00\", \"2020-07-20T00:00:00\", \"2020-07-21T00:00:00\", \"2020-07-22T00:00:00\", \"2020-07-23T00:00:00\", \"2020-07-24T00:00:00\", \"2020-07-25T00:00:00\", \"2020-07-26T00:00:00\", \"2020-07-27T00:00:00\", \"2020-07-28T00:00:00\", \"2020-07-29T00:00:00\", \"2020-07-30T00:00:00\", \"2020-07-31T00:00:00\", \"2020-08-01T00:00:00\", \"2020-08-02T00:00:00\", \"2020-08-03T00:00:00\", \"2020-08-04T00:00:00\", \"2020-08-05T00:00:00\", \"2020-08-06T00:00:00\", \"2020-08-07T00:00:00\", \"2020-08-08T00:00:00\", \"2020-08-09T00:00:00\", \"2020-08-12T00:00:00\", \"2020-08-13T00:00:00\", \"2020-08-14T00:00:00\", \"2020-08-16T00:00:00\", \"2020-08-17T00:00:00\", \"2020-08-18T00:00:00\", \"2020-08-19T00:00:00\", \"2020-08-20T00:00:00\", \"2020-08-21T00:00:00\", \"2020-08-23T00:00:00\", \"2020-08-24T00:00:00\", \"2020-08-25T00:00:00\", \"2020-08-26T00:00:00\", \"2020-08-27T00:00:00\", \"2020-08-28T00:00:00\", \"2020-08-29T00:00:00\", \"2020-08-31T00:00:00\", \"2020-09-01T00:00:00\", \"2020-09-02T00:00:00\", \"2020-09-03T00:00:00\", \"2020-09-04T00:00:00\", \"2020-09-05T00:00:00\", \"2020-09-06T00:00:00\", \"2020-09-07T00:00:00\", \"2020-09-08T00:00:00\", \"2020-09-09T00:00:00\", \"2020-09-10T00:00:00\", \"2020-09-11T00:00:00\", \"2020-09-12T00:00:00\", \"2020-09-13T00:00:00\", \"2020-09-14T00:00:00\", \"2020-09-15T00:00:00\", \"2020-09-16T00:00:00\", \"2020-09-18T00:00:00\", \"2020-09-19T00:00:00\", \"2020-09-20T00:00:00\", \"2020-09-22T00:00:00\", \"2020-09-23T00:00:00\", \"2020-09-24T00:00:00\", \"2020-09-25T00:00:00\", \"2020-09-26T00:00:00\", \"2020-09-27T00:00:00\", \"2020-09-28T00:00:00\", \"2020-09-29T00:00:00\", \"2020-09-30T00:00:00\", \"2020-10-01T00:00:00\", \"2020-10-02T00:00:00\", \"2020-10-03T00:00:00\", \"2020-10-04T00:00:00\", \"2020-10-05T00:00:00\", \"2020-10-06T00:00:00\", \"2020-10-07T00:00:00\", \"2020-10-08T00:00:00\", \"2020-10-09T00:00:00\", \"2020-10-10T00:00:00\", \"2020-10-11T00:00:00\", \"2020-10-12T00:00:00\", \"2020-10-13T00:00:00\", \"2020-10-14T00:00:00\", \"2020-10-15T00:00:00\", \"2020-10-16T00:00:00\", \"2020-10-17T00:00:00\", \"2020-10-18T00:00:00\", \"2020-10-19T00:00:00\", \"2020-10-20T00:00:00\", \"2020-10-21T00:00:00\", \"2020-10-22T00:00:00\", \"2020-10-23T00:00:00\", \"2020-10-24T00:00:00\", \"2020-10-25T00:00:00\", \"2020-10-26T00:00:00\", \"2020-10-27T00:00:00\", \"2020-10-28T00:00:00\", \"2020-10-29T00:00:00\", \"2020-10-30T00:00:00\", \"2020-10-31T00:00:00\", \"2020-11-01T00:00:00\", \"2020-11-02T00:00:00\", \"2020-11-03T00:00:00\", \"2020-11-04T00:00:00\", \"2020-11-05T00:00:00\", \"2020-11-06T00:00:00\", \"2020-11-07T00:00:00\", \"2020-11-08T00:00:00\", \"2020-11-09T00:00:00\", \"2020-11-10T00:00:00\", \"2020-11-11T00:00:00\", \"2020-11-12T00:00:00\", \"2020-11-13T00:00:00\", \"2020-11-14T00:00:00\", \"2020-11-15T00:00:00\", \"2020-11-16T00:00:00\", \"2020-11-17T00:00:00\", \"2020-11-18T00:00:00\", \"2020-11-19T00:00:00\", \"2020-11-20T00:00:00\", \"2020-11-21T00:00:00\", \"2020-11-22T00:00:00\", \"2020-11-23T00:00:00\", \"2020-11-24T00:00:00\", \"2020-11-25T00:00:00\", \"2020-11-26T00:00:00\", \"2020-11-27T00:00:00\", \"2020-11-28T00:00:00\", \"2020-11-29T00:00:00\", \"2020-11-30T00:00:00\", \"2020-12-01T00:00:00\", \"2020-12-02T00:00:00\", \"2020-12-03T00:00:00\", \"2020-12-04T00:00:00\", \"2020-12-05T00:00:00\", \"2020-12-06T00:00:00\", \"2020-12-07T00:00:00\", \"2020-12-08T00:00:00\", \"2020-12-09T00:00:00\", \"2020-12-10T00:00:00\", \"2020-12-11T00:00:00\", \"2020-12-12T00:00:00\", \"2020-12-13T00:00:00\", \"2020-12-14T00:00:00\", \"2020-12-15T00:00:00\", \"2020-12-16T00:00:00\", \"2020-12-17T00:00:00\", \"2020-12-18T00:00:00\", \"2020-12-19T00:00:00\", \"2020-12-20T00:00:00\", \"2020-12-21T00:00:00\", \"2020-12-22T00:00:00\", \"2020-12-23T00:00:00\", \"2020-12-24T00:00:00\", \"2020-12-25T00:00:00\", \"2020-12-26T00:00:00\", \"2020-12-27T00:00:00\", \"2020-12-28T00:00:00\", \"2020-12-29T00:00:00\", \"2020-12-30T00:00:00\", \"2020-12-31T00:00:00\", \"2021-01-01T00:00:00\", \"2021-01-02T00:00:00\", \"2021-01-03T00:00:00\", \"2021-01-04T00:00:00\", \"2021-01-05T00:00:00\", \"2021-01-06T00:00:00\", \"2021-01-07T00:00:00\", \"2021-01-08T00:00:00\", \"2021-01-09T00:00:00\", \"2021-01-10T00:00:00\", \"2021-01-11T00:00:00\", \"2021-01-12T00:00:00\", \"2021-01-13T00:00:00\", \"2021-01-14T00:00:00\", \"2021-01-15T00:00:00\", \"2021-01-16T00:00:00\", \"2021-01-17T00:00:00\", \"2021-01-18T00:00:00\", \"2021-01-19T00:00:00\", \"2021-01-20T00:00:00\", \"2021-01-21T00:00:00\", \"2021-01-22T00:00:00\", \"2021-01-23T00:00:00\", \"2021-01-24T00:00:00\", \"2021-01-25T00:00:00\", \"2021-01-26T00:00:00\", \"2021-01-27T00:00:00\", \"2021-01-28T00:00:00\", \"2021-01-29T00:00:00\", \"2021-01-30T00:00:00\", \"2021-01-31T00:00:00\", \"2021-02-01T00:00:00\", \"2021-02-02T00:00:00\", \"2021-02-03T00:00:00\", \"2021-02-04T00:00:00\", \"2021-02-05T00:00:00\", \"2021-02-06T00:00:00\", \"2021-02-07T00:00:00\", \"2021-02-08T00:00:00\", \"2021-02-09T00:00:00\", \"2021-02-10T00:00:00\", \"2021-02-11T00:00:00\", \"2021-02-12T00:00:00\", \"2021-02-13T00:00:00\", \"2021-02-14T00:00:00\", \"2021-02-15T00:00:00\", \"2021-02-16T00:00:00\", \"2021-02-17T00:00:00\", \"2021-02-18T00:00:00\", \"2021-02-19T00:00:00\", \"2021-02-20T00:00:00\", \"2021-02-21T00:00:00\", \"2021-02-22T00:00:00\", \"2021-02-23T00:00:00\", \"2021-02-24T00:00:00\", \"2021-02-25T00:00:00\", \"2021-02-26T00:00:00\", \"2021-02-27T00:00:00\", \"2021-02-28T00:00:00\", \"2021-03-01T00:00:00\", \"2021-03-02T00:00:00\", \"2021-03-03T00:00:00\", \"2021-03-04T00:00:00\", \"2021-03-05T00:00:00\", \"2021-03-06T00:00:00\", \"2021-03-07T00:00:00\", \"2021-03-08T00:00:00\", \"2021-03-09T00:00:00\", \"2021-03-10T00:00:00\", \"2021-03-11T00:00:00\", \"2021-03-12T00:00:00\", \"2021-03-13T00:00:00\", \"2021-03-14T00:00:00\", \"2021-03-15T00:00:00\", \"2021-03-16T00:00:00\", \"2021-03-17T00:00:00\", \"2021-03-18T00:00:00\", \"2021-03-19T00:00:00\", \"2021-03-20T00:00:00\", \"2021-03-21T00:00:00\", \"2021-03-22T00:00:00\", \"2021-03-23T00:00:00\", \"2021-03-24T00:00:00\", \"2021-03-25T00:00:00\", \"2021-03-26T00:00:00\", \"2021-03-27T00:00:00\", \"2021-03-28T00:00:00\", \"2021-03-29T00:00:00\", \"2021-03-30T00:00:00\", \"2021-03-31T00:00:00\", \"2021-04-01T00:00:00\", \"2021-04-02T00:00:00\", \"2021-04-03T00:00:00\", \"2021-04-04T00:00:00\", \"2021-04-05T00:00:00\", \"2021-04-06T00:00:00\", \"2021-04-07T00:00:00\", \"2021-04-08T00:00:00\", \"2021-04-09T00:00:00\", \"2021-04-10T00:00:00\", \"2021-04-11T00:00:00\", \"2021-04-12T00:00:00\", \"2021-04-13T00:00:00\", \"2021-04-14T00:00:00\", \"2021-04-15T00:00:00\", \"2021-04-16T00:00:00\", \"2021-04-17T00:00:00\", \"2021-04-18T00:00:00\", \"2021-04-19T00:00:00\", \"2021-04-20T00:00:00\", \"2021-04-21T00:00:00\", \"2021-04-22T00:00:00\", \"2021-04-23T00:00:00\", \"2021-04-24T00:00:00\", \"2021-04-25T00:00:00\", \"2021-04-26T00:00:00\", \"2021-04-27T00:00:00\", \"2021-04-28T00:00:00\", \"2021-04-29T00:00:00\", \"2021-04-30T00:00:00\", \"2021-05-01T00:00:00\", \"2021-05-02T00:00:00\", \"2021-05-03T00:00:00\", \"2021-05-04T00:00:00\", \"2021-05-05T00:00:00\", \"2021-05-06T00:00:00\", \"2021-05-07T00:00:00\", \"2021-05-08T00:00:00\", \"2021-05-09T00:00:00\", \"2021-05-10T00:00:00\", \"2021-05-11T00:00:00\", \"2021-05-12T00:00:00\", \"2021-05-13T00:00:00\", \"2021-05-14T00:00:00\", \"2021-05-15T00:00:00\", \"2021-05-16T00:00:00\", \"2021-05-17T00:00:00\", \"2021-05-18T00:00:00\", \"2021-05-19T00:00:00\", \"2021-05-20T00:00:00\", \"2021-05-21T00:00:00\", \"2021-05-22T00:00:00\", \"2021-05-23T00:00:00\", \"2021-05-24T00:00:00\", \"2021-05-25T00:00:00\", \"2021-05-26T00:00:00\", \"2021-05-27T00:00:00\", \"2021-05-28T00:00:00\", \"2021-05-29T00:00:00\", \"2021-05-30T00:00:00\", \"2021-05-31T00:00:00\", \"2021-06-01T00:00:00\", \"2021-06-02T00:00:00\", \"2021-06-03T00:00:00\", \"2021-06-04T00:00:00\", \"2021-06-05T00:00:00\", \"2021-06-06T00:00:00\", \"2021-06-07T00:00:00\", \"2021-06-08T00:00:00\", \"2021-06-09T00:00:00\", \"2021-06-10T00:00:00\", \"2021-06-11T00:00:00\", \"2021-06-12T00:00:00\", \"2021-06-13T00:00:00\", \"2021-06-14T00:00:00\", \"2021-06-15T00:00:00\", \"2021-06-16T00:00:00\", \"2021-06-17T00:00:00\", \"2021-06-18T00:00:00\", \"2021-06-19T00:00:00\", \"2021-06-20T00:00:00\", \"2021-06-21T00:00:00\", \"2021-06-22T00:00:00\", \"2021-06-23T00:00:00\", \"2021-06-24T00:00:00\", \"2021-06-25T00:00:00\", \"2021-06-26T00:00:00\", \"2021-06-27T00:00:00\", \"2021-06-28T00:00:00\", \"2021-06-29T00:00:00\", \"2021-06-30T00:00:00\", \"2021-07-01T00:00:00\", \"2021-07-02T00:00:00\", \"2021-07-03T00:00:00\", \"2021-07-04T00:00:00\", \"2021-07-05T00:00:00\", \"2021-07-06T00:00:00\", \"2021-07-07T00:00:00\", \"2021-07-08T00:00:00\", \"2021-07-09T00:00:00\", \"2021-07-10T00:00:00\", \"2021-07-11T00:00:00\", \"2021-07-12T00:00:00\", \"2021-07-13T00:00:00\", \"2021-07-14T00:00:00\", \"2021-07-15T00:00:00\", \"2021-07-16T00:00:00\", \"2021-07-17T00:00:00\", \"2021-07-18T00:00:00\", \"2021-07-19T00:00:00\", \"2021-07-20T00:00:00\", \"2021-07-21T00:00:00\"], \"xaxis\": \"x\", \"y\": [1, 1, 2, 1, 1, 2, 6, 5, 6, 7, 1, 1, 1, 2, 3, 1, 1, 1, 4, 1, 2, 3, 6, 13, 3, 7, 32, 33, 30, 35, 60, 50, 89, 188, 122, 106, 107, 111, 91, 108, 141, 138, 128, 120, 104, 103, 89, 102, 51, 38, 111, 54, 50, 45, 33, 28, 34, 30, 29, 28, 33, 32, 27, 19, 15, 13, 15, 53, 15, 9, 7, 9, 7, 6, 6, 3, 18, 1, 1, 3, 8, 4, 5, 6, 2, 1, 7, 3, 3, 2, 1, 3, 3, 2, 3, 9, 11, 11, 1, 4, 1, 1, 1, 17, 1, 2, 8, 7, 2, 4, 4, 5, 1, 6, 5, 1, 1, 3, 5, 1, 1, 4, 7, 2, 2, 6, 1, 5, 5, 5, 2, 5, 14, 1, 3, 7, 5, 4, 3, 7, 3, 1, 5, 6, 8, 10, 3, 9, 4, 2, 1, 6, 6, 2, 5, 3, 1, 7, 2, 15, 3, 3, 5, 3, 17, 1, 1, 3, 1, 7, 1, 5, 2, 5, 1, 1, 6, 1, 1, 5, 8, 2, 4, 7, 6, 1, 1, 1, 7, 7, 5, 7, 2, 5, 10, 7, 3, 6, 5, 3, 2, 3, 3, 1, 22, 14, 5, 5, 6, 8, 2, 5, 10, 15, 7, 6, 6, 2, 5, 2, 9, 13, 4, 10, 7, 5, 9, 9, 10, 8, 4, 5, 7, 3, 12, 5, 12, 5, 4, 3, 10, 7, 6, 8, 12, 7, 3, 4, 3, 5, 9, 5, 8, 1, 3, 2, 8, 4, 10, 11, 7, 2, 4, 16, 19, 5, 11, 21, 10, 18, 13, 14, 19, 14, 21, 19, 25, 18, 11, 12, 17, 28, 9, 15, 20, 16, 34, 576, 382, 427, 46, 67, 81, 110, 121, 144, 155, 250, 194, 279, 216, 315, 745, 533, 365, 305, 205, 212, 245, 249, 287, 157, 271, 188, 230, 374, 369, 171, 59, 142, 309, 198, 198, 187, 959, 819, 756, 802, 930, 829, 836, 836, 795, 809, 586, 490, 237, 186, 189, 157, 201, 175, 126, 166, 143, 72, 175, 150, 130, 82, 92, 89, 95, 93, 72, 45, 72, 70, 80, 42, 35, 54, 79, 64, 65, 71, 60, 39, 58, 81, 78, 170, 78, 149, 248, 92, 100, 119, 90, 73, 401, 69, 97, 134, 80, 77, 39, 48, 42, 26, 58, 84, 96, 194, 250, 334, 405, 559, 789, 967, 984, 964, 1339, 1545, 1581, 1547, 1767, 1392, 1443, 1458, 1470, 2070, 2839, 2438, 2048, 2179, 2012, 1871, 1583, 1885, 1940, 2041, 1763, 2112, 1911, 2044, 2419, 2101, 1630, 1919, 1983, 4887, 2256, 3095, 2302, 9635, 2473, 3394, 2578, 3481, 3052, 3382, 2713, 3226, 2455, 3323, 3759, 4803, 4528, 5485, 2230, 3440, 3886, 2631, 2817, 2671, 2419, 2662, 2680, 2310, 2290, 3277, 2804, 3355, 3000, 2331, 3129, 2883, 3667, 3682, 3175, 4059, 3174, 4108, 3644, 4161, 3995, 5406, 4596, 4786, 5533, 6087, 6230, 5916, 6166, 5420, 6519, 7058, 9276, 9326, 9539, 8656, 8685, 9317, 9186, 9692, 10082, 11397, 11784, 11305, 13002], \"yaxis\": \"y\"}],\n",
              "                        {\"legend\": {\"tracegroupgap\": 0}, \"template\": {\"data\": {\"bar\": [{\"error_x\": {\"color\": \"#2a3f5f\"}, \"error_y\": {\"color\": \"#2a3f5f\"}, \"marker\": {\"line\": {\"color\": \"#E5ECF6\", \"width\": 0.5}}, \"type\": \"bar\"}], \"barpolar\": [{\"marker\": {\"line\": {\"color\": \"#E5ECF6\", \"width\": 0.5}}, \"type\": \"barpolar\"}], \"carpet\": [{\"aaxis\": {\"endlinecolor\": \"#2a3f5f\", \"gridcolor\": \"white\", \"linecolor\": \"white\", \"minorgridcolor\": \"white\", \"startlinecolor\": \"#2a3f5f\"}, \"baxis\": {\"endlinecolor\": \"#2a3f5f\", \"gridcolor\": \"white\", \"linecolor\": \"white\", \"minorgridcolor\": \"white\", \"startlinecolor\": \"#2a3f5f\"}, \"type\": \"carpet\"}], \"choropleth\": [{\"colorbar\": {\"outlinewidth\": 0, \"ticks\": \"\"}, \"type\": \"choropleth\"}], \"contour\": [{\"colorbar\": {\"outlinewidth\": 0, \"ticks\": \"\"}, \"colorscale\": [[0.0, \"#0d0887\"], [0.1111111111111111, \"#46039f\"], [0.2222222222222222, \"#7201a8\"], [0.3333333333333333, \"#9c179e\"], [0.4444444444444444, \"#bd3786\"], [0.5555555555555556, \"#d8576b\"], [0.6666666666666666, \"#ed7953\"], [0.7777777777777778, \"#fb9f3a\"], [0.8888888888888888, \"#fdca26\"], [1.0, \"#f0f921\"]], \"type\": \"contour\"}], \"contourcarpet\": [{\"colorbar\": {\"outlinewidth\": 0, \"ticks\": \"\"}, \"type\": \"contourcarpet\"}], \"heatmap\": [{\"colorbar\": {\"outlinewidth\": 0, \"ticks\": \"\"}, \"colorscale\": [[0.0, \"#0d0887\"], [0.1111111111111111, \"#46039f\"], [0.2222222222222222, \"#7201a8\"], [0.3333333333333333, \"#9c179e\"], [0.4444444444444444, \"#bd3786\"], [0.5555555555555556, \"#d8576b\"], [0.6666666666666666, \"#ed7953\"], [0.7777777777777778, \"#fb9f3a\"], [0.8888888888888888, \"#fdca26\"], [1.0, \"#f0f921\"]], \"type\": \"heatmap\"}], \"heatmapgl\": [{\"colorbar\": {\"outlinewidth\": 0, \"ticks\": \"\"}, \"colorscale\": [[0.0, \"#0d0887\"], [0.1111111111111111, \"#46039f\"], [0.2222222222222222, \"#7201a8\"], [0.3333333333333333, \"#9c179e\"], [0.4444444444444444, \"#bd3786\"], [0.5555555555555556, \"#d8576b\"], [0.6666666666666666, \"#ed7953\"], [0.7777777777777778, \"#fb9f3a\"], [0.8888888888888888, \"#fdca26\"], [1.0, \"#f0f921\"]], \"type\": \"heatmapgl\"}], \"histogram\": [{\"marker\": {\"colorbar\": {\"outlinewidth\": 0, \"ticks\": \"\"}}, \"type\": \"histogram\"}], \"histogram2d\": [{\"colorbar\": {\"outlinewidth\": 0, \"ticks\": \"\"}, \"colorscale\": [[0.0, \"#0d0887\"], [0.1111111111111111, \"#46039f\"], [0.2222222222222222, \"#7201a8\"], [0.3333333333333333, \"#9c179e\"], [0.4444444444444444, \"#bd3786\"], [0.5555555555555556, \"#d8576b\"], [0.6666666666666666, \"#ed7953\"], [0.7777777777777778, \"#fb9f3a\"], [0.8888888888888888, \"#fdca26\"], [1.0, \"#f0f921\"]], \"type\": \"histogram2d\"}], \"histogram2dcontour\": [{\"colorbar\": {\"outlinewidth\": 0, \"ticks\": \"\"}, \"colorscale\": [[0.0, \"#0d0887\"], [0.1111111111111111, \"#46039f\"], [0.2222222222222222, \"#7201a8\"], [0.3333333333333333, \"#9c179e\"], [0.4444444444444444, \"#bd3786\"], [0.5555555555555556, \"#d8576b\"], [0.6666666666666666, \"#ed7953\"], [0.7777777777777778, \"#fb9f3a\"], [0.8888888888888888, \"#fdca26\"], [1.0, \"#f0f921\"]], \"type\": \"histogram2dcontour\"}], \"mesh3d\": [{\"colorbar\": {\"outlinewidth\": 0, \"ticks\": \"\"}, \"type\": \"mesh3d\"}], \"parcoords\": [{\"line\": {\"colorbar\": {\"outlinewidth\": 0, \"ticks\": \"\"}}, \"type\": \"parcoords\"}], \"pie\": [{\"automargin\": true, \"type\": \"pie\"}], \"scatter\": [{\"marker\": {\"colorbar\": {\"outlinewidth\": 0, \"ticks\": \"\"}}, \"type\": \"scatter\"}], \"scatter3d\": [{\"line\": {\"colorbar\": {\"outlinewidth\": 0, \"ticks\": \"\"}}, \"marker\": {\"colorbar\": {\"outlinewidth\": 0, \"ticks\": \"\"}}, \"type\": \"scatter3d\"}], \"scattercarpet\": [{\"marker\": {\"colorbar\": {\"outlinewidth\": 0, \"ticks\": \"\"}}, \"type\": \"scattercarpet\"}], \"scattergeo\": [{\"marker\": {\"colorbar\": {\"outlinewidth\": 0, \"ticks\": \"\"}}, \"type\": \"scattergeo\"}], \"scattergl\": [{\"marker\": {\"colorbar\": {\"outlinewidth\": 0, \"ticks\": \"\"}}, \"type\": \"scattergl\"}], \"scattermapbox\": [{\"marker\": {\"colorbar\": {\"outlinewidth\": 0, \"ticks\": \"\"}}, \"type\": \"scattermapbox\"}], \"scatterpolar\": [{\"marker\": {\"colorbar\": {\"outlinewidth\": 0, \"ticks\": \"\"}}, \"type\": \"scatterpolar\"}], \"scatterpolargl\": [{\"marker\": {\"colorbar\": {\"outlinewidth\": 0, \"ticks\": \"\"}}, \"type\": \"scatterpolargl\"}], \"scatterternary\": [{\"marker\": {\"colorbar\": {\"outlinewidth\": 0, \"ticks\": \"\"}}, \"type\": \"scatterternary\"}], \"surface\": [{\"colorbar\": {\"outlinewidth\": 0, \"ticks\": \"\"}, \"colorscale\": [[0.0, \"#0d0887\"], [0.1111111111111111, \"#46039f\"], [0.2222222222222222, \"#7201a8\"], [0.3333333333333333, \"#9c179e\"], [0.4444444444444444, \"#bd3786\"], [0.5555555555555556, \"#d8576b\"], [0.6666666666666666, \"#ed7953\"], [0.7777777777777778, \"#fb9f3a\"], [0.8888888888888888, \"#fdca26\"], [1.0, \"#f0f921\"]], \"type\": \"surface\"}], \"table\": [{\"cells\": {\"fill\": {\"color\": \"#EBF0F8\"}, \"line\": {\"color\": \"white\"}}, \"header\": {\"fill\": {\"color\": \"#C8D4E3\"}, \"line\": {\"color\": \"white\"}}, \"type\": \"table\"}]}, \"layout\": {\"annotationdefaults\": {\"arrowcolor\": \"#2a3f5f\", \"arrowhead\": 0, \"arrowwidth\": 1}, \"coloraxis\": {\"colorbar\": {\"outlinewidth\": 0, \"ticks\": \"\"}}, \"colorscale\": {\"diverging\": [[0, \"#8e0152\"], [0.1, \"#c51b7d\"], [0.2, \"#de77ae\"], [0.3, \"#f1b6da\"], [0.4, \"#fde0ef\"], [0.5, \"#f7f7f7\"], [0.6, \"#e6f5d0\"], [0.7, \"#b8e186\"], [0.8, \"#7fbc41\"], [0.9, \"#4d9221\"], [1, \"#276419\"]], \"sequential\": [[0.0, \"#0d0887\"], [0.1111111111111111, \"#46039f\"], [0.2222222222222222, \"#7201a8\"], [0.3333333333333333, \"#9c179e\"], [0.4444444444444444, \"#bd3786\"], [0.5555555555555556, \"#d8576b\"], [0.6666666666666666, \"#ed7953\"], [0.7777777777777778, \"#fb9f3a\"], [0.8888888888888888, \"#fdca26\"], [1.0, \"#f0f921\"]], \"sequentialminus\": [[0.0, \"#0d0887\"], [0.1111111111111111, \"#46039f\"], [0.2222222222222222, \"#7201a8\"], [0.3333333333333333, \"#9c179e\"], [0.4444444444444444, \"#bd3786\"], [0.5555555555555556, \"#d8576b\"], [0.6666666666666666, \"#ed7953\"], [0.7777777777777778, \"#fb9f3a\"], [0.8888888888888888, \"#fdca26\"], [1.0, \"#f0f921\"]]}, \"colorway\": [\"#636efa\", \"#EF553B\", \"#00cc96\", \"#ab63fa\", \"#FFA15A\", \"#19d3f3\", \"#FF6692\", \"#B6E880\", \"#FF97FF\", \"#FECB52\"], \"font\": {\"color\": \"#2a3f5f\"}, \"geo\": {\"bgcolor\": \"white\", \"lakecolor\": \"white\", \"landcolor\": \"#E5ECF6\", \"showlakes\": true, \"showland\": true, \"subunitcolor\": \"white\"}, \"hoverlabel\": {\"align\": \"left\"}, \"hovermode\": \"closest\", \"mapbox\": {\"style\": \"light\"}, \"paper_bgcolor\": \"white\", \"plot_bgcolor\": \"#E5ECF6\", \"polar\": {\"angularaxis\": {\"gridcolor\": \"white\", \"linecolor\": \"white\", \"ticks\": \"\"}, \"bgcolor\": \"#E5ECF6\", \"radialaxis\": {\"gridcolor\": \"white\", \"linecolor\": \"white\", \"ticks\": \"\"}}, \"scene\": {\"xaxis\": {\"backgroundcolor\": \"#E5ECF6\", \"gridcolor\": \"white\", \"gridwidth\": 2, \"linecolor\": \"white\", \"showbackground\": true, \"ticks\": \"\", \"zerolinecolor\": \"white\"}, \"yaxis\": {\"backgroundcolor\": \"#E5ECF6\", \"gridcolor\": \"white\", \"gridwidth\": 2, \"linecolor\": \"white\", \"showbackground\": true, \"ticks\": \"\", \"zerolinecolor\": \"white\"}, \"zaxis\": {\"backgroundcolor\": \"#E5ECF6\", \"gridcolor\": \"white\", \"gridwidth\": 2, \"linecolor\": \"white\", \"showbackground\": true, \"ticks\": \"\", \"zerolinecolor\": \"white\"}}, \"shapedefaults\": {\"line\": {\"color\": \"#2a3f5f\"}}, \"ternary\": {\"aaxis\": {\"gridcolor\": \"white\", \"linecolor\": \"white\", \"ticks\": \"\"}, \"baxis\": {\"gridcolor\": \"white\", \"linecolor\": \"white\", \"ticks\": \"\"}, \"bgcolor\": \"#E5ECF6\", \"caxis\": {\"gridcolor\": \"white\", \"linecolor\": \"white\", \"ticks\": \"\"}}, \"title\": {\"x\": 0.05}, \"xaxis\": {\"automargin\": true, \"gridcolor\": \"white\", \"linecolor\": \"white\", \"ticks\": \"\", \"title\": {\"standoff\": 15}, \"zerolinecolor\": \"white\", \"zerolinewidth\": 2}, \"yaxis\": {\"automargin\": true, \"gridcolor\": \"white\", \"linecolor\": \"white\", \"ticks\": \"\", \"title\": {\"standoff\": 15}, \"zerolinecolor\": \"white\", \"zerolinewidth\": 2}}}, \"title\": {\"text\": \"covid\"}, \"xaxis\": {\"anchor\": \"y\", \"domain\": [0.0, 1.0], \"title\": {\"text\": \"date\"}}, \"yaxis\": {\"anchor\": \"x\", \"domain\": [0.0, 1.0], \"title\": {\"text\": \"daily infected\"}, \"type\": \"log\"}},\n",
              "                        {\"responsive\": true}\n",
              "                    ).then(function(){\n",
              "                            \n",
              "var gd = document.getElementById('b813fadb-bd92-4e32-a026-e1c9ee4cc8a5');\n",
              "var x = new MutationObserver(function (mutations, observer) {{\n",
              "        var display = window.getComputedStyle(gd).display;\n",
              "        if (!display || display === 'none') {{\n",
              "            console.log([gd, 'removed!']);\n",
              "            Plotly.purge(gd);\n",
              "            observer.disconnect();\n",
              "        }}\n",
              "}});\n",
              "\n",
              "// Listen for the removal of the full notebook cells\n",
              "var notebookContainer = gd.closest('#notebook-container');\n",
              "if (notebookContainer) {{\n",
              "    x.observe(notebookContainer, {childList: true});\n",
              "}}\n",
              "\n",
              "// Listen for the clearing of the current output cell\n",
              "var outputEl = gd.closest('.output');\n",
              "if (outputEl) {{\n",
              "    x.observe(outputEl, {childList: true});\n",
              "}}\n",
              "\n",
              "                        })\n",
              "                };\n",
              "                \n",
              "            </script>\n",
              "        </div>\n",
              "</body>\n",
              "</html>"
            ]
          },
          "metadata": {
            "tags": []
          }
        }
      ]
    },
    {
      "cell_type": "markdown",
      "metadata": {
        "id": "L1c86gwH9bhV"
      },
      "source": [
        "# 4. Cluster Analysis"
      ]
    },
    {
      "cell_type": "code",
      "metadata": {
        "id": "_75vQuDnTIL3"
      },
      "source": [
        "#select only clusters\n",
        "clusdat = dat[dat['risk'].str.find('Cluster')!=-1][['risk','date','province_of_onset']]"
      ],
      "execution_count": null,
      "outputs": []
    },
    {
      "cell_type": "code",
      "metadata": {
        "id": "Y-MvaECbgeSs"
      },
      "source": [
        "cset = list(set(clusdat['risk']))"
      ],
      "execution_count": null,
      "outputs": []
    },
    {
      "cell_type": "code",
      "metadata": {
        "colab": {
          "base_uri": "https://localhost:8080/",
          "height": 204
        },
        "id": "N8P2yeecDZOK",
        "outputId": "d9bc0e75-10a7-4b2e-e3ef-0f25e0ccb09e"
      },
      "source": [
        "clusdat.head()"
      ],
      "execution_count": null,
      "outputs": [
        {
          "output_type": "execute_result",
          "data": {
            "text/html": [
              "<div>\n",
              "<style scoped>\n",
              "    .dataframe tbody tr th:only-of-type {\n",
              "        vertical-align: middle;\n",
              "    }\n",
              "\n",
              "    .dataframe tbody tr th {\n",
              "        vertical-align: top;\n",
              "    }\n",
              "\n",
              "    .dataframe thead th {\n",
              "        text-align: right;\n",
              "    }\n",
              "</style>\n",
              "<table border=\"1\" class=\"dataframe\">\n",
              "  <thead>\n",
              "    <tr style=\"text-align: right;\">\n",
              "      <th></th>\n",
              "      <th>risk</th>\n",
              "      <th>date</th>\n",
              "      <th>province_of_onset</th>\n",
              "    </tr>\n",
              "  </thead>\n",
              "  <tbody>\n",
              "    <tr>\n",
              "      <th>124</th>\n",
              "      <td>Cluster ตลาดพรพัฒน์</td>\n",
              "      <td>2021-03-06</td>\n",
              "      <td>ปทุมธานี</td>\n",
              "    </tr>\n",
              "    <tr>\n",
              "      <th>4297</th>\n",
              "      <td>Cluster สมุทรสาคร</td>\n",
              "      <td>2020-12-18</td>\n",
              "      <td>สมุทรสาคร</td>\n",
              "    </tr>\n",
              "    <tr>\n",
              "      <th>4320</th>\n",
              "      <td>Cluster สมุทรสาคร</td>\n",
              "      <td>2020-12-19</td>\n",
              "      <td>สมุทรสาคร</td>\n",
              "    </tr>\n",
              "    <tr>\n",
              "      <th>4321</th>\n",
              "      <td>Cluster สมุทรสาคร</td>\n",
              "      <td>2020-12-19</td>\n",
              "      <td>สมุทรสาคร</td>\n",
              "    </tr>\n",
              "    <tr>\n",
              "      <th>4322</th>\n",
              "      <td>Cluster สมุทรสาคร</td>\n",
              "      <td>2020-12-19</td>\n",
              "      <td>สมุทรสาคร</td>\n",
              "    </tr>\n",
              "  </tbody>\n",
              "</table>\n",
              "</div>"
            ],
            "text/plain": [
              "                     risk       date province_of_onset\n",
              "124   Cluster ตลาดพรพัฒน์ 2021-03-06          ปทุมธานี\n",
              "4297    Cluster สมุทรสาคร 2020-12-18         สมุทรสาคร\n",
              "4320    Cluster สมุทรสาคร 2020-12-19         สมุทรสาคร\n",
              "4321    Cluster สมุทรสาคร 2020-12-19         สมุทรสาคร\n",
              "4322    Cluster สมุทรสาคร 2020-12-19         สมุทรสาคร"
            ]
          },
          "metadata": {
            "tags": []
          },
          "execution_count": 134
        }
      ]
    },
    {
      "cell_type": "code",
      "metadata": {
        "id": "Db3bWKAvUzy6"
      },
      "source": [
        "#find period of spread\n",
        "clusdate = pd.crosstab(clusdat['date'],clusdat['risk'])"
      ],
      "execution_count": null,
      "outputs": []
    },
    {
      "cell_type": "code",
      "metadata": {
        "colab": {
          "base_uri": "https://localhost:8080/",
          "height": 408
        },
        "id": "5nhpWnjHDku7",
        "outputId": "ca99baa4-9010-4d04-bf90-1d5c1958a8b2"
      },
      "source": [
        "clusdate.head()"
      ],
      "execution_count": null,
      "outputs": [
        {
          "output_type": "execute_result",
          "data": {
            "text/html": [
              "<div>\n",
              "<style scoped>\n",
              "    .dataframe tbody tr th:only-of-type {\n",
              "        vertical-align: middle;\n",
              "    }\n",
              "\n",
              "    .dataframe tbody tr th {\n",
              "        vertical-align: top;\n",
              "    }\n",
              "\n",
              "    .dataframe thead th {\n",
              "        text-align: right;\n",
              "    }\n",
              "</style>\n",
              "<table border=\"1\" class=\"dataframe\">\n",
              "  <thead>\n",
              "    <tr style=\"text-align: right;\">\n",
              "      <th>risk</th>\n",
              "      <th>Cluster Icon siam</th>\n",
              "      <th>Cluster Memory 90's กรุงเทพมหานคร</th>\n",
              "      <th>Cluster New Jazz กรุงเทพมหานคร</th>\n",
              "      <th>Cluster The Lounge Salaya</th>\n",
              "      <th>Cluster กรุงเทพมหานคร. คลองเตย</th>\n",
              "      <th>Cluster คลองเตย</th>\n",
              "      <th>Cluster งานมอเตอร์ โชว์</th>\n",
              "      <th>Cluster จนท. สนามบินสุวรรณภูมิ</th>\n",
              "      <th>Cluster จันทบุรี</th>\n",
              "      <th>Cluster จันทบุรี (ชาวกินี )</th>\n",
              "      <th>Cluster จันทบุรี (ชาวกินี)</th>\n",
              "      <th>Cluster ชลบุรี</th>\n",
              "      <th>Cluster ชลบุรี บริษัทไดกิ้น</th>\n",
              "      <th>Cluster ชลบุรี โรงเบียร์ 90</th>\n",
              "      <th>Cluster ตราด</th>\n",
              "      <th>Cluster ตราด</th>\n",
              "      <th>Cluster ตลาดนนทบุรี</th>\n",
              "      <th>Cluster ตลาดบางพลี</th>\n",
              "      <th>Cluster ตลาดบางแค</th>\n",
              "      <th>Cluster ตลาดบางแค/คลองขวาง</th>\n",
              "      <th>Cluster ตลาดพรพัฒน์</th>\n",
              "      <th>Cluster ตลาดสี่มุมเมือง</th>\n",
              "      <th>Cluster ทัณฑสถานหญิงกลาง</th>\n",
              "      <th>Cluster ทัณฑสถานโรงพยาบาลราชทัณฑ์</th>\n",
              "      <th>Cluster ทันฑสถานบำบัดพิเศษกลาง</th>\n",
              "      <th>Cluster บริษัทศรีสวัสดิ์</th>\n",
              "      <th>Cluster บางแค</th>\n",
              "      <th>Cluster บ่อนพัทยา/ชลบุรี</th>\n",
              "      <th>Cluster บ่อนเทพารักษ์</th>\n",
              "      <th>Cluster บ่อนไก่อ่างทอง</th>\n",
              "      <th>Cluster ปากช่อง</th>\n",
              "      <th>Cluster ผับ Thonglor</th>\n",
              "      <th>Cluster มหาสารคาม</th>\n",
              "      <th>Cluster ระยอง</th>\n",
              "      <th>Cluster ระยอง วิริยะประกันภัย</th>\n",
              "      <th>Cluster สถานบันเทิงย่านทองหล่อ</th>\n",
              "      <th>Cluster สมุทรปราการ (โรงงาน บริษัทเมทัล โปรดักส์)</th>\n",
              "      <th>Cluster สมุทรปราการ GRP Hightech</th>\n",
              "      <th>Cluster สมุทรปราการ ตลาดเคหะบางพลี</th>\n",
              "      <th>Cluster สมุทรสาคร</th>\n",
              "      <th>Cluster ห้างแสงทอง (สายล่าง)</th>\n",
              "      <th>Cluster เครือคัสเซ่อร์พีคโฮลดิ้ง (CPG,CPH)</th>\n",
              "      <th>Cluster เรือนจำกลางคลองเปรม</th>\n",
              "      <th>Cluster เรือนจำพิเศษกรุงเทพ</th>\n",
              "      <th>Cluster เรือนจำพิเศษธนบุรี</th>\n",
              "      <th>Cluster เรือนจำพิเศษมีนบุรี</th>\n",
              "      <th>Cluster โรงงาน  Big Star</th>\n",
              "      <th>Cluster โรงงาน Big Star</th>\n",
              "      <th>Cluster โรงงาน QPP ประจวบฯ</th>\n",
              "      <th>Cluster โรงงาน standard can</th>\n",
              "      <th>Cluster โรงงานทำขนม บางขุนเทียน</th>\n",
              "    </tr>\n",
              "    <tr>\n",
              "      <th>date</th>\n",
              "      <th></th>\n",
              "      <th></th>\n",
              "      <th></th>\n",
              "      <th></th>\n",
              "      <th></th>\n",
              "      <th></th>\n",
              "      <th></th>\n",
              "      <th></th>\n",
              "      <th></th>\n",
              "      <th></th>\n",
              "      <th></th>\n",
              "      <th></th>\n",
              "      <th></th>\n",
              "      <th></th>\n",
              "      <th></th>\n",
              "      <th></th>\n",
              "      <th></th>\n",
              "      <th></th>\n",
              "      <th></th>\n",
              "      <th></th>\n",
              "      <th></th>\n",
              "      <th></th>\n",
              "      <th></th>\n",
              "      <th></th>\n",
              "      <th></th>\n",
              "      <th></th>\n",
              "      <th></th>\n",
              "      <th></th>\n",
              "      <th></th>\n",
              "      <th></th>\n",
              "      <th></th>\n",
              "      <th></th>\n",
              "      <th></th>\n",
              "      <th></th>\n",
              "      <th></th>\n",
              "      <th></th>\n",
              "      <th></th>\n",
              "      <th></th>\n",
              "      <th></th>\n",
              "      <th></th>\n",
              "      <th></th>\n",
              "      <th></th>\n",
              "      <th></th>\n",
              "      <th></th>\n",
              "      <th></th>\n",
              "      <th></th>\n",
              "      <th></th>\n",
              "      <th></th>\n",
              "      <th></th>\n",
              "      <th></th>\n",
              "      <th></th>\n",
              "    </tr>\n",
              "  </thead>\n",
              "  <tbody>\n",
              "    <tr>\n",
              "      <th>2020-12-18</th>\n",
              "      <td>0</td>\n",
              "      <td>0</td>\n",
              "      <td>0</td>\n",
              "      <td>0</td>\n",
              "      <td>0</td>\n",
              "      <td>0</td>\n",
              "      <td>0</td>\n",
              "      <td>0</td>\n",
              "      <td>0</td>\n",
              "      <td>0</td>\n",
              "      <td>0</td>\n",
              "      <td>0</td>\n",
              "      <td>0</td>\n",
              "      <td>0</td>\n",
              "      <td>0</td>\n",
              "      <td>0</td>\n",
              "      <td>0</td>\n",
              "      <td>0</td>\n",
              "      <td>0</td>\n",
              "      <td>0</td>\n",
              "      <td>0</td>\n",
              "      <td>0</td>\n",
              "      <td>0</td>\n",
              "      <td>0</td>\n",
              "      <td>0</td>\n",
              "      <td>0</td>\n",
              "      <td>0</td>\n",
              "      <td>0</td>\n",
              "      <td>0</td>\n",
              "      <td>0</td>\n",
              "      <td>0</td>\n",
              "      <td>0</td>\n",
              "      <td>0</td>\n",
              "      <td>0</td>\n",
              "      <td>0</td>\n",
              "      <td>0</td>\n",
              "      <td>0</td>\n",
              "      <td>0</td>\n",
              "      <td>0</td>\n",
              "      <td>1</td>\n",
              "      <td>0</td>\n",
              "      <td>0</td>\n",
              "      <td>0</td>\n",
              "      <td>0</td>\n",
              "      <td>0</td>\n",
              "      <td>0</td>\n",
              "      <td>0</td>\n",
              "      <td>0</td>\n",
              "      <td>0</td>\n",
              "      <td>0</td>\n",
              "      <td>0</td>\n",
              "    </tr>\n",
              "    <tr>\n",
              "      <th>2020-12-19</th>\n",
              "      <td>0</td>\n",
              "      <td>0</td>\n",
              "      <td>0</td>\n",
              "      <td>0</td>\n",
              "      <td>0</td>\n",
              "      <td>0</td>\n",
              "      <td>0</td>\n",
              "      <td>0</td>\n",
              "      <td>0</td>\n",
              "      <td>0</td>\n",
              "      <td>0</td>\n",
              "      <td>0</td>\n",
              "      <td>0</td>\n",
              "      <td>0</td>\n",
              "      <td>0</td>\n",
              "      <td>0</td>\n",
              "      <td>0</td>\n",
              "      <td>0</td>\n",
              "      <td>0</td>\n",
              "      <td>0</td>\n",
              "      <td>0</td>\n",
              "      <td>0</td>\n",
              "      <td>0</td>\n",
              "      <td>0</td>\n",
              "      <td>0</td>\n",
              "      <td>0</td>\n",
              "      <td>0</td>\n",
              "      <td>0</td>\n",
              "      <td>0</td>\n",
              "      <td>0</td>\n",
              "      <td>0</td>\n",
              "      <td>0</td>\n",
              "      <td>0</td>\n",
              "      <td>0</td>\n",
              "      <td>0</td>\n",
              "      <td>0</td>\n",
              "      <td>0</td>\n",
              "      <td>0</td>\n",
              "      <td>0</td>\n",
              "      <td>12</td>\n",
              "      <td>0</td>\n",
              "      <td>0</td>\n",
              "      <td>0</td>\n",
              "      <td>0</td>\n",
              "      <td>0</td>\n",
              "      <td>0</td>\n",
              "      <td>0</td>\n",
              "      <td>0</td>\n",
              "      <td>0</td>\n",
              "      <td>0</td>\n",
              "      <td>0</td>\n",
              "    </tr>\n",
              "    <tr>\n",
              "      <th>2020-12-20</th>\n",
              "      <td>0</td>\n",
              "      <td>0</td>\n",
              "      <td>0</td>\n",
              "      <td>0</td>\n",
              "      <td>0</td>\n",
              "      <td>0</td>\n",
              "      <td>0</td>\n",
              "      <td>0</td>\n",
              "      <td>0</td>\n",
              "      <td>0</td>\n",
              "      <td>0</td>\n",
              "      <td>0</td>\n",
              "      <td>0</td>\n",
              "      <td>0</td>\n",
              "      <td>0</td>\n",
              "      <td>0</td>\n",
              "      <td>0</td>\n",
              "      <td>0</td>\n",
              "      <td>0</td>\n",
              "      <td>0</td>\n",
              "      <td>0</td>\n",
              "      <td>0</td>\n",
              "      <td>0</td>\n",
              "      <td>0</td>\n",
              "      <td>0</td>\n",
              "      <td>0</td>\n",
              "      <td>0</td>\n",
              "      <td>0</td>\n",
              "      <td>0</td>\n",
              "      <td>0</td>\n",
              "      <td>0</td>\n",
              "      <td>0</td>\n",
              "      <td>0</td>\n",
              "      <td>0</td>\n",
              "      <td>0</td>\n",
              "      <td>0</td>\n",
              "      <td>0</td>\n",
              "      <td>0</td>\n",
              "      <td>0</td>\n",
              "      <td>535</td>\n",
              "      <td>0</td>\n",
              "      <td>0</td>\n",
              "      <td>0</td>\n",
              "      <td>0</td>\n",
              "      <td>0</td>\n",
              "      <td>0</td>\n",
              "      <td>0</td>\n",
              "      <td>0</td>\n",
              "      <td>0</td>\n",
              "      <td>0</td>\n",
              "      <td>0</td>\n",
              "    </tr>\n",
              "    <tr>\n",
              "      <th>2020-12-21</th>\n",
              "      <td>0</td>\n",
              "      <td>0</td>\n",
              "      <td>0</td>\n",
              "      <td>0</td>\n",
              "      <td>0</td>\n",
              "      <td>0</td>\n",
              "      <td>0</td>\n",
              "      <td>0</td>\n",
              "      <td>0</td>\n",
              "      <td>0</td>\n",
              "      <td>0</td>\n",
              "      <td>0</td>\n",
              "      <td>0</td>\n",
              "      <td>0</td>\n",
              "      <td>0</td>\n",
              "      <td>0</td>\n",
              "      <td>0</td>\n",
              "      <td>0</td>\n",
              "      <td>0</td>\n",
              "      <td>0</td>\n",
              "      <td>0</td>\n",
              "      <td>0</td>\n",
              "      <td>0</td>\n",
              "      <td>0</td>\n",
              "      <td>0</td>\n",
              "      <td>0</td>\n",
              "      <td>0</td>\n",
              "      <td>0</td>\n",
              "      <td>0</td>\n",
              "      <td>0</td>\n",
              "      <td>0</td>\n",
              "      <td>0</td>\n",
              "      <td>0</td>\n",
              "      <td>0</td>\n",
              "      <td>0</td>\n",
              "      <td>0</td>\n",
              "      <td>0</td>\n",
              "      <td>0</td>\n",
              "      <td>0</td>\n",
              "      <td>372</td>\n",
              "      <td>0</td>\n",
              "      <td>0</td>\n",
              "      <td>0</td>\n",
              "      <td>0</td>\n",
              "      <td>0</td>\n",
              "      <td>0</td>\n",
              "      <td>0</td>\n",
              "      <td>0</td>\n",
              "      <td>0</td>\n",
              "      <td>0</td>\n",
              "      <td>0</td>\n",
              "    </tr>\n",
              "    <tr>\n",
              "      <th>2020-12-22</th>\n",
              "      <td>0</td>\n",
              "      <td>0</td>\n",
              "      <td>0</td>\n",
              "      <td>0</td>\n",
              "      <td>0</td>\n",
              "      <td>0</td>\n",
              "      <td>0</td>\n",
              "      <td>0</td>\n",
              "      <td>0</td>\n",
              "      <td>0</td>\n",
              "      <td>0</td>\n",
              "      <td>0</td>\n",
              "      <td>0</td>\n",
              "      <td>0</td>\n",
              "      <td>0</td>\n",
              "      <td>0</td>\n",
              "      <td>0</td>\n",
              "      <td>0</td>\n",
              "      <td>0</td>\n",
              "      <td>0</td>\n",
              "      <td>0</td>\n",
              "      <td>0</td>\n",
              "      <td>0</td>\n",
              "      <td>0</td>\n",
              "      <td>0</td>\n",
              "      <td>0</td>\n",
              "      <td>0</td>\n",
              "      <td>0</td>\n",
              "      <td>0</td>\n",
              "      <td>0</td>\n",
              "      <td>0</td>\n",
              "      <td>0</td>\n",
              "      <td>0</td>\n",
              "      <td>0</td>\n",
              "      <td>0</td>\n",
              "      <td>0</td>\n",
              "      <td>0</td>\n",
              "      <td>0</td>\n",
              "      <td>0</td>\n",
              "      <td>413</td>\n",
              "      <td>0</td>\n",
              "      <td>0</td>\n",
              "      <td>0</td>\n",
              "      <td>0</td>\n",
              "      <td>0</td>\n",
              "      <td>0</td>\n",
              "      <td>0</td>\n",
              "      <td>0</td>\n",
              "      <td>0</td>\n",
              "      <td>0</td>\n",
              "      <td>0</td>\n",
              "    </tr>\n",
              "  </tbody>\n",
              "</table>\n",
              "</div>"
            ],
            "text/plain": [
              "risk        Cluster Icon siam  ...  Cluster โรงงานทำขนม บางขุนเทียน\n",
              "date                           ...                                 \n",
              "2020-12-18                  0  ...                                0\n",
              "2020-12-19                  0  ...                                0\n",
              "2020-12-20                  0  ...                                0\n",
              "2020-12-21                  0  ...                                0\n",
              "2020-12-22                  0  ...                                0\n",
              "\n",
              "[5 rows x 51 columns]"
            ]
          },
          "metadata": {
            "tags": []
          },
          "execution_count": 136
        }
      ]
    },
    {
      "cell_type": "code",
      "metadata": {
        "colab": {
          "base_uri": "https://localhost:8080/",
          "height": 703
        },
        "id": "NdebXykWZp8B",
        "outputId": "cecd3432-ed44-49ef-f9f5-6738ce852b2a"
      },
      "source": [
        "fclusdate = clusdate.iloc[:,0:10]\n",
        "fclusdate = fclusdate[fclusdate.sum(1)>0]\n",
        "fclusdate.plot.bar(figsize=(20,10),width=3,logy=True)"
      ],
      "execution_count": null,
      "outputs": [
        {
          "output_type": "execute_result",
          "data": {
            "text/plain": [
              "<matplotlib.axes._subplots.AxesSubplot at 0x7f1d44f08250>"
            ]
          },
          "metadata": {
            "tags": []
          },
          "execution_count": 137
        },
        {
          "output_type": "display_data",
          "data": {
            "image/png": "[encoded data removed]",
            "text/plain": [
              "<Figure size 1440x720 with 1 Axes>"
            ]
          },
          "metadata": {
            "tags": [],
            "needs_background": "light"
          }
        }
      ]
    },
    {
      "cell_type": "code",
      "metadata": {
        "id": "CRAPJFUUevhI"
      },
      "source": [
        "def getperiod(cname):\n",
        "  fo = (clusdate[cname]>0).argmax()\n",
        "  lo = len(clusdate)-(clusdate[cname].sort_index(ascending=False)>0).argmax()\n",
        "  pr = lo-fo\n",
        "  return pr"
      ],
      "execution_count": null,
      "outputs": []
    },
    {
      "cell_type": "code",
      "metadata": {
        "id": "LkT8zso0ftln"
      },
      "source": [
        "cper = [[c,getperiod(c)] for c in cset]"
      ],
      "execution_count": null,
      "outputs": []
    },
    {
      "cell_type": "code",
      "metadata": {
        "id": "WikVzkLrhGym"
      },
      "source": [
        "cper = pd.DataFrame(data=cper,columns=['custname','period']).sort_values(by='period',ascending=False)\n",
        "cper.index = cper['custname']"
      ],
      "execution_count": null,
      "outputs": []
    },
    {
      "cell_type": "code",
      "metadata": {
        "id": "YyAQ_dUuibKp"
      },
      "source": [
        "cper = cper[['period']]"
      ],
      "execution_count": null,
      "outputs": []
    },
    {
      "cell_type": "code",
      "metadata": {
        "colab": {
          "base_uri": "https://localhost:8080/",
          "height": 450
        },
        "id": "PepavWC1iWEw",
        "outputId": "60835779-4031-4c7b-a1ee-c9edb5f851a3"
      },
      "source": [
        "cper"
      ],
      "execution_count": null,
      "outputs": [
        {
          "output_type": "execute_result",
          "data": {
            "text/html": [
              "<div>\n",
              "<style scoped>\n",
              "    .dataframe tbody tr th:only-of-type {\n",
              "        vertical-align: middle;\n",
              "    }\n",
              "\n",
              "    .dataframe tbody tr th {\n",
              "        vertical-align: top;\n",
              "    }\n",
              "\n",
              "    .dataframe thead th {\n",
              "        text-align: right;\n",
              "    }\n",
              "</style>\n",
              "<table border=\"1\" class=\"dataframe\">\n",
              "  <thead>\n",
              "    <tr style=\"text-align: right;\">\n",
              "      <th></th>\n",
              "      <th>period</th>\n",
              "    </tr>\n",
              "    <tr>\n",
              "      <th>custname</th>\n",
              "      <th></th>\n",
              "    </tr>\n",
              "  </thead>\n",
              "  <tbody>\n",
              "    <tr>\n",
              "      <th>Cluster สมุทรสาคร</th>\n",
              "      <td>144</td>\n",
              "    </tr>\n",
              "    <tr>\n",
              "      <th>Cluster ระยอง</th>\n",
              "      <td>133</td>\n",
              "    </tr>\n",
              "    <tr>\n",
              "      <th>Cluster บ่อนไก่อ่างทอง</th>\n",
              "      <td>118</td>\n",
              "    </tr>\n",
              "    <tr>\n",
              "      <th>Cluster จันทบุรี</th>\n",
              "      <td>117</td>\n",
              "    </tr>\n",
              "    <tr>\n",
              "      <th>Cluster โรงงาน Big Star</th>\n",
              "      <td>67</td>\n",
              "    </tr>\n",
              "    <tr>\n",
              "      <th>...</th>\n",
              "      <td>...</td>\n",
              "    </tr>\n",
              "    <tr>\n",
              "      <th>Cluster ระยอง วิริยะประกันภัย</th>\n",
              "      <td>1</td>\n",
              "    </tr>\n",
              "    <tr>\n",
              "      <th>Cluster ทัณฑสถานโรงพยาบาลราชทัณฑ์</th>\n",
              "      <td>1</td>\n",
              "    </tr>\n",
              "    <tr>\n",
              "      <th>Cluster ห้างแสงทอง (สายล่าง)</th>\n",
              "      <td>1</td>\n",
              "    </tr>\n",
              "    <tr>\n",
              "      <th>Cluster สถานบันเทิงย่านทองหล่อ</th>\n",
              "      <td>1</td>\n",
              "    </tr>\n",
              "    <tr>\n",
              "      <th>Cluster ตราด</th>\n",
              "      <td>1</td>\n",
              "    </tr>\n",
              "  </tbody>\n",
              "</table>\n",
              "<p>51 rows × 1 columns</p>\n",
              "</div>"
            ],
            "text/plain": [
              "                                   period\n",
              "custname                                 \n",
              "Cluster สมุทรสาคร                     144\n",
              "Cluster ระยอง                         133\n",
              "Cluster บ่อนไก่อ่างทอง                118\n",
              "Cluster จันทบุรี                      117\n",
              "Cluster โรงงาน Big Star                67\n",
              "...                                   ...\n",
              "Cluster ระยอง วิริยะประกันภัย           1\n",
              "Cluster ทัณฑสถานโรงพยาบาลราชทัณฑ์       1\n",
              "Cluster ห้างแสงทอง (สายล่าง)            1\n",
              "Cluster สถานบันเทิงย่านทองหล่อ          1\n",
              "Cluster ตราด                            1\n",
              "\n",
              "[51 rows x 1 columns]"
            ]
          },
          "metadata": {
            "tags": []
          },
          "execution_count": 116
        }
      ]
    },
    {
      "cell_type": "code",
      "metadata": {
        "id": "hl7uBe1khkQ2",
        "colab": {
          "base_uri": "https://localhost:8080/",
          "height": 235
        },
        "outputId": "3a00adf0-fc2b-49b3-ed6a-b5509b5794bf"
      },
      "source": [
        "#get cluster size\n",
        "csize = clusdat.groupby('risk').count()[['date']]\n",
        "csize.columns = ['count']\n",
        "csize.head()"
      ],
      "execution_count": null,
      "outputs": [
        {
          "output_type": "execute_result",
          "data": {
            "text/html": [
              "<div>\n",
              "<style scoped>\n",
              "    .dataframe tbody tr th:only-of-type {\n",
              "        vertical-align: middle;\n",
              "    }\n",
              "\n",
              "    .dataframe tbody tr th {\n",
              "        vertical-align: top;\n",
              "    }\n",
              "\n",
              "    .dataframe thead th {\n",
              "        text-align: right;\n",
              "    }\n",
              "</style>\n",
              "<table border=\"1\" class=\"dataframe\">\n",
              "  <thead>\n",
              "    <tr style=\"text-align: right;\">\n",
              "      <th></th>\n",
              "      <th>count</th>\n",
              "    </tr>\n",
              "    <tr>\n",
              "      <th>risk</th>\n",
              "      <th></th>\n",
              "    </tr>\n",
              "  </thead>\n",
              "  <tbody>\n",
              "    <tr>\n",
              "      <th>Cluster Icon siam</th>\n",
              "      <td>11</td>\n",
              "    </tr>\n",
              "    <tr>\n",
              "      <th>Cluster Memory 90's กรุงเทพมหานคร</th>\n",
              "      <td>40</td>\n",
              "    </tr>\n",
              "    <tr>\n",
              "      <th>Cluster New Jazz กรุงเทพมหานคร</th>\n",
              "      <td>23</td>\n",
              "    </tr>\n",
              "    <tr>\n",
              "      <th>Cluster The Lounge Salaya</th>\n",
              "      <td>10</td>\n",
              "    </tr>\n",
              "    <tr>\n",
              "      <th>Cluster กรุงเทพมหานคร. คลองเตย</th>\n",
              "      <td>1</td>\n",
              "    </tr>\n",
              "  </tbody>\n",
              "</table>\n",
              "</div>"
            ],
            "text/plain": [
              "                                   count\n",
              "risk                                    \n",
              "Cluster Icon siam                     11\n",
              "Cluster Memory 90's กรุงเทพมหานคร     40\n",
              "Cluster New Jazz กรุงเทพมหานคร        23\n",
              "Cluster The Lounge Salaya             10\n",
              "Cluster กรุงเทพมหานคร. คลองเตย         1"
            ]
          },
          "metadata": {
            "tags": []
          },
          "execution_count": 120
        }
      ]
    },
    {
      "cell_type": "code",
      "metadata": {
        "colab": {
          "base_uri": "https://localhost:8080/",
          "height": 204
        },
        "id": "eC405wwYBilj",
        "outputId": "e88df71f-a3fe-402f-d2b3-50b25d18416b"
      },
      "source": [
        "clusdat.head()"
      ],
      "execution_count": null,
      "outputs": [
        {
          "output_type": "execute_result",
          "data": {
            "text/html": [
              "<div>\n",
              "<style scoped>\n",
              "    .dataframe tbody tr th:only-of-type {\n",
              "        vertical-align: middle;\n",
              "    }\n",
              "\n",
              "    .dataframe tbody tr th {\n",
              "        vertical-align: top;\n",
              "    }\n",
              "\n",
              "    .dataframe thead th {\n",
              "        text-align: right;\n",
              "    }\n",
              "</style>\n",
              "<table border=\"1\" class=\"dataframe\">\n",
              "  <thead>\n",
              "    <tr style=\"text-align: right;\">\n",
              "      <th></th>\n",
              "      <th>risk</th>\n",
              "      <th>date</th>\n",
              "      <th>province_of_onset</th>\n",
              "    </tr>\n",
              "  </thead>\n",
              "  <tbody>\n",
              "    <tr>\n",
              "      <th>124</th>\n",
              "      <td>Cluster ตลาดพรพัฒน์</td>\n",
              "      <td>2021-03-06</td>\n",
              "      <td>ปทุมธานี</td>\n",
              "    </tr>\n",
              "    <tr>\n",
              "      <th>4297</th>\n",
              "      <td>Cluster สมุทรสาคร</td>\n",
              "      <td>2020-12-18</td>\n",
              "      <td>สมุทรสาคร</td>\n",
              "    </tr>\n",
              "    <tr>\n",
              "      <th>4320</th>\n",
              "      <td>Cluster สมุทรสาคร</td>\n",
              "      <td>2020-12-19</td>\n",
              "      <td>สมุทรสาคร</td>\n",
              "    </tr>\n",
              "    <tr>\n",
              "      <th>4321</th>\n",
              "      <td>Cluster สมุทรสาคร</td>\n",
              "      <td>2020-12-19</td>\n",
              "      <td>สมุทรสาคร</td>\n",
              "    </tr>\n",
              "    <tr>\n",
              "      <th>4322</th>\n",
              "      <td>Cluster สมุทรสาคร</td>\n",
              "      <td>2020-12-19</td>\n",
              "      <td>สมุทรสาคร</td>\n",
              "    </tr>\n",
              "  </tbody>\n",
              "</table>\n",
              "</div>"
            ],
            "text/plain": [
              "                     risk       date province_of_onset\n",
              "124   Cluster ตลาดพรพัฒน์ 2021-03-06          ปทุมธานี\n",
              "4297    Cluster สมุทรสาคร 2020-12-18         สมุทรสาคร\n",
              "4320    Cluster สมุทรสาคร 2020-12-19         สมุทรสาคร\n",
              "4321    Cluster สมุทรสาคร 2020-12-19         สมุทรสาคร\n",
              "4322    Cluster สมุทรสาคร 2020-12-19         สมุทรสาคร"
            ]
          },
          "metadata": {
            "tags": []
          },
          "execution_count": 121
        }
      ]
    },
    {
      "cell_type": "code",
      "metadata": {
        "colab": {
          "base_uri": "https://localhost:8080/",
          "height": 235
        },
        "id": "APp3IkJeBZ8p",
        "outputId": "29534ddf-f8d9-49bd-cae0-ba3315c08a2a"
      },
      "source": [
        "#get cluster size\n",
        "cspread = clusdat.groupby('risk').province_of_onset.nunique()\n",
        "cspread = pd.DataFrame(cspread)\n",
        "cspread.columns = ['province_spread']\n",
        "cspread.head()"
      ],
      "execution_count": null,
      "outputs": [
        {
          "output_type": "execute_result",
          "data": {
            "text/html": [
              "<div>\n",
              "<style scoped>\n",
              "    .dataframe tbody tr th:only-of-type {\n",
              "        vertical-align: middle;\n",
              "    }\n",
              "\n",
              "    .dataframe tbody tr th {\n",
              "        vertical-align: top;\n",
              "    }\n",
              "\n",
              "    .dataframe thead th {\n",
              "        text-align: right;\n",
              "    }\n",
              "</style>\n",
              "<table border=\"1\" class=\"dataframe\">\n",
              "  <thead>\n",
              "    <tr style=\"text-align: right;\">\n",
              "      <th></th>\n",
              "      <th>province_spread</th>\n",
              "    </tr>\n",
              "    <tr>\n",
              "      <th>risk</th>\n",
              "      <th></th>\n",
              "    </tr>\n",
              "  </thead>\n",
              "  <tbody>\n",
              "    <tr>\n",
              "      <th>Cluster Icon siam</th>\n",
              "      <td>2</td>\n",
              "    </tr>\n",
              "    <tr>\n",
              "      <th>Cluster Memory 90's กรุงเทพมหานคร</th>\n",
              "      <td>3</td>\n",
              "    </tr>\n",
              "    <tr>\n",
              "      <th>Cluster New Jazz กรุงเทพมหานคร</th>\n",
              "      <td>2</td>\n",
              "    </tr>\n",
              "    <tr>\n",
              "      <th>Cluster The Lounge Salaya</th>\n",
              "      <td>2</td>\n",
              "    </tr>\n",
              "    <tr>\n",
              "      <th>Cluster กรุงเทพมหานคร. คลองเตย</th>\n",
              "      <td>1</td>\n",
              "    </tr>\n",
              "  </tbody>\n",
              "</table>\n",
              "</div>"
            ],
            "text/plain": [
              "                                   province_spread\n",
              "risk                                              \n",
              "Cluster Icon siam                                2\n",
              "Cluster Memory 90's กรุงเทพมหานคร                3\n",
              "Cluster New Jazz กรุงเทพมหานคร                   2\n",
              "Cluster The Lounge Salaya                        2\n",
              "Cluster กรุงเทพมหานคร. คลองเตย                   1"
            ]
          },
          "metadata": {
            "tags": []
          },
          "execution_count": 129
        }
      ]
    },
    {
      "cell_type": "code",
      "metadata": {
        "id": "zkjG8KC3ikE-"
      },
      "source": [
        "jdat = cper.join(csize).join(cspread)"
      ],
      "execution_count": null,
      "outputs": []
    },
    {
      "cell_type": "code",
      "metadata": {
        "colab": {
          "base_uri": "https://localhost:8080/",
          "height": 235
        },
        "id": "EEL_0KZrr7yO",
        "outputId": "bf33399e-1af7-4142-e98b-fa683bf5ec26"
      },
      "source": [
        "jdat.head()"
      ],
      "execution_count": null,
      "outputs": [
        {
          "output_type": "execute_result",
          "data": {
            "text/html": [
              "<div>\n",
              "<style scoped>\n",
              "    .dataframe tbody tr th:only-of-type {\n",
              "        vertical-align: middle;\n",
              "    }\n",
              "\n",
              "    .dataframe tbody tr th {\n",
              "        vertical-align: top;\n",
              "    }\n",
              "\n",
              "    .dataframe thead th {\n",
              "        text-align: right;\n",
              "    }\n",
              "</style>\n",
              "<table border=\"1\" class=\"dataframe\">\n",
              "  <thead>\n",
              "    <tr style=\"text-align: right;\">\n",
              "      <th></th>\n",
              "      <th>period</th>\n",
              "      <th>count</th>\n",
              "      <th>pspread</th>\n",
              "    </tr>\n",
              "    <tr>\n",
              "      <th>custname</th>\n",
              "      <th></th>\n",
              "      <th></th>\n",
              "      <th></th>\n",
              "    </tr>\n",
              "  </thead>\n",
              "  <tbody>\n",
              "    <tr>\n",
              "      <th>Cluster สมุทรสาคร</th>\n",
              "      <td>144</td>\n",
              "      <td>17900</td>\n",
              "      <td>49</td>\n",
              "    </tr>\n",
              "    <tr>\n",
              "      <th>Cluster ระยอง</th>\n",
              "      <td>133</td>\n",
              "      <td>482</td>\n",
              "      <td>18</td>\n",
              "    </tr>\n",
              "    <tr>\n",
              "      <th>Cluster บ่อนไก่อ่างทอง</th>\n",
              "      <td>118</td>\n",
              "      <td>69</td>\n",
              "      <td>8</td>\n",
              "    </tr>\n",
              "    <tr>\n",
              "      <th>Cluster จันทบุรี</th>\n",
              "      <td>117</td>\n",
              "      <td>75</td>\n",
              "      <td>2</td>\n",
              "    </tr>\n",
              "    <tr>\n",
              "      <th>Cluster โรงงาน Big Star</th>\n",
              "      <td>67</td>\n",
              "      <td>64</td>\n",
              "      <td>2</td>\n",
              "    </tr>\n",
              "  </tbody>\n",
              "</table>\n",
              "</div>"
            ],
            "text/plain": [
              "                         period  count  pspread\n",
              "custname                                       \n",
              "Cluster สมุทรสาคร           144  17900       49\n",
              "Cluster ระยอง               133    482       18\n",
              "Cluster บ่อนไก่อ่างทอง      118     69        8\n",
              "Cluster จันทบุรี            117     75        2\n",
              "Cluster โรงงาน Big Star      67     64        2"
            ]
          },
          "metadata": {
            "tags": []
          },
          "execution_count": 494
        }
      ]
    },
    {
      "cell_type": "code",
      "metadata": {
        "colab": {
          "base_uri": "https://localhost:8080/",
          "height": 542
        },
        "id": "QKQynkrio0Ti",
        "outputId": "9cbd8945-99e7-4928-ca8b-48ef79cc7deb"
      },
      "source": [
        "import plotly.express as px\n",
        "fig = px.scatter(y=jdat['count'], x=jdat['province_spread'],color=list(jdat.index),size=jdat['period'],labels={\n",
        "                     \"x\": \"#province spreaded\",\n",
        "                     \"y\": \"count\",\n",
        "                     \"color\": \"cluster\",\n",
        "                     \"size\":\"spread days\"})\n",
        "fig.show()"
      ],
      "execution_count": null,
      "outputs": [
        {
          "output_type": "display_data",
          "data": {
            "text/html": [
              "<html>\n",
              "<head><meta charset=\"utf-8\" /></head>\n",
              "<body>\n",
              "    <div>\n",
              "            <script src=\"https://cdnjs.cloudflare.com/ajax/libs/mathjax/2.7.5/MathJax.js?config=TeX-AMS-MML_SVG\"></script><script type=\"text/javascript\">if (window.MathJax) {MathJax.Hub.Config({SVG: {font: \"STIX-Web\"}});}</script>\n",
              "                <script type=\"text/javascript\">window.PlotlyConfig = {MathJaxConfig: 'local'};</script>\n",
              "        <script src=\"https://cdn.plot.ly/plotly-latest.min.js\"></script>    \n",
              "            <div id=\"90f78f76-3994-4a28-942e-3c61270ac8cd\" class=\"plotly-graph-div\" style=\"height:525px; width:100%;\"></div>\n",
              "            <script type=\"text/javascript\">\n",
              "                \n",
              "                    window.PLOTLYENV=window.PLOTLYENV || {};\n",
              "                    \n",
              "                if (document.getElementById(\"90f78f76-3994-4a28-942e-3c61270ac8cd\")) {\n",
              "                    Plotly.newPlot(\n",
              "                        '90f78f76-3994-4a28-942e-3c61270ac8cd',\n",
              "                        [{\"hoverlabel\": {\"namelength\": 0}, \"hovertemplate\": \"cluster=Cluster \\u0e2a\\u0e21\\u0e38\\u0e17\\u0e23\\u0e2a\\u0e32\\u0e04\\u0e23<br>#province spreaded=%{x}<br>count=%{y}<br>spread days=%{marker.size}\", \"legendgroup\": \"cluster=Cluster \\u0e2a\\u0e21\\u0e38\\u0e17\\u0e23\\u0e2a\\u0e32\\u0e04\\u0e23\", \"marker\": {\"color\": \"#636efa\", \"size\": [144], \"sizemode\": \"area\", \"sizeref\": 0.36, \"symbol\": \"circle\"}, \"mode\": \"markers\", \"name\": \"cluster=Cluster \\u0e2a\\u0e21\\u0e38\\u0e17\\u0e23\\u0e2a\\u0e32\\u0e04\\u0e23\", \"showlegend\": true, \"type\": \"scatter\", \"x\": [49], \"xaxis\": \"x\", \"y\": [17900], \"yaxis\": \"y\"}, {\"hoverlabel\": {\"namelength\": 0}, \"hovertemplate\": \"cluster=Cluster \\u0e23\\u0e30\\u0e22\\u0e2d\\u0e07<br>#province spreaded=%{x}<br>count=%{y}<br>spread days=%{marker.size}\", \"legendgroup\": \"cluster=Cluster \\u0e23\\u0e30\\u0e22\\u0e2d\\u0e07\", \"marker\": {\"color\": \"#EF553B\", \"size\": [133], \"sizemode\": \"area\", \"sizeref\": 0.36, \"symbol\": \"circle\"}, \"mode\": \"markers\", \"name\": \"cluster=Cluster \\u0e23\\u0e30\\u0e22\\u0e2d\\u0e07\", \"showlegend\": true, \"type\": \"scatter\", \"x\": [18], \"xaxis\": \"x\", \"y\": [482], \"yaxis\": \"y\"}, {\"hoverlabel\": {\"namelength\": 0}, \"hovertemplate\": \"cluster=Cluster \\u0e1a\\u0e48\\u0e2d\\u0e19\\u0e44\\u0e01\\u0e48\\u0e2d\\u0e48\\u0e32\\u0e07\\u0e17\\u0e2d\\u0e07<br>#province spreaded=%{x}<br>count=%{y}<br>spread days=%{marker.size}\", \"legendgroup\": \"cluster=Cluster \\u0e1a\\u0e48\\u0e2d\\u0e19\\u0e44\\u0e01\\u0e48\\u0e2d\\u0e48\\u0e32\\u0e07\\u0e17\\u0e2d\\u0e07\", \"marker\": {\"color\": \"#00cc96\", \"size\": [118], \"sizemode\": \"area\", \"sizeref\": 0.36, \"symbol\": \"circle\"}, \"mode\": \"markers\", \"name\": \"cluster=Cluster \\u0e1a\\u0e48\\u0e2d\\u0e19\\u0e44\\u0e01\\u0e48\\u0e2d\\u0e48\\u0e32\\u0e07\\u0e17\\u0e2d\\u0e07\", \"showlegend\": true, \"type\": \"scatter\", \"x\": [8], \"xaxis\": \"x\", \"y\": [69], \"yaxis\": \"y\"}, {\"hoverlabel\": {\"namelength\": 0}, \"hovertemplate\": \"cluster=Cluster \\u0e08\\u0e31\\u0e19\\u0e17\\u0e1a\\u0e38\\u0e23\\u0e35<br>#province spreaded=%{x}<br>count=%{y}<br>spread days=%{marker.size}\", \"legendgroup\": \"cluster=Cluster \\u0e08\\u0e31\\u0e19\\u0e17\\u0e1a\\u0e38\\u0e23\\u0e35\", \"marker\": {\"color\": \"#ab63fa\", \"size\": [117], \"sizemode\": \"area\", \"sizeref\": 0.36, \"symbol\": \"circle\"}, \"mode\": \"markers\", \"name\": \"cluster=Cluster \\u0e08\\u0e31\\u0e19\\u0e17\\u0e1a\\u0e38\\u0e23\\u0e35\", \"showlegend\": true, \"type\": \"scatter\", \"x\": [2], \"xaxis\": \"x\", \"y\": [75], \"yaxis\": \"y\"}, {\"hoverlabel\": {\"namelength\": 0}, \"hovertemplate\": \"cluster=Cluster \\u0e42\\u0e23\\u0e07\\u0e07\\u0e32\\u0e19 Big Star<br>#province spreaded=%{x}<br>count=%{y}<br>spread days=%{marker.size}\", \"legendgroup\": \"cluster=Cluster \\u0e42\\u0e23\\u0e07\\u0e07\\u0e32\\u0e19 Big Star\", \"marker\": {\"color\": \"#FFA15A\", \"size\": [67], \"sizemode\": \"area\", \"sizeref\": 0.36, \"symbol\": \"circle\"}, \"mode\": \"markers\", \"name\": \"cluster=Cluster \\u0e42\\u0e23\\u0e07\\u0e07\\u0e32\\u0e19 Big Star\", \"showlegend\": true, \"type\": \"scatter\", \"x\": [2], \"xaxis\": \"x\", \"y\": [64], \"yaxis\": \"y\"}, {\"hoverlabel\": {\"namelength\": 0}, \"hovertemplate\": \"cluster=Cluster \\u0e1a\\u0e32\\u0e07\\u0e41\\u0e04<br>#province spreaded=%{x}<br>count=%{y}<br>spread days=%{marker.size}\", \"legendgroup\": \"cluster=Cluster \\u0e1a\\u0e32\\u0e07\\u0e41\\u0e04\", \"marker\": {\"color\": \"#19d3f3\", \"size\": [58], \"sizemode\": \"area\", \"sizeref\": 0.36, \"symbol\": \"circle\"}, \"mode\": \"markers\", \"name\": \"cluster=Cluster \\u0e1a\\u0e32\\u0e07\\u0e41\\u0e04\", \"showlegend\": true, \"type\": \"scatter\", \"x\": [13], \"xaxis\": \"x\", \"y\": [677], \"yaxis\": \"y\"}, {\"hoverlabel\": {\"namelength\": 0}, \"hovertemplate\": \"cluster=Cluster \\u0e15\\u0e25\\u0e32\\u0e14\\u0e1e\\u0e23\\u0e1e\\u0e31\\u0e12\\u0e19\\u0e4c<br>#province spreaded=%{x}<br>count=%{y}<br>spread days=%{marker.size}\", \"legendgroup\": \"cluster=Cluster \\u0e15\\u0e25\\u0e32\\u0e14\\u0e1e\\u0e23\\u0e1e\\u0e31\\u0e12\\u0e19\\u0e4c\", \"marker\": {\"color\": \"#FF6692\", \"size\": [54], \"sizemode\": \"area\", \"sizeref\": 0.36, \"symbol\": \"circle\"}, \"mode\": \"markers\", \"name\": \"cluster=Cluster \\u0e15\\u0e25\\u0e32\\u0e14\\u0e1e\\u0e23\\u0e1e\\u0e31\\u0e12\\u0e19\\u0e4c\", \"showlegend\": true, \"type\": \"scatter\", \"x\": [12], \"xaxis\": \"x\", \"y\": [559], \"yaxis\": \"y\"}, {\"hoverlabel\": {\"namelength\": 0}, \"hovertemplate\": \"cluster=Cluster \\u0e40\\u0e04\\u0e23\\u0e37\\u0e2d\\u0e04\\u0e31\\u0e2a\\u0e40\\u0e0b\\u0e48\\u0e2d\\u0e23\\u0e4c\\u0e1e\\u0e35\\u0e04\\u0e42\\u0e2e\\u0e25\\u0e14\\u0e34\\u0e49\\u0e07 (CPG,CPH)<br>#province spreaded=%{x}<br>count=%{y}<br>spread days=%{marker.size}\", \"legendgroup\": \"cluster=Cluster \\u0e40\\u0e04\\u0e23\\u0e37\\u0e2d\\u0e04\\u0e31\\u0e2a\\u0e40\\u0e0b\\u0e48\\u0e2d\\u0e23\\u0e4c\\u0e1e\\u0e35\\u0e04\\u0e42\\u0e2e\\u0e25\\u0e14\\u0e34\\u0e49\\u0e07 (CPG,CPH)\", \"marker\": {\"color\": \"#B6E880\", \"size\": [36], \"sizemode\": \"area\", \"sizeref\": 0.36, \"symbol\": \"circle\"}, \"mode\": \"markers\", \"name\": \"cluster=Cluster \\u0e40\\u0e04\\u0e23\\u0e37\\u0e2d\\u0e04\\u0e31\\u0e2a\\u0e40\\u0e0b\\u0e48\\u0e2d\\u0e23\\u0e4c\\u0e1e\\u0e35\\u0e04\\u0e42\\u0e2e\\u0e25\\u0e14\\u0e34\\u0e49\\u0e07 (CPG,CPH)\", \"showlegend\": true, \"type\": \"scatter\", \"x\": [1], \"xaxis\": \"x\", \"y\": [55], \"yaxis\": \"y\"}, {\"hoverlabel\": {\"namelength\": 0}, \"hovertemplate\": \"cluster=Cluster Memory 90's \\u0e01\\u0e23\\u0e38\\u0e07\\u0e40\\u0e17\\u0e1e\\u0e21\\u0e2b\\u0e32\\u0e19\\u0e04\\u0e23<br>#province spreaded=%{x}<br>count=%{y}<br>spread days=%{marker.size}\", \"legendgroup\": \"cluster=Cluster Memory 90's \\u0e01\\u0e23\\u0e38\\u0e07\\u0e40\\u0e17\\u0e1e\\u0e21\\u0e2b\\u0e32\\u0e19\\u0e04\\u0e23\", \"marker\": {\"color\": \"#FF97FF\", \"size\": [34], \"sizemode\": \"area\", \"sizeref\": 0.36, \"symbol\": \"circle\"}, \"mode\": \"markers\", \"name\": \"cluster=Cluster Memory 90's \\u0e01\\u0e23\\u0e38\\u0e07\\u0e40\\u0e17\\u0e1e\\u0e21\\u0e2b\\u0e32\\u0e19\\u0e04\\u0e23\", \"showlegend\": true, \"type\": \"scatter\", \"x\": [3], \"xaxis\": \"x\", \"y\": [40], \"yaxis\": \"y\"}, {\"hoverlabel\": {\"namelength\": 0}, \"hovertemplate\": \"cluster=Cluster \\u0e1c\\u0e31\\u0e1a Thonglor<br>#province spreaded=%{x}<br>count=%{y}<br>spread days=%{marker.size}\", \"legendgroup\": \"cluster=Cluster \\u0e1c\\u0e31\\u0e1a Thonglor\", \"marker\": {\"color\": \"#FECB52\", \"size\": [33], \"sizemode\": \"area\", \"sizeref\": 0.36, \"symbol\": \"circle\"}, \"mode\": \"markers\", \"name\": \"cluster=Cluster \\u0e1c\\u0e31\\u0e1a Thonglor\", \"showlegend\": true, \"type\": \"scatter\", \"x\": [42], \"xaxis\": \"x\", \"y\": [1093], \"yaxis\": \"y\"}, {\"hoverlabel\": {\"namelength\": 0}, \"hovertemplate\": \"cluster=Cluster New Jazz \\u0e01\\u0e23\\u0e38\\u0e07\\u0e40\\u0e17\\u0e1e\\u0e21\\u0e2b\\u0e32\\u0e19\\u0e04\\u0e23<br>#province spreaded=%{x}<br>count=%{y}<br>spread days=%{marker.size}\", \"legendgroup\": \"cluster=Cluster New Jazz \\u0e01\\u0e23\\u0e38\\u0e07\\u0e40\\u0e17\\u0e1e\\u0e21\\u0e2b\\u0e32\\u0e19\\u0e04\\u0e23\", \"marker\": {\"color\": \"#636efa\", \"size\": [31], \"sizemode\": \"area\", \"sizeref\": 0.36, \"symbol\": \"circle\"}, \"mode\": \"markers\", \"name\": \"cluster=Cluster New Jazz \\u0e01\\u0e23\\u0e38\\u0e07\\u0e40\\u0e17\\u0e1e\\u0e21\\u0e2b\\u0e32\\u0e19\\u0e04\\u0e23\", \"showlegend\": true, \"type\": \"scatter\", \"x\": [2], \"xaxis\": \"x\", \"y\": [23], \"yaxis\": \"y\"}, {\"hoverlabel\": {\"namelength\": 0}, \"hovertemplate\": \"cluster=Cluster \\u0e15\\u0e25\\u0e32\\u0e14\\u0e1a\\u0e32\\u0e07\\u0e1e\\u0e25\\u0e35<br>#province spreaded=%{x}<br>count=%{y}<br>spread days=%{marker.size}\", \"legendgroup\": \"cluster=Cluster \\u0e15\\u0e25\\u0e32\\u0e14\\u0e1a\\u0e32\\u0e07\\u0e1e\\u0e25\\u0e35\", \"marker\": {\"color\": \"#EF553B\", \"size\": [27], \"sizemode\": \"area\", \"sizeref\": 0.36, \"symbol\": \"circle\"}, \"mode\": \"markers\", \"name\": \"cluster=Cluster \\u0e15\\u0e25\\u0e32\\u0e14\\u0e1a\\u0e32\\u0e07\\u0e1e\\u0e25\\u0e35\", \"showlegend\": true, \"type\": \"scatter\", \"x\": [1], \"xaxis\": \"x\", \"y\": [15], \"yaxis\": \"y\"}, {\"hoverlabel\": {\"namelength\": 0}, \"hovertemplate\": \"cluster=Cluster \\u0e0a\\u0e25\\u0e1a\\u0e38\\u0e23\\u0e35 \\u0e42\\u0e23\\u0e07\\u0e40\\u0e1a\\u0e35\\u0e22\\u0e23\\u0e4c 90<br>#province spreaded=%{x}<br>count=%{y}<br>spread days=%{marker.size}\", \"legendgroup\": \"cluster=Cluster \\u0e0a\\u0e25\\u0e1a\\u0e38\\u0e23\\u0e35 \\u0e42\\u0e23\\u0e07\\u0e40\\u0e1a\\u0e35\\u0e22\\u0e23\\u0e4c 90\", \"marker\": {\"color\": \"#00cc96\", \"size\": [20], \"sizemode\": \"area\", \"sizeref\": 0.36, \"symbol\": \"circle\"}, \"mode\": \"markers\", \"name\": \"cluster=Cluster \\u0e0a\\u0e25\\u0e1a\\u0e38\\u0e23\\u0e35 \\u0e42\\u0e23\\u0e07\\u0e40\\u0e1a\\u0e35\\u0e22\\u0e23\\u0e4c 90\", \"showlegend\": true, \"type\": \"scatter\", \"x\": [2], \"xaxis\": \"x\", \"y\": [9], \"yaxis\": \"y\"}, {\"hoverlabel\": {\"namelength\": 0}, \"hovertemplate\": \"cluster=Cluster \\u0e21\\u0e2b\\u0e32\\u0e2a\\u0e32\\u0e23\\u0e04\\u0e32\\u0e21<br>#province spreaded=%{x}<br>count=%{y}<br>spread days=%{marker.size}\", \"legendgroup\": \"cluster=Cluster \\u0e21\\u0e2b\\u0e32\\u0e2a\\u0e32\\u0e23\\u0e04\\u0e32\\u0e21\", \"marker\": {\"color\": \"#ab63fa\", \"size\": [20], \"sizemode\": \"area\", \"sizeref\": 0.36, \"symbol\": \"circle\"}, \"mode\": \"markers\", \"name\": \"cluster=Cluster \\u0e21\\u0e2b\\u0e32\\u0e2a\\u0e32\\u0e23\\u0e04\\u0e32\\u0e21\", \"showlegend\": true, \"type\": \"scatter\", \"x\": [2], \"xaxis\": \"x\", \"y\": [23], \"yaxis\": \"y\"}, {\"hoverlabel\": {\"namelength\": 0}, \"hovertemplate\": \"cluster=Cluster \\u0e1a\\u0e48\\u0e2d\\u0e19\\u0e1e\\u0e31\\u0e17\\u0e22\\u0e32/\\u0e0a\\u0e25\\u0e1a\\u0e38\\u0e23\\u0e35<br>#province spreaded=%{x}<br>count=%{y}<br>spread days=%{marker.size}\", \"legendgroup\": \"cluster=Cluster \\u0e1a\\u0e48\\u0e2d\\u0e19\\u0e1e\\u0e31\\u0e17\\u0e22\\u0e32/\\u0e0a\\u0e25\\u0e1a\\u0e38\\u0e23\\u0e35\", \"marker\": {\"color\": \"#FFA15A\", \"size\": [20], \"sizemode\": \"area\", \"sizeref\": 0.36, \"symbol\": \"circle\"}, \"mode\": \"markers\", \"name\": \"cluster=Cluster \\u0e1a\\u0e48\\u0e2d\\u0e19\\u0e1e\\u0e31\\u0e17\\u0e22\\u0e32/\\u0e0a\\u0e25\\u0e1a\\u0e38\\u0e23\\u0e35\", \"showlegend\": true, \"type\": \"scatter\", \"x\": [6], \"xaxis\": \"x\", \"y\": [98], \"yaxis\": \"y\"}, {\"hoverlabel\": {\"namelength\": 0}, \"hovertemplate\": \"cluster=Cluster \\u0e04\\u0e25\\u0e2d\\u0e07\\u0e40\\u0e15\\u0e22<br>#province spreaded=%{x}<br>count=%{y}<br>spread days=%{marker.size}\", \"legendgroup\": \"cluster=Cluster \\u0e04\\u0e25\\u0e2d\\u0e07\\u0e40\\u0e15\\u0e22\", \"marker\": {\"color\": \"#19d3f3\", \"size\": [10], \"sizemode\": \"area\", \"sizeref\": 0.36, \"symbol\": \"circle\"}, \"mode\": \"markers\", \"name\": \"cluster=Cluster \\u0e04\\u0e25\\u0e2d\\u0e07\\u0e40\\u0e15\\u0e22\", \"showlegend\": true, \"type\": \"scatter\", \"x\": [12], \"xaxis\": \"x\", \"y\": [671], \"yaxis\": \"y\"}, {\"hoverlabel\": {\"namelength\": 0}, \"hovertemplate\": \"cluster=Cluster The Lounge Salaya<br>#province spreaded=%{x}<br>count=%{y}<br>spread days=%{marker.size}\", \"legendgroup\": \"cluster=Cluster The Lounge Salaya\", \"marker\": {\"color\": \"#FF6692\", \"size\": [10], \"sizemode\": \"area\", \"sizeref\": 0.36, \"symbol\": \"circle\"}, \"mode\": \"markers\", \"name\": \"cluster=Cluster The Lounge Salaya\", \"showlegend\": true, \"type\": \"scatter\", \"x\": [2], \"xaxis\": \"x\", \"y\": [10], \"yaxis\": \"y\"}, {\"hoverlabel\": {\"namelength\": 0}, \"hovertemplate\": \"cluster=Cluster \\u0e2a\\u0e21\\u0e38\\u0e17\\u0e23\\u0e1b\\u0e23\\u0e32\\u0e01\\u0e32\\u0e23 (\\u0e42\\u0e23\\u0e07\\u0e07\\u0e32\\u0e19 \\u0e1a\\u0e23\\u0e34\\u0e29\\u0e31\\u0e17\\u0e40\\u0e21\\u0e17\\u0e31\\u0e25 \\u0e42\\u0e1b\\u0e23\\u0e14\\u0e31\\u0e01\\u0e2a\\u0e4c)<br>#province spreaded=%{x}<br>count=%{y}<br>spread days=%{marker.size}\", \"legendgroup\": \"cluster=Cluster \\u0e2a\\u0e21\\u0e38\\u0e17\\u0e23\\u0e1b\\u0e23\\u0e32\\u0e01\\u0e32\\u0e23 (\\u0e42\\u0e23\\u0e07\\u0e07\\u0e32\\u0e19 \\u0e1a\\u0e23\\u0e34\\u0e29\\u0e31\\u0e17\\u0e40\\u0e21\\u0e17\\u0e31\\u0e25 \\u0e42\\u0e1b\\u0e23\\u0e14\\u0e31\\u0e01\\u0e2a\\u0e4c)\", \"marker\": {\"color\": \"#B6E880\", \"size\": [8], \"sizemode\": \"area\", \"sizeref\": 0.36, \"symbol\": \"circle\"}, \"mode\": \"markers\", \"name\": \"cluster=Cluster \\u0e2a\\u0e21\\u0e38\\u0e17\\u0e23\\u0e1b\\u0e23\\u0e32\\u0e01\\u0e32\\u0e23 (\\u0e42\\u0e23\\u0e07\\u0e07\\u0e32\\u0e19 \\u0e1a\\u0e23\\u0e34\\u0e29\\u0e31\\u0e17\\u0e40\\u0e21\\u0e17\\u0e31\\u0e25 \\u0e42\\u0e1b\\u0e23\\u0e14\\u0e31\\u0e01\\u0e2a\\u0e4c)\", \"showlegend\": true, \"type\": \"scatter\", \"x\": [1], \"xaxis\": \"x\", \"y\": [19], \"yaxis\": \"y\"}, {\"hoverlabel\": {\"namelength\": 0}, \"hovertemplate\": \"cluster=Cluster \\u0e08\\u0e31\\u0e19\\u0e17\\u0e1a\\u0e38\\u0e23\\u0e35 (\\u0e0a\\u0e32\\u0e27\\u0e01\\u0e34\\u0e19\\u0e35)<br>#province spreaded=%{x}<br>count=%{y}<br>spread days=%{marker.size}\", \"legendgroup\": \"cluster=Cluster \\u0e08\\u0e31\\u0e19\\u0e17\\u0e1a\\u0e38\\u0e23\\u0e35 (\\u0e0a\\u0e32\\u0e27\\u0e01\\u0e34\\u0e19\\u0e35)\", \"marker\": {\"color\": \"#FF97FF\", \"size\": [4], \"sizemode\": \"area\", \"sizeref\": 0.36, \"symbol\": \"circle\"}, \"mode\": \"markers\", \"name\": \"cluster=Cluster \\u0e08\\u0e31\\u0e19\\u0e17\\u0e1a\\u0e38\\u0e23\\u0e35 (\\u0e0a\\u0e32\\u0e27\\u0e01\\u0e34\\u0e19\\u0e35)\", \"showlegend\": true, \"type\": \"scatter\", \"x\": [1], \"xaxis\": \"x\", \"y\": [26], \"yaxis\": \"y\"}, {\"hoverlabel\": {\"namelength\": 0}, \"hovertemplate\": \"cluster=Cluster \\u0e15\\u0e25\\u0e32\\u0e14\\u0e19\\u0e19\\u0e17\\u0e1a\\u0e38\\u0e23\\u0e35<br>#province spreaded=%{x}<br>count=%{y}<br>spread days=%{marker.size}\", \"legendgroup\": \"cluster=Cluster \\u0e15\\u0e25\\u0e32\\u0e14\\u0e19\\u0e19\\u0e17\\u0e1a\\u0e38\\u0e23\\u0e35\", \"marker\": {\"color\": \"#FECB52\", \"size\": [3], \"sizemode\": \"area\", \"sizeref\": 0.36, \"symbol\": \"circle\"}, \"mode\": \"markers\", \"name\": \"cluster=Cluster \\u0e15\\u0e25\\u0e32\\u0e14\\u0e19\\u0e19\\u0e17\\u0e1a\\u0e38\\u0e23\\u0e35\", \"showlegend\": true, \"type\": \"scatter\", \"x\": [3], \"xaxis\": \"x\", \"y\": [85], \"yaxis\": \"y\"}, {\"hoverlabel\": {\"namelength\": 0}, \"hovertemplate\": \"cluster=Cluster Icon siam<br>#province spreaded=%{x}<br>count=%{y}<br>spread days=%{marker.size}\", \"legendgroup\": \"cluster=Cluster Icon siam\", \"marker\": {\"color\": \"#636efa\", \"size\": [3], \"sizemode\": \"area\", \"sizeref\": 0.36, \"symbol\": \"circle\"}, \"mode\": \"markers\", \"name\": \"cluster=Cluster Icon siam\", \"showlegend\": true, \"type\": \"scatter\", \"x\": [2], \"xaxis\": \"x\", \"y\": [11], \"yaxis\": \"y\"}, {\"hoverlabel\": {\"namelength\": 0}, \"hovertemplate\": \"cluster=Cluster \\u0e42\\u0e23\\u0e07\\u0e07\\u0e32\\u0e19 QPP \\u0e1b\\u0e23\\u0e30\\u0e08\\u0e27\\u0e1a\\u0e2f<br>#province spreaded=%{x}<br>count=%{y}<br>spread days=%{marker.size}\", \"legendgroup\": \"cluster=Cluster \\u0e42\\u0e23\\u0e07\\u0e07\\u0e32\\u0e19 QPP \\u0e1b\\u0e23\\u0e30\\u0e08\\u0e27\\u0e1a\\u0e2f\", \"marker\": {\"color\": \"#EF553B\", \"size\": [3], \"sizemode\": \"area\", \"sizeref\": 0.36, \"symbol\": \"circle\"}, \"mode\": \"markers\", \"name\": \"cluster=Cluster \\u0e42\\u0e23\\u0e07\\u0e07\\u0e32\\u0e19 QPP \\u0e1b\\u0e23\\u0e30\\u0e08\\u0e27\\u0e1a\\u0e2f\", \"showlegend\": true, \"type\": \"scatter\", \"x\": [1], \"xaxis\": \"x\", \"y\": [69], \"yaxis\": \"y\"}, {\"hoverlabel\": {\"namelength\": 0}, \"hovertemplate\": \"cluster=Cluster \\u0e15\\u0e25\\u0e32\\u0e14\\u0e2a\\u0e35\\u0e48\\u0e21\\u0e38\\u0e21\\u0e40\\u0e21\\u0e37\\u0e2d\\u0e07<br>#province spreaded=%{x}<br>count=%{y}<br>spread days=%{marker.size}\", \"legendgroup\": \"cluster=Cluster \\u0e15\\u0e25\\u0e32\\u0e14\\u0e2a\\u0e35\\u0e48\\u0e21\\u0e38\\u0e21\\u0e40\\u0e21\\u0e37\\u0e2d\\u0e07\", \"marker\": {\"color\": \"#00cc96\", \"size\": [3], \"sizemode\": \"area\", \"sizeref\": 0.36, \"symbol\": \"circle\"}, \"mode\": \"markers\", \"name\": \"cluster=Cluster \\u0e15\\u0e25\\u0e32\\u0e14\\u0e2a\\u0e35\\u0e48\\u0e21\\u0e38\\u0e21\\u0e40\\u0e21\\u0e37\\u0e2d\\u0e07\", \"showlegend\": true, \"type\": \"scatter\", \"x\": [14], \"xaxis\": \"x\", \"y\": [344], \"yaxis\": \"y\"}, {\"hoverlabel\": {\"namelength\": 0}, \"hovertemplate\": \"cluster=Cluster \\u0e40\\u0e23\\u0e37\\u0e2d\\u0e19\\u0e08\\u0e33\\u0e01\\u0e25\\u0e32\\u0e07\\u0e04\\u0e25\\u0e2d\\u0e07\\u0e40\\u0e1b\\u0e23\\u0e21<br>#province spreaded=%{x}<br>count=%{y}<br>spread days=%{marker.size}\", \"legendgroup\": \"cluster=Cluster \\u0e40\\u0e23\\u0e37\\u0e2d\\u0e19\\u0e08\\u0e33\\u0e01\\u0e25\\u0e32\\u0e07\\u0e04\\u0e25\\u0e2d\\u0e07\\u0e40\\u0e1b\\u0e23\\u0e21\", \"marker\": {\"color\": \"#ab63fa\", \"size\": [2], \"sizemode\": \"area\", \"sizeref\": 0.36, \"symbol\": \"circle\"}, \"mode\": \"markers\", \"name\": \"cluster=Cluster \\u0e40\\u0e23\\u0e37\\u0e2d\\u0e19\\u0e08\\u0e33\\u0e01\\u0e25\\u0e32\\u0e07\\u0e04\\u0e25\\u0e2d\\u0e07\\u0e40\\u0e1b\\u0e23\\u0e21\", \"showlegend\": true, \"type\": \"scatter\", \"x\": [1], \"xaxis\": \"x\", \"y\": [894], \"yaxis\": \"y\"}, {\"hoverlabel\": {\"namelength\": 0}, \"hovertemplate\": \"cluster=Cluster \\u0e2a\\u0e21\\u0e38\\u0e17\\u0e23\\u0e1b\\u0e23\\u0e32\\u0e01\\u0e32\\u0e23 GRP Hightech<br>#province spreaded=%{x}<br>count=%{y}<br>spread days=%{marker.size}\", \"legendgroup\": \"cluster=Cluster \\u0e2a\\u0e21\\u0e38\\u0e17\\u0e23\\u0e1b\\u0e23\\u0e32\\u0e01\\u0e32\\u0e23 GRP Hightech\", \"marker\": {\"color\": \"#FFA15A\", \"size\": [2], \"sizemode\": \"area\", \"sizeref\": 0.36, \"symbol\": \"circle\"}, \"mode\": \"markers\", \"name\": \"cluster=Cluster \\u0e2a\\u0e21\\u0e38\\u0e17\\u0e23\\u0e1b\\u0e23\\u0e32\\u0e01\\u0e32\\u0e23 GRP Hightech\", \"showlegend\": true, \"type\": \"scatter\", \"x\": [1], \"xaxis\": \"x\", \"y\": [130], \"yaxis\": \"y\"}, {\"hoverlabel\": {\"namelength\": 0}, \"hovertemplate\": \"cluster=Cluster \\u0e40\\u0e23\\u0e37\\u0e2d\\u0e19\\u0e08\\u0e33\\u0e1e\\u0e34\\u0e40\\u0e28\\u0e29\\u0e01\\u0e23\\u0e38\\u0e07\\u0e40\\u0e17\\u0e1e<br>#province spreaded=%{x}<br>count=%{y}<br>spread days=%{marker.size}\", \"legendgroup\": \"cluster=Cluster \\u0e40\\u0e23\\u0e37\\u0e2d\\u0e19\\u0e08\\u0e33\\u0e1e\\u0e34\\u0e40\\u0e28\\u0e29\\u0e01\\u0e23\\u0e38\\u0e07\\u0e40\\u0e17\\u0e1e\", \"marker\": {\"color\": \"#19d3f3\", \"size\": [2], \"sizemode\": \"area\", \"sizeref\": 0.36, \"symbol\": \"circle\"}, \"mode\": \"markers\", \"name\": \"cluster=Cluster \\u0e40\\u0e23\\u0e37\\u0e2d\\u0e19\\u0e08\\u0e33\\u0e1e\\u0e34\\u0e40\\u0e28\\u0e29\\u0e01\\u0e23\\u0e38\\u0e07\\u0e40\\u0e17\\u0e1e\", \"showlegend\": true, \"type\": \"scatter\", \"x\": [2], \"xaxis\": \"x\", \"y\": [2836], \"yaxis\": \"y\"}, {\"hoverlabel\": {\"namelength\": 0}, \"hovertemplate\": \"cluster=Cluster \\u0e08\\u0e19\\u0e17. \\u0e2a\\u0e19\\u0e32\\u0e21\\u0e1a\\u0e34\\u0e19\\u0e2a\\u0e38\\u0e27\\u0e23\\u0e23\\u0e13\\u0e20\\u0e39\\u0e21\\u0e34<br>#province spreaded=%{x}<br>count=%{y}<br>spread days=%{marker.size}\", \"legendgroup\": \"cluster=Cluster \\u0e08\\u0e19\\u0e17. \\u0e2a\\u0e19\\u0e32\\u0e21\\u0e1a\\u0e34\\u0e19\\u0e2a\\u0e38\\u0e27\\u0e23\\u0e23\\u0e13\\u0e20\\u0e39\\u0e21\\u0e34\", \"marker\": {\"color\": \"#FF6692\", \"size\": [1], \"sizemode\": \"area\", \"sizeref\": 0.36, \"symbol\": \"circle\"}, \"mode\": \"markers\", \"name\": \"cluster=Cluster \\u0e08\\u0e19\\u0e17. \\u0e2a\\u0e19\\u0e32\\u0e21\\u0e1a\\u0e34\\u0e19\\u0e2a\\u0e38\\u0e27\\u0e23\\u0e23\\u0e13\\u0e20\\u0e39\\u0e21\\u0e34\", \"showlegend\": true, \"type\": \"scatter\", \"x\": [1], \"xaxis\": \"x\", \"y\": [4], \"yaxis\": \"y\"}, {\"hoverlabel\": {\"namelength\": 0}, \"hovertemplate\": \"cluster=Cluster \\u0e1a\\u0e23\\u0e34\\u0e29\\u0e31\\u0e17\\u0e28\\u0e23\\u0e35\\u0e2a\\u0e27\\u0e31\\u0e2a\\u0e14\\u0e34\\u0e4c<br>#province spreaded=%{x}<br>count=%{y}<br>spread days=%{marker.size}\", \"legendgroup\": \"cluster=Cluster \\u0e1a\\u0e23\\u0e34\\u0e29\\u0e31\\u0e17\\u0e28\\u0e23\\u0e35\\u0e2a\\u0e27\\u0e31\\u0e2a\\u0e14\\u0e34\\u0e4c\", \"marker\": {\"color\": \"#B6E880\", \"size\": [1], \"sizemode\": \"area\", \"sizeref\": 0.36, \"symbol\": \"circle\"}, \"mode\": \"markers\", \"name\": \"cluster=Cluster \\u0e1a\\u0e23\\u0e34\\u0e29\\u0e31\\u0e17\\u0e28\\u0e23\\u0e35\\u0e2a\\u0e27\\u0e31\\u0e2a\\u0e14\\u0e34\\u0e4c\", \"showlegend\": true, \"type\": \"scatter\", \"x\": [1], \"xaxis\": \"x\", \"y\": [16], \"yaxis\": \"y\"}, {\"hoverlabel\": {\"namelength\": 0}, \"hovertemplate\": \"cluster=Cluster \\u0e1a\\u0e48\\u0e2d\\u0e19\\u0e40\\u0e17\\u0e1e\\u0e32\\u0e23\\u0e31\\u0e01\\u0e29\\u0e4c<br>#province spreaded=%{x}<br>count=%{y}<br>spread days=%{marker.size}\", \"legendgroup\": \"cluster=Cluster \\u0e1a\\u0e48\\u0e2d\\u0e19\\u0e40\\u0e17\\u0e1e\\u0e32\\u0e23\\u0e31\\u0e01\\u0e29\\u0e4c\", \"marker\": {\"color\": \"#FF97FF\", \"size\": [1], \"sizemode\": \"area\", \"sizeref\": 0.36, \"symbol\": \"circle\"}, \"mode\": \"markers\", \"name\": \"cluster=Cluster \\u0e1a\\u0e48\\u0e2d\\u0e19\\u0e40\\u0e17\\u0e1e\\u0e32\\u0e23\\u0e31\\u0e01\\u0e29\\u0e4c\", \"showlegend\": true, \"type\": \"scatter\", \"x\": [1], \"xaxis\": \"x\", \"y\": [12], \"yaxis\": \"y\"}, {\"hoverlabel\": {\"namelength\": 0}, \"hovertemplate\": \"cluster=Cluster \\u0e15\\u0e25\\u0e32\\u0e14\\u0e1a\\u0e32\\u0e07\\u0e41\\u0e04<br>#province spreaded=%{x}<br>count=%{y}<br>spread days=%{marker.size}\", \"legendgroup\": \"cluster=Cluster \\u0e15\\u0e25\\u0e32\\u0e14\\u0e1a\\u0e32\\u0e07\\u0e41\\u0e04\", \"marker\": {\"color\": \"#FECB52\", \"size\": [1], \"sizemode\": \"area\", \"sizeref\": 0.36, \"symbol\": \"circle\"}, \"mode\": \"markers\", \"name\": \"cluster=Cluster \\u0e15\\u0e25\\u0e32\\u0e14\\u0e1a\\u0e32\\u0e07\\u0e41\\u0e04\", \"showlegend\": true, \"type\": \"scatter\", \"x\": [1], \"xaxis\": \"x\", \"y\": [1], \"yaxis\": \"y\"}, {\"hoverlabel\": {\"namelength\": 0}, \"hovertemplate\": \"cluster=Cluster \\u0e15\\u0e23\\u0e32\\u0e14<br>#province spreaded=%{x}<br>count=%{y}<br>spread days=%{marker.size}\", \"legendgroup\": \"cluster=Cluster \\u0e15\\u0e23\\u0e32\\u0e14\", \"marker\": {\"color\": \"#636efa\", \"size\": [1], \"sizemode\": \"area\", \"sizeref\": 0.36, \"symbol\": \"circle\"}, \"mode\": \"markers\", \"name\": \"cluster=Cluster \\u0e15\\u0e23\\u0e32\\u0e14\", \"showlegend\": true, \"type\": \"scatter\", \"x\": [1], \"xaxis\": \"x\", \"y\": [6], \"yaxis\": \"y\"}, {\"hoverlabel\": {\"namelength\": 0}, \"hovertemplate\": \"cluster=Cluster \\u0e42\\u0e23\\u0e07\\u0e07\\u0e32\\u0e19\\u0e17\\u0e33\\u0e02\\u0e19\\u0e21 \\u0e1a\\u0e32\\u0e07\\u0e02\\u0e38\\u0e19\\u0e40\\u0e17\\u0e35\\u0e22\\u0e19<br>#province spreaded=%{x}<br>count=%{y}<br>spread days=%{marker.size}\", \"legendgroup\": \"cluster=Cluster \\u0e42\\u0e23\\u0e07\\u0e07\\u0e32\\u0e19\\u0e17\\u0e33\\u0e02\\u0e19\\u0e21 \\u0e1a\\u0e32\\u0e07\\u0e02\\u0e38\\u0e19\\u0e40\\u0e17\\u0e35\\u0e22\\u0e19\", \"marker\": {\"color\": \"#EF553B\", \"size\": [1], \"sizemode\": \"area\", \"sizeref\": 0.36, \"symbol\": \"circle\"}, \"mode\": \"markers\", \"name\": \"cluster=Cluster \\u0e42\\u0e23\\u0e07\\u0e07\\u0e32\\u0e19\\u0e17\\u0e33\\u0e02\\u0e19\\u0e21 \\u0e1a\\u0e32\\u0e07\\u0e02\\u0e38\\u0e19\\u0e40\\u0e17\\u0e35\\u0e22\\u0e19\", \"showlegend\": true, \"type\": \"scatter\", \"x\": [1], \"xaxis\": \"x\", \"y\": [1], \"yaxis\": \"y\"}, {\"hoverlabel\": {\"namelength\": 0}, \"hovertemplate\": \"cluster=Cluster \\u0e2a\\u0e21\\u0e38\\u0e17\\u0e23\\u0e1b\\u0e23\\u0e32\\u0e01\\u0e32\\u0e23 \\u0e15\\u0e25\\u0e32\\u0e14\\u0e40\\u0e04\\u0e2b\\u0e30\\u0e1a\\u0e32\\u0e07\\u0e1e\\u0e25\\u0e35<br>#province spreaded=%{x}<br>count=%{y}<br>spread days=%{marker.size}\", \"legendgroup\": \"cluster=Cluster \\u0e2a\\u0e21\\u0e38\\u0e17\\u0e23\\u0e1b\\u0e23\\u0e32\\u0e01\\u0e32\\u0e23 \\u0e15\\u0e25\\u0e32\\u0e14\\u0e40\\u0e04\\u0e2b\\u0e30\\u0e1a\\u0e32\\u0e07\\u0e1e\\u0e25\\u0e35\", \"marker\": {\"color\": \"#00cc96\", \"size\": [1], \"sizemode\": \"area\", \"sizeref\": 0.36, \"symbol\": \"circle\"}, \"mode\": \"markers\", \"name\": \"cluster=Cluster \\u0e2a\\u0e21\\u0e38\\u0e17\\u0e23\\u0e1b\\u0e23\\u0e32\\u0e01\\u0e32\\u0e23 \\u0e15\\u0e25\\u0e32\\u0e14\\u0e40\\u0e04\\u0e2b\\u0e30\\u0e1a\\u0e32\\u0e07\\u0e1e\\u0e25\\u0e35\", \"showlegend\": true, \"type\": \"scatter\", \"x\": [1], \"xaxis\": \"x\", \"y\": [1], \"yaxis\": \"y\"}, {\"hoverlabel\": {\"namelength\": 0}, \"hovertemplate\": \"cluster=Cluster \\u0e07\\u0e32\\u0e19\\u0e21\\u0e2d\\u0e40\\u0e15\\u0e2d\\u0e23\\u0e4c \\u0e42\\u0e0a\\u0e27\\u0e4c<br>#province spreaded=%{x}<br>count=%{y}<br>spread days=%{marker.size}\", \"legendgroup\": \"cluster=Cluster \\u0e07\\u0e32\\u0e19\\u0e21\\u0e2d\\u0e40\\u0e15\\u0e2d\\u0e23\\u0e4c \\u0e42\\u0e0a\\u0e27\\u0e4c\", \"marker\": {\"color\": \"#ab63fa\", \"size\": [1], \"sizemode\": \"area\", \"sizeref\": 0.36, \"symbol\": \"circle\"}, \"mode\": \"markers\", \"name\": \"cluster=Cluster \\u0e07\\u0e32\\u0e19\\u0e21\\u0e2d\\u0e40\\u0e15\\u0e2d\\u0e23\\u0e4c \\u0e42\\u0e0a\\u0e27\\u0e4c\", \"showlegend\": true, \"type\": \"scatter\", \"x\": [1], \"xaxis\": \"x\", \"y\": [1], \"yaxis\": \"y\"}, {\"hoverlabel\": {\"namelength\": 0}, \"hovertemplate\": \"cluster=Cluster \\u0e40\\u0e23\\u0e37\\u0e2d\\u0e19\\u0e08\\u0e33\\u0e1e\\u0e34\\u0e40\\u0e28\\u0e29\\u0e21\\u0e35\\u0e19\\u0e1a\\u0e38\\u0e23\\u0e35<br>#province spreaded=%{x}<br>count=%{y}<br>spread days=%{marker.size}\", \"legendgroup\": \"cluster=Cluster \\u0e40\\u0e23\\u0e37\\u0e2d\\u0e19\\u0e08\\u0e33\\u0e1e\\u0e34\\u0e40\\u0e28\\u0e29\\u0e21\\u0e35\\u0e19\\u0e1a\\u0e38\\u0e23\\u0e35\", \"marker\": {\"color\": \"#FFA15A\", \"size\": [1], \"sizemode\": \"area\", \"sizeref\": 0.36, \"symbol\": \"circle\"}, \"mode\": \"markers\", \"name\": \"cluster=Cluster \\u0e40\\u0e23\\u0e37\\u0e2d\\u0e19\\u0e08\\u0e33\\u0e1e\\u0e34\\u0e40\\u0e28\\u0e29\\u0e21\\u0e35\\u0e19\\u0e1a\\u0e38\\u0e23\\u0e35\", \"showlegend\": true, \"type\": \"scatter\", \"x\": [1], \"xaxis\": \"x\", \"y\": [5], \"yaxis\": \"y\"}, {\"hoverlabel\": {\"namelength\": 0}, \"hovertemplate\": \"cluster=Cluster \\u0e42\\u0e23\\u0e07\\u0e07\\u0e32\\u0e19  Big Star<br>#province spreaded=%{x}<br>count=%{y}<br>spread days=%{marker.size}\", \"legendgroup\": \"cluster=Cluster \\u0e42\\u0e23\\u0e07\\u0e07\\u0e32\\u0e19  Big Star\", \"marker\": {\"color\": \"#19d3f3\", \"size\": [1], \"sizemode\": \"area\", \"sizeref\": 0.36, \"symbol\": \"circle\"}, \"mode\": \"markers\", \"name\": \"cluster=Cluster \\u0e42\\u0e23\\u0e07\\u0e07\\u0e32\\u0e19  Big Star\", \"showlegend\": true, \"type\": \"scatter\", \"x\": [1], \"xaxis\": \"x\", \"y\": [1], \"yaxis\": \"y\"}, {\"hoverlabel\": {\"namelength\": 0}, \"hovertemplate\": \"cluster=Cluster \\u0e42\\u0e23\\u0e07\\u0e07\\u0e32\\u0e19 standard can<br>#province spreaded=%{x}<br>count=%{y}<br>spread days=%{marker.size}\", \"legendgroup\": \"cluster=Cluster \\u0e42\\u0e23\\u0e07\\u0e07\\u0e32\\u0e19 standard can\", \"marker\": {\"color\": \"#FF6692\", \"size\": [1], \"sizemode\": \"area\", \"sizeref\": 0.36, \"symbol\": \"circle\"}, \"mode\": \"markers\", \"name\": \"cluster=Cluster \\u0e42\\u0e23\\u0e07\\u0e07\\u0e32\\u0e19 standard can\", \"showlegend\": true, \"type\": \"scatter\", \"x\": [1], \"xaxis\": \"x\", \"y\": [7], \"yaxis\": \"y\"}, {\"hoverlabel\": {\"namelength\": 0}, \"hovertemplate\": \"cluster=Cluster \\u0e1b\\u0e32\\u0e01\\u0e0a\\u0e48\\u0e2d\\u0e07<br>#province spreaded=%{x}<br>count=%{y}<br>spread days=%{marker.size}\", \"legendgroup\": \"cluster=Cluster \\u0e1b\\u0e32\\u0e01\\u0e0a\\u0e48\\u0e2d\\u0e07\", \"marker\": {\"color\": \"#B6E880\", \"size\": [1], \"sizemode\": \"area\", \"sizeref\": 0.36, \"symbol\": \"circle\"}, \"mode\": \"markers\", \"name\": \"cluster=Cluster \\u0e1b\\u0e32\\u0e01\\u0e0a\\u0e48\\u0e2d\\u0e07\", \"showlegend\": true, \"type\": \"scatter\", \"x\": [1], \"xaxis\": \"x\", \"y\": [2], \"yaxis\": \"y\"}, {\"hoverlabel\": {\"namelength\": 0}, \"hovertemplate\": \"cluster=Cluster \\u0e15\\u0e25\\u0e32\\u0e14\\u0e1a\\u0e32\\u0e07\\u0e41\\u0e04/\\u0e04\\u0e25\\u0e2d\\u0e07\\u0e02\\u0e27\\u0e32\\u0e07<br>#province spreaded=%{x}<br>count=%{y}<br>spread days=%{marker.size}\", \"legendgroup\": \"cluster=Cluster \\u0e15\\u0e25\\u0e32\\u0e14\\u0e1a\\u0e32\\u0e07\\u0e41\\u0e04/\\u0e04\\u0e25\\u0e2d\\u0e07\\u0e02\\u0e27\\u0e32\\u0e07\", \"marker\": {\"color\": \"#FF97FF\", \"size\": [1], \"sizemode\": \"area\", \"sizeref\": 0.36, \"symbol\": \"circle\"}, \"mode\": \"markers\", \"name\": \"cluster=Cluster \\u0e15\\u0e25\\u0e32\\u0e14\\u0e1a\\u0e32\\u0e07\\u0e41\\u0e04/\\u0e04\\u0e25\\u0e2d\\u0e07\\u0e02\\u0e27\\u0e32\\u0e07\", \"showlegend\": true, \"type\": \"scatter\", \"x\": [1], \"xaxis\": \"x\", \"y\": [1], \"yaxis\": \"y\"}, {\"hoverlabel\": {\"namelength\": 0}, \"hovertemplate\": \"cluster=Cluster \\u0e0a\\u0e25\\u0e1a\\u0e38\\u0e23\\u0e35 \\u0e1a\\u0e23\\u0e34\\u0e29\\u0e31\\u0e17\\u0e44\\u0e14\\u0e01\\u0e34\\u0e49\\u0e19<br>#province spreaded=%{x}<br>count=%{y}<br>spread days=%{marker.size}\", \"legendgroup\": \"cluster=Cluster \\u0e0a\\u0e25\\u0e1a\\u0e38\\u0e23\\u0e35 \\u0e1a\\u0e23\\u0e34\\u0e29\\u0e31\\u0e17\\u0e44\\u0e14\\u0e01\\u0e34\\u0e49\\u0e19\", \"marker\": {\"color\": \"#FECB52\", \"size\": [1], \"sizemode\": \"area\", \"sizeref\": 0.36, \"symbol\": \"circle\"}, \"mode\": \"markers\", \"name\": \"cluster=Cluster \\u0e0a\\u0e25\\u0e1a\\u0e38\\u0e23\\u0e35 \\u0e1a\\u0e23\\u0e34\\u0e29\\u0e31\\u0e17\\u0e44\\u0e14\\u0e01\\u0e34\\u0e49\\u0e19\", \"showlegend\": true, \"type\": \"scatter\", \"x\": [1], \"xaxis\": \"x\", \"y\": [3], \"yaxis\": \"y\"}, {\"hoverlabel\": {\"namelength\": 0}, \"hovertemplate\": \"cluster=Cluster \\u0e40\\u0e23\\u0e37\\u0e2d\\u0e19\\u0e08\\u0e33\\u0e1e\\u0e34\\u0e40\\u0e28\\u0e29\\u0e18\\u0e19\\u0e1a\\u0e38\\u0e23\\u0e35<br>#province spreaded=%{x}<br>count=%{y}<br>spread days=%{marker.size}\", \"legendgroup\": \"cluster=Cluster \\u0e40\\u0e23\\u0e37\\u0e2d\\u0e19\\u0e08\\u0e33\\u0e1e\\u0e34\\u0e40\\u0e28\\u0e29\\u0e18\\u0e19\\u0e1a\\u0e38\\u0e23\\u0e35\", \"marker\": {\"color\": \"#636efa\", \"size\": [1], \"sizemode\": \"area\", \"sizeref\": 0.36, \"symbol\": \"circle\"}, \"mode\": \"markers\", \"name\": \"cluster=Cluster \\u0e40\\u0e23\\u0e37\\u0e2d\\u0e19\\u0e08\\u0e33\\u0e1e\\u0e34\\u0e40\\u0e28\\u0e29\\u0e18\\u0e19\\u0e1a\\u0e38\\u0e23\\u0e35\", \"showlegend\": true, \"type\": \"scatter\", \"x\": [1], \"xaxis\": \"x\", \"y\": [41], \"yaxis\": \"y\"}, {\"hoverlabel\": {\"namelength\": 0}, \"hovertemplate\": \"cluster=Cluster \\u0e01\\u0e23\\u0e38\\u0e07\\u0e40\\u0e17\\u0e1e\\u0e21\\u0e2b\\u0e32\\u0e19\\u0e04\\u0e23. \\u0e04\\u0e25\\u0e2d\\u0e07\\u0e40\\u0e15\\u0e22<br>#province spreaded=%{x}<br>count=%{y}<br>spread days=%{marker.size}\", \"legendgroup\": \"cluster=Cluster \\u0e01\\u0e23\\u0e38\\u0e07\\u0e40\\u0e17\\u0e1e\\u0e21\\u0e2b\\u0e32\\u0e19\\u0e04\\u0e23. \\u0e04\\u0e25\\u0e2d\\u0e07\\u0e40\\u0e15\\u0e22\", \"marker\": {\"color\": \"#EF553B\", \"size\": [1], \"sizemode\": \"area\", \"sizeref\": 0.36, \"symbol\": \"circle\"}, \"mode\": \"markers\", \"name\": \"cluster=Cluster \\u0e01\\u0e23\\u0e38\\u0e07\\u0e40\\u0e17\\u0e1e\\u0e21\\u0e2b\\u0e32\\u0e19\\u0e04\\u0e23. \\u0e04\\u0e25\\u0e2d\\u0e07\\u0e40\\u0e15\\u0e22\", \"showlegend\": true, \"type\": \"scatter\", \"x\": [1], \"xaxis\": \"x\", \"y\": [1], \"yaxis\": \"y\"}, {\"hoverlabel\": {\"namelength\": 0}, \"hovertemplate\": \"cluster=Cluster \\u0e08\\u0e31\\u0e19\\u0e17\\u0e1a\\u0e38\\u0e23\\u0e35 (\\u0e0a\\u0e32\\u0e27\\u0e01\\u0e34\\u0e19\\u0e35 )<br>#province spreaded=%{x}<br>count=%{y}<br>spread days=%{marker.size}\", \"legendgroup\": \"cluster=Cluster \\u0e08\\u0e31\\u0e19\\u0e17\\u0e1a\\u0e38\\u0e23\\u0e35 (\\u0e0a\\u0e32\\u0e27\\u0e01\\u0e34\\u0e19\\u0e35 )\", \"marker\": {\"color\": \"#00cc96\", \"size\": [1], \"sizemode\": \"area\", \"sizeref\": 0.36, \"symbol\": \"circle\"}, \"mode\": \"markers\", \"name\": \"cluster=Cluster \\u0e08\\u0e31\\u0e19\\u0e17\\u0e1a\\u0e38\\u0e23\\u0e35 (\\u0e0a\\u0e32\\u0e27\\u0e01\\u0e34\\u0e19\\u0e35 )\", \"showlegend\": true, \"type\": \"scatter\", \"x\": [1], \"xaxis\": \"x\", \"y\": [12], \"yaxis\": \"y\"}, {\"hoverlabel\": {\"namelength\": 0}, \"hovertemplate\": \"cluster=Cluster \\u0e0a\\u0e25\\u0e1a\\u0e38\\u0e23\\u0e35<br>#province spreaded=%{x}<br>count=%{y}<br>spread days=%{marker.size}\", \"legendgroup\": \"cluster=Cluster \\u0e0a\\u0e25\\u0e1a\\u0e38\\u0e23\\u0e35\", \"marker\": {\"color\": \"#ab63fa\", \"size\": [1], \"sizemode\": \"area\", \"sizeref\": 0.36, \"symbol\": \"circle\"}, \"mode\": \"markers\", \"name\": \"cluster=Cluster \\u0e0a\\u0e25\\u0e1a\\u0e38\\u0e23\\u0e35\", \"showlegend\": true, \"type\": \"scatter\", \"x\": [3], \"xaxis\": \"x\", \"y\": [62], \"yaxis\": \"y\"}, {\"hoverlabel\": {\"namelength\": 0}, \"hovertemplate\": \"cluster=Cluster \\u0e17\\u0e31\\u0e19\\u0e11\\u0e2a\\u0e16\\u0e32\\u0e19\\u0e1a\\u0e33\\u0e1a\\u0e31\\u0e14\\u0e1e\\u0e34\\u0e40\\u0e28\\u0e29\\u0e01\\u0e25\\u0e32\\u0e07<br>#province spreaded=%{x}<br>count=%{y}<br>spread days=%{marker.size}\", \"legendgroup\": \"cluster=Cluster \\u0e17\\u0e31\\u0e19\\u0e11\\u0e2a\\u0e16\\u0e32\\u0e19\\u0e1a\\u0e33\\u0e1a\\u0e31\\u0e14\\u0e1e\\u0e34\\u0e40\\u0e28\\u0e29\\u0e01\\u0e25\\u0e32\\u0e07\", \"marker\": {\"color\": \"#FFA15A\", \"size\": [1], \"sizemode\": \"area\", \"sizeref\": 0.36, \"symbol\": \"circle\"}, \"mode\": \"markers\", \"name\": \"cluster=Cluster \\u0e17\\u0e31\\u0e19\\u0e11\\u0e2a\\u0e16\\u0e32\\u0e19\\u0e1a\\u0e33\\u0e1a\\u0e31\\u0e14\\u0e1e\\u0e34\\u0e40\\u0e28\\u0e29\\u0e01\\u0e25\\u0e32\\u0e07\", \"showlegend\": true, \"type\": \"scatter\", \"x\": [1], \"xaxis\": \"x\", \"y\": [12], \"yaxis\": \"y\"}, {\"hoverlabel\": {\"namelength\": 0}, \"hovertemplate\": \"cluster=Cluster \\u0e17\\u0e31\\u0e13\\u0e11\\u0e2a\\u0e16\\u0e32\\u0e19\\u0e2b\\u0e0d\\u0e34\\u0e07\\u0e01\\u0e25\\u0e32\\u0e07<br>#province spreaded=%{x}<br>count=%{y}<br>spread days=%{marker.size}\", \"legendgroup\": \"cluster=Cluster \\u0e17\\u0e31\\u0e13\\u0e11\\u0e2a\\u0e16\\u0e32\\u0e19\\u0e2b\\u0e0d\\u0e34\\u0e07\\u0e01\\u0e25\\u0e32\\u0e07\", \"marker\": {\"color\": \"#19d3f3\", \"size\": [1], \"sizemode\": \"area\", \"sizeref\": 0.36, \"symbol\": \"circle\"}, \"mode\": \"markers\", \"name\": \"cluster=Cluster \\u0e17\\u0e31\\u0e13\\u0e11\\u0e2a\\u0e16\\u0e32\\u0e19\\u0e2b\\u0e0d\\u0e34\\u0e07\\u0e01\\u0e25\\u0e32\\u0e07\", \"showlegend\": true, \"type\": \"scatter\", \"x\": [1], \"xaxis\": \"x\", \"y\": [78], \"yaxis\": \"y\"}, {\"hoverlabel\": {\"namelength\": 0}, \"hovertemplate\": \"cluster=Cluster \\u0e23\\u0e30\\u0e22\\u0e2d\\u0e07 \\u0e27\\u0e34\\u0e23\\u0e34\\u0e22\\u0e30\\u0e1b\\u0e23\\u0e30\\u0e01\\u0e31\\u0e19\\u0e20\\u0e31\\u0e22<br>#province spreaded=%{x}<br>count=%{y}<br>spread days=%{marker.size}\", \"legendgroup\": \"cluster=Cluster \\u0e23\\u0e30\\u0e22\\u0e2d\\u0e07 \\u0e27\\u0e34\\u0e23\\u0e34\\u0e22\\u0e30\\u0e1b\\u0e23\\u0e30\\u0e01\\u0e31\\u0e19\\u0e20\\u0e31\\u0e22\", \"marker\": {\"color\": \"#FF6692\", \"size\": [1], \"sizemode\": \"area\", \"sizeref\": 0.36, \"symbol\": \"circle\"}, \"mode\": \"markers\", \"name\": \"cluster=Cluster \\u0e23\\u0e30\\u0e22\\u0e2d\\u0e07 \\u0e27\\u0e34\\u0e23\\u0e34\\u0e22\\u0e30\\u0e1b\\u0e23\\u0e30\\u0e01\\u0e31\\u0e19\\u0e20\\u0e31\\u0e22\", \"showlegend\": true, \"type\": \"scatter\", \"x\": [1], \"xaxis\": \"x\", \"y\": [1], \"yaxis\": \"y\"}, {\"hoverlabel\": {\"namelength\": 0}, \"hovertemplate\": \"cluster=Cluster \\u0e17\\u0e31\\u0e13\\u0e11\\u0e2a\\u0e16\\u0e32\\u0e19\\u0e42\\u0e23\\u0e07\\u0e1e\\u0e22\\u0e32\\u0e1a\\u0e32\\u0e25\\u0e23\\u0e32\\u0e0a\\u0e17\\u0e31\\u0e13\\u0e11\\u0e4c<br>#province spreaded=%{x}<br>count=%{y}<br>spread days=%{marker.size}\", \"legendgroup\": \"cluster=Cluster \\u0e17\\u0e31\\u0e13\\u0e11\\u0e2a\\u0e16\\u0e32\\u0e19\\u0e42\\u0e23\\u0e07\\u0e1e\\u0e22\\u0e32\\u0e1a\\u0e32\\u0e25\\u0e23\\u0e32\\u0e0a\\u0e17\\u0e31\\u0e13\\u0e11\\u0e4c\", \"marker\": {\"color\": \"#B6E880\", \"size\": [1], \"sizemode\": \"area\", \"sizeref\": 0.36, \"symbol\": \"circle\"}, \"mode\": \"markers\", \"name\": \"cluster=Cluster \\u0e17\\u0e31\\u0e13\\u0e11\\u0e2a\\u0e16\\u0e32\\u0e19\\u0e42\\u0e23\\u0e07\\u0e1e\\u0e22\\u0e32\\u0e1a\\u0e32\\u0e25\\u0e23\\u0e32\\u0e0a\\u0e17\\u0e31\\u0e13\\u0e11\\u0e4c\", \"showlegend\": true, \"type\": \"scatter\", \"x\": [1], \"xaxis\": \"x\", \"y\": [30], \"yaxis\": \"y\"}, {\"hoverlabel\": {\"namelength\": 0}, \"hovertemplate\": \"cluster=Cluster \\u0e2b\\u0e49\\u0e32\\u0e07\\u0e41\\u0e2a\\u0e07\\u0e17\\u0e2d\\u0e07 (\\u0e2a\\u0e32\\u0e22\\u0e25\\u0e48\\u0e32\\u0e07)<br>#province spreaded=%{x}<br>count=%{y}<br>spread days=%{marker.size}\", \"legendgroup\": \"cluster=Cluster \\u0e2b\\u0e49\\u0e32\\u0e07\\u0e41\\u0e2a\\u0e07\\u0e17\\u0e2d\\u0e07 (\\u0e2a\\u0e32\\u0e22\\u0e25\\u0e48\\u0e32\\u0e07)\", \"marker\": {\"color\": \"#FF97FF\", \"size\": [1], \"sizemode\": \"area\", \"sizeref\": 0.36, \"symbol\": \"circle\"}, \"mode\": \"markers\", \"name\": \"cluster=Cluster \\u0e2b\\u0e49\\u0e32\\u0e07\\u0e41\\u0e2a\\u0e07\\u0e17\\u0e2d\\u0e07 (\\u0e2a\\u0e32\\u0e22\\u0e25\\u0e48\\u0e32\\u0e07)\", \"showlegend\": true, \"type\": \"scatter\", \"x\": [1], \"xaxis\": \"x\", \"y\": [16], \"yaxis\": \"y\"}, {\"hoverlabel\": {\"namelength\": 0}, \"hovertemplate\": \"cluster=Cluster \\u0e2a\\u0e16\\u0e32\\u0e19\\u0e1a\\u0e31\\u0e19\\u0e40\\u0e17\\u0e34\\u0e07\\u0e22\\u0e48\\u0e32\\u0e19\\u0e17\\u0e2d\\u0e07\\u0e2b\\u0e25\\u0e48\\u0e2d<br>#province spreaded=%{x}<br>count=%{y}<br>spread days=%{marker.size}\", \"legendgroup\": \"cluster=Cluster \\u0e2a\\u0e16\\u0e32\\u0e19\\u0e1a\\u0e31\\u0e19\\u0e40\\u0e17\\u0e34\\u0e07\\u0e22\\u0e48\\u0e32\\u0e19\\u0e17\\u0e2d\\u0e07\\u0e2b\\u0e25\\u0e48\\u0e2d\", \"marker\": {\"color\": \"#FECB52\", \"size\": [1], \"sizemode\": \"area\", \"sizeref\": 0.36, \"symbol\": \"circle\"}, \"mode\": \"markers\", \"name\": \"cluster=Cluster \\u0e2a\\u0e16\\u0e32\\u0e19\\u0e1a\\u0e31\\u0e19\\u0e40\\u0e17\\u0e34\\u0e07\\u0e22\\u0e48\\u0e32\\u0e19\\u0e17\\u0e2d\\u0e07\\u0e2b\\u0e25\\u0e48\\u0e2d\", \"showlegend\": true, \"type\": \"scatter\", \"x\": [1], \"xaxis\": \"x\", \"y\": [3], \"yaxis\": \"y\"}, {\"hoverlabel\": {\"namelength\": 0}, \"hovertemplate\": \"cluster=Cluster \\u0e15\\u0e23\\u0e32\\u0e14 <br>#province spreaded=%{x}<br>count=%{y}<br>spread days=%{marker.size}\", \"legendgroup\": \"cluster=Cluster \\u0e15\\u0e23\\u0e32\\u0e14 \", \"marker\": {\"color\": \"#636efa\", \"size\": [1], \"sizemode\": \"area\", \"sizeref\": 0.36, \"symbol\": \"circle\"}, \"mode\": \"markers\", \"name\": \"cluster=Cluster \\u0e15\\u0e23\\u0e32\\u0e14 \", \"showlegend\": true, \"type\": \"scatter\", \"x\": [1], \"xaxis\": \"x\", \"y\": [3], \"yaxis\": \"y\"}],\n",
              "                        {\"legend\": {\"itemsizing\": \"constant\", \"tracegroupgap\": 0}, \"margin\": {\"t\": 60}, \"template\": {\"data\": {\"bar\": [{\"error_x\": {\"color\": \"#2a3f5f\"}, \"error_y\": {\"color\": \"#2a3f5f\"}, \"marker\": {\"line\": {\"color\": \"#E5ECF6\", \"width\": 0.5}}, \"type\": \"bar\"}], \"barpolar\": [{\"marker\": {\"line\": {\"color\": \"#E5ECF6\", \"width\": 0.5}}, \"type\": \"barpolar\"}], \"carpet\": [{\"aaxis\": {\"endlinecolor\": \"#2a3f5f\", \"gridcolor\": \"white\", \"linecolor\": \"white\", \"minorgridcolor\": \"white\", \"startlinecolor\": \"#2a3f5f\"}, \"baxis\": {\"endlinecolor\": \"#2a3f5f\", \"gridcolor\": \"white\", \"linecolor\": \"white\", \"minorgridcolor\": \"white\", \"startlinecolor\": \"#2a3f5f\"}, \"type\": \"carpet\"}], \"choropleth\": [{\"colorbar\": {\"outlinewidth\": 0, \"ticks\": \"\"}, \"type\": \"choropleth\"}], \"contour\": [{\"colorbar\": {\"outlinewidth\": 0, \"ticks\": \"\"}, \"colorscale\": [[0.0, \"#0d0887\"], [0.1111111111111111, \"#46039f\"], [0.2222222222222222, \"#7201a8\"], [0.3333333333333333, \"#9c179e\"], [0.4444444444444444, \"#bd3786\"], [0.5555555555555556, \"#d8576b\"], [0.6666666666666666, \"#ed7953\"], [0.7777777777777778, \"#fb9f3a\"], [0.8888888888888888, \"#fdca26\"], [1.0, \"#f0f921\"]], \"type\": \"contour\"}], \"contourcarpet\": [{\"colorbar\": {\"outlinewidth\": 0, \"ticks\": \"\"}, \"type\": \"contourcarpet\"}], \"heatmap\": [{\"colorbar\": {\"outlinewidth\": 0, \"ticks\": \"\"}, \"colorscale\": [[0.0, \"#0d0887\"], [0.1111111111111111, \"#46039f\"], [0.2222222222222222, \"#7201a8\"], [0.3333333333333333, \"#9c179e\"], [0.4444444444444444, \"#bd3786\"], [0.5555555555555556, \"#d8576b\"], [0.6666666666666666, \"#ed7953\"], [0.7777777777777778, \"#fb9f3a\"], [0.8888888888888888, \"#fdca26\"], [1.0, \"#f0f921\"]], \"type\": \"heatmap\"}], \"heatmapgl\": [{\"colorbar\": {\"outlinewidth\": 0, \"ticks\": \"\"}, \"colorscale\": [[0.0, \"#0d0887\"], [0.1111111111111111, \"#46039f\"], [0.2222222222222222, \"#7201a8\"], [0.3333333333333333, \"#9c179e\"], [0.4444444444444444, \"#bd3786\"], [0.5555555555555556, \"#d8576b\"], [0.6666666666666666, \"#ed7953\"], [0.7777777777777778, \"#fb9f3a\"], [0.8888888888888888, \"#fdca26\"], [1.0, \"#f0f921\"]], \"type\": \"heatmapgl\"}], \"histogram\": [{\"marker\": {\"colorbar\": {\"outlinewidth\": 0, \"ticks\": \"\"}}, \"type\": \"histogram\"}], \"histogram2d\": [{\"colorbar\": {\"outlinewidth\": 0, \"ticks\": \"\"}, \"colorscale\": [[0.0, \"#0d0887\"], [0.1111111111111111, \"#46039f\"], [0.2222222222222222, \"#7201a8\"], [0.3333333333333333, \"#9c179e\"], [0.4444444444444444, \"#bd3786\"], [0.5555555555555556, \"#d8576b\"], [0.6666666666666666, \"#ed7953\"], [0.7777777777777778, \"#fb9f3a\"], [0.8888888888888888, \"#fdca26\"], [1.0, \"#f0f921\"]], \"type\": \"histogram2d\"}], \"histogram2dcontour\": [{\"colorbar\": {\"outlinewidth\": 0, \"ticks\": \"\"}, \"colorscale\": [[0.0, \"#0d0887\"], [0.1111111111111111, \"#46039f\"], [0.2222222222222222, \"#7201a8\"], [0.3333333333333333, \"#9c179e\"], [0.4444444444444444, \"#bd3786\"], [0.5555555555555556, \"#d8576b\"], [0.6666666666666666, \"#ed7953\"], [0.7777777777777778, \"#fb9f3a\"], [0.8888888888888888, \"#fdca26\"], [1.0, \"#f0f921\"]], \"type\": \"histogram2dcontour\"}], \"mesh3d\": [{\"colorbar\": {\"outlinewidth\": 0, \"ticks\": \"\"}, \"type\": \"mesh3d\"}], \"parcoords\": [{\"line\": {\"colorbar\": {\"outlinewidth\": 0, \"ticks\": \"\"}}, \"type\": \"parcoords\"}], \"pie\": [{\"automargin\": true, \"type\": \"pie\"}], \"scatter\": [{\"marker\": {\"colorbar\": {\"outlinewidth\": 0, \"ticks\": \"\"}}, \"type\": \"scatter\"}], \"scatter3d\": [{\"line\": {\"colorbar\": {\"outlinewidth\": 0, \"ticks\": \"\"}}, \"marker\": {\"colorbar\": {\"outlinewidth\": 0, \"ticks\": \"\"}}, \"type\": \"scatter3d\"}], \"scattercarpet\": [{\"marker\": {\"colorbar\": {\"outlinewidth\": 0, \"ticks\": \"\"}}, \"type\": \"scattercarpet\"}], \"scattergeo\": [{\"marker\": {\"colorbar\": {\"outlinewidth\": 0, \"ticks\": \"\"}}, \"type\": \"scattergeo\"}], \"scattergl\": [{\"marker\": {\"colorbar\": {\"outlinewidth\": 0, \"ticks\": \"\"}}, \"type\": \"scattergl\"}], \"scattermapbox\": [{\"marker\": {\"colorbar\": {\"outlinewidth\": 0, \"ticks\": \"\"}}, \"type\": \"scattermapbox\"}], \"scatterpolar\": [{\"marker\": {\"colorbar\": {\"outlinewidth\": 0, \"ticks\": \"\"}}, \"type\": \"scatterpolar\"}], \"scatterpolargl\": [{\"marker\": {\"colorbar\": {\"outlinewidth\": 0, \"ticks\": \"\"}}, \"type\": \"scatterpolargl\"}], \"scatterternary\": [{\"marker\": {\"colorbar\": {\"outlinewidth\": 0, \"ticks\": \"\"}}, \"type\": \"scatterternary\"}], \"surface\": [{\"colorbar\": {\"outlinewidth\": 0, \"ticks\": \"\"}, \"colorscale\": [[0.0, \"#0d0887\"], [0.1111111111111111, \"#46039f\"], [0.2222222222222222, \"#7201a8\"], [0.3333333333333333, \"#9c179e\"], [0.4444444444444444, \"#bd3786\"], [0.5555555555555556, \"#d8576b\"], [0.6666666666666666, \"#ed7953\"], [0.7777777777777778, \"#fb9f3a\"], [0.8888888888888888, \"#fdca26\"], [1.0, \"#f0f921\"]], \"type\": \"surface\"}], \"table\": [{\"cells\": {\"fill\": {\"color\": \"#EBF0F8\"}, \"line\": {\"color\": \"white\"}}, \"header\": {\"fill\": {\"color\": \"#C8D4E3\"}, \"line\": {\"color\": \"white\"}}, \"type\": \"table\"}]}, \"layout\": {\"annotationdefaults\": {\"arrowcolor\": \"#2a3f5f\", \"arrowhead\": 0, \"arrowwidth\": 1}, \"coloraxis\": {\"colorbar\": {\"outlinewidth\": 0, \"ticks\": \"\"}}, \"colorscale\": {\"diverging\": [[0, \"#8e0152\"], [0.1, \"#c51b7d\"], [0.2, \"#de77ae\"], [0.3, \"#f1b6da\"], [0.4, \"#fde0ef\"], [0.5, \"#f7f7f7\"], [0.6, \"#e6f5d0\"], [0.7, \"#b8e186\"], [0.8, \"#7fbc41\"], [0.9, \"#4d9221\"], [1, \"#276419\"]], \"sequential\": [[0.0, \"#0d0887\"], [0.1111111111111111, \"#46039f\"], [0.2222222222222222, \"#7201a8\"], [0.3333333333333333, \"#9c179e\"], [0.4444444444444444, \"#bd3786\"], [0.5555555555555556, \"#d8576b\"], [0.6666666666666666, \"#ed7953\"], [0.7777777777777778, \"#fb9f3a\"], [0.8888888888888888, \"#fdca26\"], [1.0, \"#f0f921\"]], \"sequentialminus\": [[0.0, \"#0d0887\"], [0.1111111111111111, \"#46039f\"], [0.2222222222222222, \"#7201a8\"], [0.3333333333333333, \"#9c179e\"], [0.4444444444444444, \"#bd3786\"], [0.5555555555555556, \"#d8576b\"], [0.6666666666666666, \"#ed7953\"], [0.7777777777777778, \"#fb9f3a\"], [0.8888888888888888, \"#fdca26\"], [1.0, \"#f0f921\"]]}, \"colorway\": [\"#636efa\", \"#EF553B\", \"#00cc96\", \"#ab63fa\", \"#FFA15A\", \"#19d3f3\", \"#FF6692\", \"#B6E880\", \"#FF97FF\", \"#FECB52\"], \"font\": {\"color\": \"#2a3f5f\"}, \"geo\": {\"bgcolor\": \"white\", \"lakecolor\": \"white\", \"landcolor\": \"#E5ECF6\", \"showlakes\": true, \"showland\": true, \"subunitcolor\": \"white\"}, \"hoverlabel\": {\"align\": \"left\"}, \"hovermode\": \"closest\", \"mapbox\": {\"style\": \"light\"}, \"paper_bgcolor\": \"white\", \"plot_bgcolor\": \"#E5ECF6\", \"polar\": {\"angularaxis\": {\"gridcolor\": \"white\", \"linecolor\": \"white\", \"ticks\": \"\"}, \"bgcolor\": \"#E5ECF6\", \"radialaxis\": {\"gridcolor\": \"white\", \"linecolor\": \"white\", \"ticks\": \"\"}}, \"scene\": {\"xaxis\": {\"backgroundcolor\": \"#E5ECF6\", \"gridcolor\": \"white\", \"gridwidth\": 2, \"linecolor\": \"white\", \"showbackground\": true, \"ticks\": \"\", \"zerolinecolor\": \"white\"}, \"yaxis\": {\"backgroundcolor\": \"#E5ECF6\", \"gridcolor\": \"white\", \"gridwidth\": 2, \"linecolor\": \"white\", \"showbackground\": true, \"ticks\": \"\", \"zerolinecolor\": \"white\"}, \"zaxis\": {\"backgroundcolor\": \"#E5ECF6\", \"gridcolor\": \"white\", \"gridwidth\": 2, \"linecolor\": \"white\", \"showbackground\": true, \"ticks\": \"\", \"zerolinecolor\": \"white\"}}, \"shapedefaults\": {\"line\": {\"color\": \"#2a3f5f\"}}, \"ternary\": {\"aaxis\": {\"gridcolor\": \"white\", \"linecolor\": \"white\", \"ticks\": \"\"}, \"baxis\": {\"gridcolor\": \"white\", \"linecolor\": \"white\", \"ticks\": \"\"}, \"bgcolor\": \"#E5ECF6\", \"caxis\": {\"gridcolor\": \"white\", \"linecolor\": \"white\", \"ticks\": \"\"}}, \"title\": {\"x\": 0.05}, \"xaxis\": {\"automargin\": true, \"gridcolor\": \"white\", \"linecolor\": \"white\", \"ticks\": \"\", \"title\": {\"standoff\": 15}, \"zerolinecolor\": \"white\", \"zerolinewidth\": 2}, \"yaxis\": {\"automargin\": true, \"gridcolor\": \"white\", \"linecolor\": \"white\", \"ticks\": \"\", \"title\": {\"standoff\": 15}, \"zerolinecolor\": \"white\", \"zerolinewidth\": 2}}}, \"xaxis\": {\"anchor\": \"y\", \"domain\": [0.0, 1.0], \"title\": {\"text\": \"#province spreaded\"}}, \"yaxis\": {\"anchor\": \"x\", \"domain\": [0.0, 1.0], \"title\": {\"text\": \"count\"}}},\n",
              "                        {\"responsive\": true}\n",
              "                    ).then(function(){\n",
              "                            \n",
              "var gd = document.getElementById('90f78f76-3994-4a28-942e-3c61270ac8cd');\n",
              "var x = new MutationObserver(function (mutations, observer) {{\n",
              "        var display = window.getComputedStyle(gd).display;\n",
              "        if (!display || display === 'none') {{\n",
              "            console.log([gd, 'removed!']);\n",
              "            Plotly.purge(gd);\n",
              "            observer.disconnect();\n",
              "        }}\n",
              "}});\n",
              "\n",
              "// Listen for the removal of the full notebook cells\n",
              "var notebookContainer = gd.closest('#notebook-container');\n",
              "if (notebookContainer) {{\n",
              "    x.observe(notebookContainer, {childList: true});\n",
              "}}\n",
              "\n",
              "// Listen for the clearing of the current output cell\n",
              "var outputEl = gd.closest('.output');\n",
              "if (outputEl) {{\n",
              "    x.observe(outputEl, {childList: true});\n",
              "}}\n",
              "\n",
              "                        })\n",
              "                };\n",
              "                \n",
              "            </script>\n",
              "        </div>\n",
              "</body>\n",
              "</html>"
            ]
          },
          "metadata": {
            "tags": []
          }
        }
      ]
    },
    {
      "cell_type": "markdown",
      "metadata": {
        "id": "VUNNbBDzCsbY"
      },
      "source": [
        "# 5. Segmentation (to be continued)"
      ]
    },
    {
      "cell_type": "code",
      "metadata": {
        "colab": {
          "base_uri": "https://localhost:8080/"
        },
        "id": "kjQKi_PJp0kO",
        "outputId": "fb5e5e16-61ea-4822-89f3-c67f43c3571b"
      },
      "source": [
        "list(njdat.index)"
      ],
      "execution_count": null,
      "outputs": [
        {
          "output_type": "execute_result",
          "data": {
            "text/plain": [
              "['Cluster สมุทรสาคร',\n",
              " 'Cluster ระยอง',\n",
              " 'Cluster บ่อนไก่อ่างทอง',\n",
              " 'Cluster จันทบุรี',\n",
              " 'Cluster โรงงาน Big Star',\n",
              " 'Cluster บางแค',\n",
              " 'Cluster ตลาดพรพัฒน์',\n",
              " 'Cluster เครือคัสเซ่อร์พีคโฮลดิ้ง (CPG,CPH)',\n",
              " \"Cluster Memory 90's กรุงเทพมหานคร\",\n",
              " 'Cluster ผับ Thonglor',\n",
              " 'Cluster New Jazz กรุงเทพมหานคร',\n",
              " 'Cluster ตลาดบางพลี',\n",
              " 'Cluster มหาสารคาม',\n",
              " 'Cluster ชลบุรี โรงเบียร์ 90',\n",
              " 'Cluster บ่อนพัทยา/ชลบุรี',\n",
              " 'Cluster คลองเตย',\n",
              " 'Cluster The Lounge Salaya',\n",
              " 'Cluster สมุทรปราการ (โรงงาน บริษัทเมทัล โปรดักส์)',\n",
              " 'Cluster จันทบุรี (ชาวกินี)',\n",
              " 'Cluster ตลาดนนทบุรี',\n",
              " 'Cluster โรงงาน QPP ประจวบฯ',\n",
              " 'Cluster ตลาดสี่มุมเมือง',\n",
              " 'Cluster Icon siam',\n",
              " 'Cluster เรือนจำกลางคลองเปรม',\n",
              " 'Cluster เรือนจำพิเศษกรุงเทพ',\n",
              " 'Cluster สมุทรปราการ GRP Hightech',\n",
              " 'Cluster ตลาดบางแค/คลองขวาง',\n",
              " 'Cluster จนท. สนามบินสุวรรณภูมิ',\n",
              " 'Cluster ตลาดบางแค',\n",
              " 'Cluster สมุทรปราการ ตลาดเคหะบางพลี',\n",
              " 'Cluster ตราด ',\n",
              " 'Cluster บริษัทศรีสวัสดิ์',\n",
              " 'Cluster เรือนจำพิเศษมีนบุรี',\n",
              " 'Cluster ห้างแสงทอง (สายล่าง)',\n",
              " 'Cluster ตราด',\n",
              " 'Cluster จันทบุรี (ชาวกินี )',\n",
              " 'Cluster ระยอง วิริยะประกันภัย',\n",
              " 'Cluster โรงงาน standard can',\n",
              " 'Cluster ทัณฑสถานหญิงกลาง',\n",
              " 'Cluster ชลบุรี บริษัทไดกิ้น',\n",
              " 'Cluster ทัณฑสถานโรงพยาบาลราชทัณฑ์',\n",
              " 'Cluster เรือนจำพิเศษธนบุรี',\n",
              " 'Cluster สถานบันเทิงย่านทองหล่อ',\n",
              " 'Cluster โรงงานทำขนม บางขุนเทียน',\n",
              " 'Cluster โรงงาน  Big Star',\n",
              " 'Cluster ทันฑสถานบำบัดพิเศษกลาง',\n",
              " 'Cluster ปากช่อง',\n",
              " 'Cluster ชลบุรี',\n",
              " 'Cluster กรุงเทพมหานคร. คลองเตย',\n",
              " 'Cluster งานมอเตอร์ โชว์',\n",
              " 'Cluster บ่อนเทพารักษ์']"
            ]
          },
          "metadata": {
            "tags": []
          },
          "execution_count": 432
        }
      ]
    },
    {
      "cell_type": "code",
      "metadata": {
        "id": "PY6dk93vjgDg"
      },
      "source": [
        "from sklearn.cluster import KMeans\n",
        "mod = KMeans(n_clusters=5, random_state=0)\n",
        "cpr = mod.fit_predict(jdat)"
      ],
      "execution_count": null,
      "outputs": []
    },
    {
      "cell_type": "code",
      "metadata": {
        "id": "UA0GkyCXnk11"
      },
      "source": [
        "njdat = jdat/jdat.sum(0)[['period','count']]"
      ],
      "execution_count": null,
      "outputs": []
    },
    {
      "cell_type": "code",
      "metadata": {
        "id": "JbObSv7OjcWI"
      },
      "source": [
        "jdat['type'] = cpr"
      ],
      "execution_count": null,
      "outputs": []
    },
    {
      "cell_type": "code",
      "metadata": {
        "colab": {
          "base_uri": "https://localhost:8080/",
          "height": 235
        },
        "id": "8kgLh2ASj5GK",
        "outputId": "41a42d73-0acc-438c-d681-5c69535de79e"
      },
      "source": [
        "jdat.groupby(by='type').mean()"
      ],
      "execution_count": null,
      "outputs": [
        {
          "output_type": "execute_result",
          "data": {
            "text/html": [
              "<div>\n",
              "<style scoped>\n",
              "    .dataframe tbody tr th:only-of-type {\n",
              "        vertical-align: middle;\n",
              "    }\n",
              "\n",
              "    .dataframe tbody tr th {\n",
              "        vertical-align: top;\n",
              "    }\n",
              "\n",
              "    .dataframe thead th {\n",
              "        text-align: right;\n",
              "    }\n",
              "</style>\n",
              "<table border=\"1\" class=\"dataframe\">\n",
              "  <thead>\n",
              "    <tr style=\"text-align: right;\">\n",
              "      <th></th>\n",
              "      <th>period</th>\n",
              "      <th>count</th>\n",
              "    </tr>\n",
              "    <tr>\n",
              "      <th>type</th>\n",
              "      <th></th>\n",
              "      <th></th>\n",
              "    </tr>\n",
              "  </thead>\n",
              "  <tbody>\n",
              "    <tr>\n",
              "      <th>0</th>\n",
              "      <td>72.137097</td>\n",
              "      <td>239.548387</td>\n",
              "    </tr>\n",
              "    <tr>\n",
              "      <th>1</th>\n",
              "      <td>495.000000</td>\n",
              "      <td>154482.000000</td>\n",
              "    </tr>\n",
              "    <tr>\n",
              "      <th>2</th>\n",
              "      <td>334.333333</td>\n",
              "      <td>42671.000000</td>\n",
              "    </tr>\n",
              "    <tr>\n",
              "      <th>3</th>\n",
              "      <td>234.333333</td>\n",
              "      <td>19408.000000</td>\n",
              "    </tr>\n",
              "    <tr>\n",
              "      <th>4</th>\n",
              "      <td>448.000000</td>\n",
              "      <td>68757.000000</td>\n",
              "    </tr>\n",
              "  </tbody>\n",
              "</table>\n",
              "</div>"
            ],
            "text/plain": [
              "          period          count\n",
              "type                           \n",
              "0      72.137097     239.548387\n",
              "1     495.000000  154482.000000\n",
              "2     334.333333   42671.000000\n",
              "3     234.333333   19408.000000\n",
              "4     448.000000   68757.000000"
            ]
          },
          "metadata": {
            "tags": []
          },
          "execution_count": 390
        }
      ]
    },
    {
      "cell_type": "code",
      "metadata": {
        "colab": {
          "base_uri": "https://localhost:8080/",
          "height": 235
        },
        "id": "m-q4PvEHkrko",
        "outputId": "453a2c12-2ab8-4645-8267-1b56131dec1d"
      },
      "source": [
        "jdat.groupby(by='type').count()"
      ],
      "execution_count": null,
      "outputs": [
        {
          "output_type": "execute_result",
          "data": {
            "text/html": [
              "<div>\n",
              "<style scoped>\n",
              "    .dataframe tbody tr th:only-of-type {\n",
              "        vertical-align: middle;\n",
              "    }\n",
              "\n",
              "    .dataframe tbody tr th {\n",
              "        vertical-align: top;\n",
              "    }\n",
              "\n",
              "    .dataframe thead th {\n",
              "        text-align: right;\n",
              "    }\n",
              "</style>\n",
              "<table border=\"1\" class=\"dataframe\">\n",
              "  <thead>\n",
              "    <tr style=\"text-align: right;\">\n",
              "      <th></th>\n",
              "      <th>period</th>\n",
              "      <th>count</th>\n",
              "    </tr>\n",
              "    <tr>\n",
              "      <th>type</th>\n",
              "      <th></th>\n",
              "      <th></th>\n",
              "    </tr>\n",
              "  </thead>\n",
              "  <tbody>\n",
              "    <tr>\n",
              "      <th>0</th>\n",
              "      <td>124</td>\n",
              "      <td>124</td>\n",
              "    </tr>\n",
              "    <tr>\n",
              "      <th>1</th>\n",
              "      <td>1</td>\n",
              "      <td>1</td>\n",
              "    </tr>\n",
              "    <tr>\n",
              "      <th>2</th>\n",
              "      <td>3</td>\n",
              "      <td>3</td>\n",
              "    </tr>\n",
              "    <tr>\n",
              "      <th>3</th>\n",
              "      <td>3</td>\n",
              "      <td>3</td>\n",
              "    </tr>\n",
              "    <tr>\n",
              "      <th>4</th>\n",
              "      <td>1</td>\n",
              "      <td>1</td>\n",
              "    </tr>\n",
              "  </tbody>\n",
              "</table>\n",
              "</div>"
            ],
            "text/plain": [
              "      period  count\n",
              "type               \n",
              "0        124    124\n",
              "1          1      1\n",
              "2          3      3\n",
              "3          3      3\n",
              "4          1      1"
            ]
          },
          "metadata": {
            "tags": []
          },
          "execution_count": 391
        }
      ]
    },
    {
      "cell_type": "code",
      "metadata": {
        "colab": {
          "base_uri": "https://localhost:8080/",
          "height": 111
        },
        "id": "NgTUG5nem3fF",
        "outputId": "7112cf57-8dea-4159-e341-f326cd10d200"
      },
      "source": [
        "jdat[jdat['type']==4]"
      ],
      "execution_count": null,
      "outputs": [
        {
          "output_type": "execute_result",
          "data": {
            "text/html": [
              "<div>\n",
              "<style scoped>\n",
              "    .dataframe tbody tr th:only-of-type {\n",
              "        vertical-align: middle;\n",
              "    }\n",
              "\n",
              "    .dataframe tbody tr th {\n",
              "        vertical-align: top;\n",
              "    }\n",
              "\n",
              "    .dataframe thead th {\n",
              "        text-align: right;\n",
              "    }\n",
              "</style>\n",
              "<table border=\"1\" class=\"dataframe\">\n",
              "  <thead>\n",
              "    <tr style=\"text-align: right;\">\n",
              "      <th></th>\n",
              "      <th>period</th>\n",
              "      <th>count</th>\n",
              "      <th>type</th>\n",
              "    </tr>\n",
              "    <tr>\n",
              "      <th>custname</th>\n",
              "      <th></th>\n",
              "      <th></th>\n",
              "      <th></th>\n",
              "    </tr>\n",
              "  </thead>\n",
              "  <tbody>\n",
              "    <tr>\n",
              "      <th>การค้นหาผู้ป่วยเชิงรุกและค้นหาผู้ติดเชื้อในชุมชน</th>\n",
              "      <td>448</td>\n",
              "      <td>68757</td>\n",
              "      <td>4</td>\n",
              "    </tr>\n",
              "  </tbody>\n",
              "</table>\n",
              "</div>"
            ],
            "text/plain": [
              "                                                  period  count  type\n",
              "custname                                                             \n",
              "การค้นหาผู้ป่วยเชิงรุกและค้นหาผู้ติดเชื้อในชุมชน     448  68757     4"
            ]
          },
          "metadata": {
            "tags": []
          },
          "execution_count": 398
        }
      ]
    },
    {
      "cell_type": "code",
      "metadata": {
        "id": "Dh15W7t-bqo6"
      },
      "source": [
        ""
      ],
      "execution_count": null,
      "outputs": []
    },
    {
      "cell_type": "code",
      "metadata": {
        "colab": {
          "base_uri": "https://localhost:8080/",
          "height": 581
        },
        "id": "mB1PIqFeaxir",
        "outputId": "7e0ec848-2f40-464f-afbd-c817fc2e9bfe"
      },
      "source": [
        "fclusdate = clusdate.iloc[:,10:20]\n",
        "fclusdate = fclusdate[fclusdate.sum(1)>0]\n",
        "fclusdate.plot.bar(figsize=(20,10),width=3,logy=True)"
      ],
      "execution_count": null,
      "outputs": [
        {
          "output_type": "execute_result",
          "data": {
            "text/plain": [
              "<matplotlib.axes._subplots.AxesSubplot at 0x7f1e213526d0>"
            ]
          },
          "metadata": {
            "tags": []
          },
          "execution_count": 290
        },
        {
          "output_type": "display_data",
          "data": {
            "image/png": "[encoded data removed]",
            "text/plain": [
              "<Figure size 1440x720 with 1 Axes>"
            ]
          },
          "metadata": {
            "tags": [],
            "needs_background": "light"
          }
        }
      ]
    },
    {
      "cell_type": "code",
      "metadata": {
        "colab": {
          "base_uri": "https://localhost:8080/",
          "height": 581
        },
        "id": "QcnMc0PrdsPE",
        "outputId": "a12fc890-0234-4329-9f30-a1a12112d422"
      },
      "source": [
        "fclusdate = clusdate.iloc[:,20:30]\n",
        "fclusdate = fclusdate[fclusdate.sum(1)>0]\n",
        "fclusdate.plot.bar(figsize=(20,10),width=3,logy=True)"
      ],
      "execution_count": null,
      "outputs": [
        {
          "output_type": "execute_result",
          "data": {
            "text/plain": [
              "<matplotlib.axes._subplots.AxesSubplot at 0x7f1e21410f10>"
            ]
          },
          "metadata": {
            "tags": []
          },
          "execution_count": 291
        },
        {
          "output_type": "display_data",
          "data": {
            "image/png": "[encoded data removed]",
            "text/plain": [
              "<Figure size 1440x720 with 1 Axes>"
            ]
          },
          "metadata": {
            "tags": [],
            "needs_background": "light"
          }
        }
      ]
    },
    {
      "cell_type": "code",
      "metadata": {
        "colab": {
          "base_uri": "https://localhost:8080/",
          "height": 581
        },
        "id": "Cq4m8W7Vd4gq",
        "outputId": "4014f68a-ac23-4d20-923f-efee207552fe"
      },
      "source": [
        "fclusdate = clusdate.iloc[:,30:40]\n",
        "fclusdate = fclusdate[fclusdate.sum(1)>0]\n",
        "fclusdate.plot.bar(figsize=(20,10),width=3,logy=True)"
      ],
      "execution_count": null,
      "outputs": [
        {
          "output_type": "execute_result",
          "data": {
            "text/plain": [
              "<matplotlib.axes._subplots.AxesSubplot at 0x7f1e20a8de90>"
            ]
          },
          "metadata": {
            "tags": []
          },
          "execution_count": 292
        },
        {
          "output_type": "display_data",
          "data": {
            "image/png": "[encoded data removed]",
            "text/plain": [
              "<Figure size 1440x720 with 1 Axes>"
            ]
          },
          "metadata": {
            "tags": [],
            "needs_background": "light"
          }
        }
      ]
    },
    {
      "cell_type": "code",
      "metadata": {
        "colab": {
          "base_uri": "https://localhost:8080/",
          "height": 703
        },
        "id": "jrEMUPPveFNZ",
        "outputId": "4257eed4-6055-4c34-8f7b-ab0c87611451"
      },
      "source": [
        "fclusdate = clusdate.iloc[:,40:50]\n",
        "fclusdate = fclusdate[fclusdate.sum(1)>0]\n",
        "fclusdate.plot.bar(figsize=(20,10),width=3,logy=True)"
      ],
      "execution_count": null,
      "outputs": [
        {
          "output_type": "execute_result",
          "data": {
            "text/plain": [
              "<matplotlib.axes._subplots.AxesSubplot at 0x7f1e1e25c2d0>"
            ]
          },
          "metadata": {
            "tags": []
          },
          "execution_count": 293
        },
        {
          "output_type": "display_data",
          "data": {
            "image/png": "[encoded data removed]",
            "text/plain": [
              "<Figure size 1440x720 with 1 Axes>"
            ]
          },
          "metadata": {
            "tags": [],
            "needs_background": "light"
          }
        }
      ]
    },
    {
      "cell_type": "code",
      "metadata": {
        "colab": {
          "base_uri": "https://localhost:8080/",
          "height": 514
        },
        "id": "B8RFu1x-TqDh",
        "outputId": "f1749f01-f283-4192-eed9-668f0ba3ad40"
      },
      "source": [
        "dat[dat['risk']==lc[0]].groupby('date').count()[['No.']]"
      ],
      "execution_count": null,
      "outputs": [
        {
          "output_type": "execute_result",
          "data": {
            "text/html": [
              "<div>\n",
              "<style scoped>\n",
              "    .dataframe tbody tr th:only-of-type {\n",
              "        vertical-align: middle;\n",
              "    }\n",
              "\n",
              "    .dataframe tbody tr th {\n",
              "        vertical-align: top;\n",
              "    }\n",
              "\n",
              "    .dataframe thead th {\n",
              "        text-align: right;\n",
              "    }\n",
              "</style>\n",
              "<table border=\"1\" class=\"dataframe\">\n",
              "  <thead>\n",
              "    <tr style=\"text-align: right;\">\n",
              "      <th></th>\n",
              "      <th>No.</th>\n",
              "    </tr>\n",
              "    <tr>\n",
              "      <th>date</th>\n",
              "      <th></th>\n",
              "    </tr>\n",
              "  </thead>\n",
              "  <tbody>\n",
              "    <tr>\n",
              "      <th>2021-01-31</th>\n",
              "      <td>4</td>\n",
              "    </tr>\n",
              "    <tr>\n",
              "      <th>2021-02-02</th>\n",
              "      <td>22</td>\n",
              "    </tr>\n",
              "    <tr>\n",
              "      <th>2021-02-03</th>\n",
              "      <td>1</td>\n",
              "    </tr>\n",
              "    <tr>\n",
              "      <th>2021-02-04</th>\n",
              "      <td>1</td>\n",
              "    </tr>\n",
              "    <tr>\n",
              "      <th>2021-02-05</th>\n",
              "      <td>3</td>\n",
              "    </tr>\n",
              "    <tr>\n",
              "      <th>2021-02-06</th>\n",
              "      <td>5</td>\n",
              "    </tr>\n",
              "    <tr>\n",
              "      <th>2021-02-07</th>\n",
              "      <td>2</td>\n",
              "    </tr>\n",
              "    <tr>\n",
              "      <th>2021-02-10</th>\n",
              "      <td>1</td>\n",
              "    </tr>\n",
              "    <tr>\n",
              "      <th>2021-02-11</th>\n",
              "      <td>2</td>\n",
              "    </tr>\n",
              "    <tr>\n",
              "      <th>2021-02-12</th>\n",
              "      <td>3</td>\n",
              "    </tr>\n",
              "    <tr>\n",
              "      <th>2021-02-13</th>\n",
              "      <td>3</td>\n",
              "    </tr>\n",
              "    <tr>\n",
              "      <th>2021-02-14</th>\n",
              "      <td>1</td>\n",
              "    </tr>\n",
              "    <tr>\n",
              "      <th>2021-03-06</th>\n",
              "      <td>6</td>\n",
              "    </tr>\n",
              "    <tr>\n",
              "      <th>2021-03-07</th>\n",
              "      <td>1</td>\n",
              "    </tr>\n",
              "  </tbody>\n",
              "</table>\n",
              "</div>"
            ],
            "text/plain": [
              "            No.\n",
              "date           \n",
              "2021-01-31    4\n",
              "2021-02-02   22\n",
              "2021-02-03    1\n",
              "2021-02-04    1\n",
              "2021-02-05    3\n",
              "2021-02-06    5\n",
              "2021-02-07    2\n",
              "2021-02-10    1\n",
              "2021-02-11    2\n",
              "2021-02-12    3\n",
              "2021-02-13    3\n",
              "2021-02-14    1\n",
              "2021-03-06    6\n",
              "2021-03-07    1"
            ]
          },
          "metadata": {
            "tags": []
          },
          "execution_count": 225
        }
      ]
    },
    {
      "cell_type": "code",
      "metadata": {
        "colab": {
          "base_uri": "https://localhost:8080/",
          "height": 314
        },
        "id": "jlseb-y9KPrn",
        "outputId": "0894d0cf-a905-4999-a2ed-3b1754924604"
      },
      "source": [
        "datas['N'] = datas['sex']\n",
        "datas.groupby(by=['age','sex']).count().plot.bar(figsize=(20,5))"
      ],
      "execution_count": null,
      "outputs": [
        {
          "output_type": "execute_result",
          "data": {
            "text/plain": [
              "<matplotlib.axes._subplots.AxesSubplot at 0x7f1e7216d6d0>"
            ]
          },
          "metadata": {
            "tags": []
          },
          "execution_count": 130
        },
        {
          "output_type": "display_data",
          "data": {
            "image/png": "[encoded data removed]",
            "text/plain": [
              "<Figure size 1440x360 with 1 Axes>"
            ]
          },
          "metadata": {
            "tags": [],
            "needs_background": "light"
          }
        }
      ]
    }
  ]
}